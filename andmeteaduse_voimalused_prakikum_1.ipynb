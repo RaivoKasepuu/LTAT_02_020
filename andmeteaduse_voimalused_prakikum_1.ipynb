{
  "nbformat": 4,
  "nbformat_minor": 0,
  "metadata": {
    "colab": {
      "name": "andmeteaduse_voimalused_prakikum_1.ipynb",
      "provenance": [],
      "collapsed_sections": [
        "Bw_08vsFBlD8"
      ],
      "include_colab_link": true
    },
    "kernelspec": {
      "name": "python3",
      "display_name": "Python 3"
    },
    "language_info": {
      "name": "python"
    }
  },
  "cells": [
    {
      "cell_type": "markdown",
      "metadata": {
        "id": "view-in-github",
        "colab_type": "text"
      },
      "source": [
        "<a href=\"https://colab.research.google.com/github/RaivoKasepuu/LTAT_02_020/blob/main/andmeteaduse_voimalused_prakikum_1.ipynb\" target=\"_parent\"><img src=\"https://colab.research.google.com/assets/colab-badge.svg\" alt=\"Open In Colab\"/></a>"
      ]
    },
    {
      "cell_type": "markdown",
      "metadata": {
        "id": "Bw_08vsFBlD8"
      },
      "source": [
        "# **Praktikum 1**"
      ]
    },
    {
      "cell_type": "markdown",
      "metadata": {
        "id": "BFSG9bSbBzcC"
      },
      "source": [
        "# 1. Tutvume *Google Colab*'iga\n"
      ]
    },
    {
      "cell_type": "markdown",
      "metadata": {
        "id": "cEIww90I8Skf"
      },
      "source": [
        "## 1.1 Miks Google Colab?"
      ]
    },
    {
      "cell_type": "markdown",
      "metadata": {
        "id": "nn0xzFTEHKEc"
      },
      "source": [
        "Kursuse praktiliste ülesannete lahendamiseks kasutame Google Colaboratory keskkonda, mis on mugav variant lihtsamate Pythoni koodijuppide loomiseks ja jagamiseks. Colabi kasutamiseks ei pea oma arvutisse midagi installima, vajalik on üksnes Google'i konto olemasolu. Kui Google'i konto puudub, siis saab ülesandeid küll vaadata, kuid ei saa koodi käivitada."
      ]
    },
    {
      "cell_type": "markdown",
      "metadata": {
        "id": "x6I_VECq8Yve"
      },
      "source": [
        "## 1.2 Colab'i kasutamine"
      ]
    },
    {
      "cell_type": "markdown",
      "metadata": {
        "id": "UJ_ojd-ZCHru"
      },
      "source": [
        "Kõik praktikumide ülesannete failid on sinuga jagatud sellisel kujul, et su enda lisatud muudatused on vaid ajutised ja kustuvad kohe kui veebilehitseja akna sulged. Kui üritad praktikumi faili näiteks ctrl+S abil salvestada, kohtad kohe hoiatust, et sul pole muudatuste salvestamiseks vastavaid õigusi.\n",
        "\n",
        "Vastasel korral saaks kõik praktikumis osalejad algset faili oma soovi järgi muuta ning tulemuseks oleks suur segadus. Selleks, et saaksid enda lisatud koodijuppe ning kommentaare salvestada ja ka hiljem lugeda, pead praktikumi failist endale koopia tegema ja selle Drive'i salvestama. Õnneks on see lihtne:\n",
        "\n",
        "1. Vajuta ülal vasakul nurgas nupule ***File***.\n",
        "2. Vali avanevast rippmenüüst ***Save a copy in Drive*** (*Salvesta koopia Drive'i).\n",
        "3. Sinu isiklik ja salvestatav koopia avaneb uues aknas.\n",
        "4. Leidmaks, kuhu fail Drive's salvestati, vajuta uuesti *File* ning vali rippmenüüst *Locate in drive* (*Tuvasta asukoht Drive'is*).\n",
        "\n",
        "Nüüd on sul praktikumi failist oma isiklik koopia, kuhu saad kirjutada nii ülesannete lahendusi kui ka kommentaare ning tehtud muudatused jäävad alles ka peale veebilehitseja akna sulgemist. \n",
        "\n",
        "**NB!** Pane tähele, et pealkirjade ja alapealkirjade kõrval vasakul pool on pisikesed noolekesed. Neile vajutades saad konkreetse teemaploki avada või sulgeda. Kui nooleke näitab paremale, on teemaplokk suletud ja selle sisu pole näha. Sellest annab märku ka tekst *x cells hidden*. Kui nooleke näitab alla, on teemaplokk avatud. "
      ]
    },
    {
      "cell_type": "markdown",
      "metadata": {
        "id": "4gztzZAa8d5x"
      },
      "source": [
        "## 1.3 Tekst"
      ]
    },
    {
      "cell_type": "markdown",
      "metadata": {
        "id": "fA6bkutiHR0L"
      },
      "source": [
        "Kõige olulisemad osad Colabi dokumendis on koodi- ja tekstikastikesed. Uue tekstikasti lisamiseks on lihtsaim viis vajutada ülal vasakul servas olevale nupule ***+ Text***. Uus kast lisatakse alati viimati klikitud ehk hetkel aktiivse kasti järele. \n",
        "\n",
        "Olemasoleva tekstikasti sisu muutmiseks tuleb tekstil teha **topeltklikk**. Muutmisrežiimis kuvatakse kõrvuti aken, kus toimub teksti muutmine, ning aken, kust näed oma loodava teksti eelvaadet. Kui vajalikud muudatused on tehtud, tuleb muutmisrežiimist väljumiseks lihtsalt **klikkida kuskil tekstikastist väljaspool**. Kaste saab kustutada ning teiste kastide suhtes üles- või allapoole liigutada kasutades aktiivse kasti paremas ülaservas olevaid ikoone. Prügikast kustutab ning nooled liigutavad. \n",
        "\n",
        "Tekstikaste kasutame näiteks pealkirjade ja ülesannete tekstide esitamiseks. Lisaks võid tekstikasti kirjutada ka lühikesi kokkuvõtteid või järeldusi õpitud teemadest ja lahendatud ülesannetest, et endal hiljem lihtsam korrata oleks. Ka need read, mida praegu loed, on kirjutatud just tekstikastikest kasutades.  \n",
        "\n",
        "Katsetamiseks muuda allolevat üherealist tekstikasti nii, et tervituses oleks sõna *TUDENG* asemel sinu enda nimi."
      ]
    },
    {
      "cell_type": "markdown",
      "metadata": {
        "id": "tQJlh5mCD-ME"
      },
      "source": [
        "TERE, TUDENG!\n",
        "\n"
      ]
    },
    {
      "cell_type": "markdown",
      "metadata": {
        "id": "eCvkcGG68ioi"
      },
      "source": [
        "## 1.4 Kood"
      ]
    },
    {
      "cell_type": "markdown",
      "metadata": {
        "id": "HSHU_sIjERJa"
      },
      "source": [
        "Koodikastikestes käib põhiline töö ja koodi kirjutamine. Uue koodikasti lisamiseks vajuta ülal vasakul nurgas nupule ***+ Code***. Kastikeste muutmine, kustutamine ja liigutamine toimub sama loogika alusel nagu tekstikastide puhul. Põhiline erinevus on see, et koodikastidesse saame kirjutada toimivat Pythoni koodi ning saame seda ka käivitada. Vaatame seda ühe lihtsa näite abil. Alljärgnevas koodikastis on üks rida Pythoni koodi: *print(\"Tere, maailm!\")*. See on tihtipeale esimene koodirida, millega Pythoni õpetamist alustatakse. Käsk *print* annab Pythonile mõista, et käsule järgnevates sulgudes olev tekst tuleb ekraanile kuvada. Kui liigume hiirega koodikasti peale, ilmub selle vasakusse serva nurksulgude asemele ring, mille keskel on nooleke (nagu *play* nupp). Sellele vajutades käivitame kastikeses oleva koodijupi. Teine viis kastikese käivitamiseks on vajutada klahvikombinatsiooni *SHIFT+ENTER*.\n",
        "\n",
        "Proovi nüüd ise alljärgnev koodijupp käivitada ja vaata, mis juhtub. Loodetavasti ilmub koodikasti alla lause \"Tere, maailm!\". Seejärel võid proovida kuvatavat lauset muuta. Näiteks kirjuta sõna *maailm* asemele taas enda nimi. "
      ]
    },
    {
      "cell_type": "code",
      "metadata": {
        "id": "92V0O2TRvIBt",
        "colab": {
          "base_uri": "https://localhost:8080/"
        },
        "outputId": "d5e250a8-434a-4031-9824-6611d96e6d5e"
      },
      "source": [
        "print(\"Tere, maailm!\")"
      ],
      "execution_count": null,
      "outputs": [
        {
          "output_type": "stream",
          "name": "stdout",
          "text": [
            "Tere, maailm!\n"
          ]
        }
      ]
    },
    {
      "cell_type": "markdown",
      "metadata": {
        "id": "878oaKNYw6fT"
      },
      "source": [
        "Kui oleme koodikasti käivitanud ja sealt edasi liigume, näeme et kastikese vasakus servas olevate nurksulgude vahele on ilmunud number. See number näitab, mitmendana see konkreetne kastike käivitati. Koodijuppide käivitamise järjekord on tihti väga oluline. Näiteks kui loome ühes koodikastis mingi muutuja ning soovime teises koodikastis selle muutuja väärtust ekraanile kuvada. Muutujat ei saa ju ekraanile kuvada, kui me seda veel loonudki ei ole. Aga sellest kõigest tuleb lähemalt juttu edaspidi. "
      ]
    },
    {
      "cell_type": "markdown",
      "metadata": {
        "id": "KYXQE6Li8mi_"
      },
      "source": [
        "# 2. Sissejuhatus programmeerimisse"
      ]
    },
    {
      "cell_type": "markdown",
      "metadata": {
        "id": "Apvubciq8sAr"
      },
      "source": [
        "## 2.1 Mis on Python?"
      ]
    },
    {
      "cell_type": "markdown",
      "metadata": {
        "id": "9YCy2WoDCYhU"
      },
      "source": [
        "Selle kursuse raames lahendame kõiki ülesandeid kasutades Pythonit. Märksõna *Python* tähistab üheaegselt nii Pythoni programmeerimiskeelt kui ka tööriista, mis käivitab selles keeles kirjutatud programme. Ühe Pythoni programmiga oled nüüdseks juba kokku puutunud - koodirida *print(\"Tere, maailm!\")* on nimelt samuti programm, olgugi et väga lühike. \n",
        "\n",
        "Pythonil on mitmeid eeliseid: \n",
        "- Tasuta, avatud lähtekoodiga ja kasutatav kõigi tähtsamate operatsioonisüsteemidega (Windows, macOS, Linux).\n",
        "- Laialdane kasutajaskond ja *Python Software Foundation*'i tugi, mistõttu on probleemidele lihtsam lahendusi leida. \n",
        "- Pythonit on võrreldes paljude teiste programmeerimiskeeltega üpriski **lihtne õppida**.\n",
        "- Pythoni kood on **reprodutseeritav**. Kui paneme andmeanalüüsi koodi kirja Pythoni programmina, siis saame seda hõlpsasti erinevates olukordades uuesti käivitada. Näiteks uute andmete lisandumisel või vanade andmete muutmisel saame analüüsi jaoks kasutada varasemalt väljatöötatud koodi.\n",
        "- Python on väga **mitmekülgne** keel, mis on võimeline ühenduma paljude olemasolevate rakendustega. Python suudab lugeda ja kirjutada tekstifaile, ühenduda andmebaasidega nii sinu arvutis kui ka veebi vahendusel. \n",
        "- Python on **interdistsiplinaarne ja laiendatav**. Pythoni pakutavas raamistikus saab lahendada ja kombineerida paljude erinevate valdkondade uurimisküsimusi."
      ]
    },
    {
      "cell_type": "markdown",
      "metadata": {
        "id": "TJ4fIlJd8wwq"
      },
      "source": [
        "## 2.2 Mis on programmeerimine?"
      ]
    },
    {
      "cell_type": "markdown",
      "metadata": {
        "id": "aZQJp0y_CRdS"
      },
      "source": [
        "Programmeerimine on protsess, mille käigus luuakse arvuti poolt käivitatavaid *programme*. Programm on kui arvuti jaoks mõistetav käskude jada, mille läbimise tulemusena saadakse lahendatava ülesande kontekstis oluline väljund. Oletame näiteks, et meil on vaja leida kahe arvu aritmeetiline keskmine. Selleks tuleb läbi teha järgmised käsud:\n",
        "1. Määra esimene arv.\n",
        "2. Määra teine arv.\n",
        "3. Liida määratud arvud kokku.\n",
        "4. Jaga arvude summa kahega (ehk leia aritmeetiline keskmine).\n",
        "5. Lõpuks võime saadud arvude keskmise näiteks juba tuttava *print()* käsu abil ekraanile kuvada.\n",
        "\n",
        "Pythoni koodis näeks see käskude jada välja selline:\n",
        "\n",
        "```\n",
        "#aritmeetilise keskmise leidmine\n",
        "arv_1 = 15\n",
        "arv_2 = 5\n",
        "summa = arv_1 + arv_2\n",
        "keskmine = summa / 2\n",
        "print(keskmine)\n",
        "```\n",
        "\n",
        "**NB!*** Pane tähele, et selle programmi esimene rida algab trellidega (*#*). Pythonis tähistab see **kommentaari**. Kommentaari sisu ei ole mõeldud arvutile käivitamiseks vaid hoopis inimestele selgituseks. Antud näites selgitab kommentaar, et järgnev kood leiab arvude aritmeetilist keskmist. Kommentaare tasub oma koodides julgesti kasutada, kuna nii on endal ja teistel lihtsam järge pidada, mida üks või teine koodijupp tegema peab.\n",
        "\n",
        "Kui seda koodi oli veel keeruline jälgida, siis pole üldse põhjust muretseda - mõne aja pärast räägime sellest lähemalt. \n",
        "\n",
        "Programmeerimine tervikuna koosneb mitmest sammust:\n",
        "1. Reaaleluliste probeemide analüüsimine ning arvutuslikult lahendatavate aspektide tuvastamine. *Nt: Kaupluse ostu-müügitehingute andmete pealt saame arvutada, millisel kuul oli kaupluse käive kõige suurem. Teades klientide andmeid, saame andmete abil kirjeldada põhilist sihtgruppi (nt keskmine vanus).*\n",
        "2. Parima arvutusliku lahendusviisi tuvastamine. *Nt: Suurima käibega kuu leidmiseks on vaja tehingute summad kuude kaupa kokku liita. Klientide keskmise vanuse leidmiseks liidame kõik vanused kokku ja jagame klientide arvudega.*\n",
        "3. Valitud lahendusviisi implementeerimine mõnes programmeerimiskeeles. *Nt: Python.*\n",
        "4. Implementeeritud lahenduse testimine, valideerimine ja parandamine. \n",
        "\n",
        "Nendest neljas sammust vaid kolmas (ja vähemal määral ka neljas) on seotud reaalse koodi kirjutamisega. Oluline on arvestada sellega, et ülesande jaoks sobivaima lahendusviisi valikul tuleb arvestada paljude erinevate aspektidega - programmi lõppkasutaja vajadused ja oskused, arendustiimi ajalised ja rahalised ressursid jne."
      ]
    },
    {
      "cell_type": "markdown",
      "metadata": {
        "id": "_8nLKnZ48z-4"
      },
      "source": [
        "## 2.3 Kust leida abi?"
      ]
    },
    {
      "cell_type": "markdown",
      "metadata": {
        "id": "8lY4dPgHCmjW"
      },
      "source": [
        "- Kõige põhjalikuma tutvustuse Pythoni kohta leiab [Pythoni ametlikust dokumentatsioonist.](https://www.python.org/doc/)\n",
        "- Lisaks võib abi olla [Pythoni juhisest](https://docs.python.org/3.7/tutorial/), kus on teemade kaupa toodud selgitused ja näited.\n",
        "- Google Colabis saab kõige kiiremini lisainfot käsu *help()* abil. Näiteks kui soovime rohkem teada käsu *print()* kohta, mille abil saame väärtusi ekraanile kuvada, siis kirjutame koodikastikesse lihtsalt *help(print)*.\n",
        "- Konkreetsete küsimuste korral leiab tihti abi [Stack Overflow foorumist.](https://stackoverflow.com/questions/tagged/python?tab=Votes)\n",
        "- Esialgu võivad eelmainitud abimaterjalid olla pisut liiga sisutihedad ja hirmuäratavad - seega võid oma küsimustega alati pöörduda praktikumijuhendaja poole :) \n"
      ]
    },
    {
      "cell_type": "code",
      "metadata": {
        "id": "1lWJnr88WBDC",
        "colab": {
          "base_uri": "https://localhost:8080/"
        },
        "outputId": "550e26ff-9f85-42f2-c3e7-504ff8176798"
      },
      "source": [
        "help(print)"
      ],
      "execution_count": null,
      "outputs": [
        {
          "output_type": "stream",
          "name": "stdout",
          "text": [
            "Help on built-in function print in module builtins:\n",
            "\n",
            "print(...)\n",
            "    print(value, ..., sep=' ', end='\\n', file=sys.stdout, flush=False)\n",
            "    \n",
            "    Prints the values to a stream, or to sys.stdout by default.\n",
            "    Optional keyword arguments:\n",
            "    file:  a file-like object (stream); defaults to the current sys.stdout.\n",
            "    sep:   string inserted between values, default a space.\n",
            "    end:   string appended after the last value, default a newline.\n",
            "    flush: whether to forcibly flush the stream.\n",
            "\n"
          ]
        }
      ]
    },
    {
      "cell_type": "markdown",
      "metadata": {
        "id": "uDU8FXO6CrpO"
      },
      "source": [
        "# 3. Esimesed sammud Pythonis"
      ]
    },
    {
      "cell_type": "markdown",
      "metadata": {
        "id": "MBBrngaN85Jc"
      },
      "source": [
        "## 3.1 Interaktiivne Pythoni kasutamine"
      ]
    },
    {
      "cell_type": "markdown",
      "metadata": {
        "id": "pn2CWYOJu5-T"
      },
      "source": [
        "Pythonit saab kasutada kahel viisil: interaktiivselt ja skriptipõhiselt. Interaktiivselt kasutades jooksutame ainult **ühe käsu korraga**. Seega on Pythoni kasutamine veidi nagu multifunktsionaalse kalkulaatori kasutamine - sisestad soovitud operatsioone käsk käsu kaupa. "
      ]
    },
    {
      "cell_type": "code",
      "metadata": {
        "id": "6VlI-DXju5-U",
        "colab": {
          "base_uri": "https://localhost:8080/"
        },
        "outputId": "18ed709f-1296-4861-9399-ac6763bff120"
      },
      "source": [
        "#arvude liitmine\n",
        "2 + 3"
      ],
      "execution_count": null,
      "outputs": [
        {
          "output_type": "execute_result",
          "data": {
            "text/plain": [
              "5"
            ]
          },
          "metadata": {},
          "execution_count": 4
        }
      ]
    },
    {
      "cell_type": "code",
      "metadata": {
        "id": "0i-Y6dvOu5-V",
        "colab": {
          "base_uri": "https://localhost:8080/"
        },
        "outputId": "73394432-3671-4290-edc6-4751525f3c48"
      },
      "source": [
        "#arvude lahutamine\n",
        "7 - 3"
      ],
      "execution_count": null,
      "outputs": [
        {
          "output_type": "execute_result",
          "data": {
            "text/plain": [
              "4"
            ]
          },
          "metadata": {},
          "execution_count": 5
        }
      ]
    },
    {
      "cell_type": "code",
      "metadata": {
        "id": "iPVVpeBKu5-X",
        "colab": {
          "base_uri": "https://localhost:8080/"
        },
        "outputId": "f0c48996-5915-40bc-da6f-783579554dd0"
      },
      "source": [
        "#arvude korrutamine\n",
        "2 * 8"
      ],
      "execution_count": null,
      "outputs": [
        {
          "output_type": "execute_result",
          "data": {
            "text/plain": [
              "16"
            ]
          },
          "metadata": {},
          "execution_count": 6
        }
      ]
    },
    {
      "cell_type": "code",
      "metadata": {
        "id": "wR5zg0nEu5-X",
        "colab": {
          "base_uri": "https://localhost:8080/"
        },
        "outputId": "a52d052a-9b35-4839-9930-542543bb7bd9"
      },
      "source": [
        "#arvude jagamine\n",
        "13 / 5"
      ],
      "execution_count": null,
      "outputs": [
        {
          "output_type": "execute_result",
          "data": {
            "text/plain": [
              "2.6"
            ]
          },
          "metadata": {},
          "execution_count": 7
        }
      ]
    },
    {
      "cell_type": "code",
      "metadata": {
        "id": "9jiAFDFAu5-Y",
        "colab": {
          "base_uri": "https://localhost:8080/"
        },
        "outputId": "caeb8104-9ae1-4758-93a6-fe9e13eeb8e6"
      },
      "source": [
        "#arvude astendamine\n",
        "4 ** 2 #4 astmel 2 ehk 4 ruudus"
      ],
      "execution_count": null,
      "outputs": [
        {
          "output_type": "execute_result",
          "data": {
            "text/plain": [
              "16"
            ]
          },
          "metadata": {},
          "execution_count": 8
        }
      ]
    },
    {
      "cell_type": "code",
      "metadata": {
        "id": "Zh93hmdXu5-Z",
        "colab": {
          "base_uri": "https://localhost:8080/"
        },
        "outputId": "b797275d-8e0e-4d14-fa4e-48aa790d797a"
      },
      "source": [
        "#arvude täisarvuline jagamine (ümardab alla!)\n",
        "13 // 5"
      ],
      "execution_count": null,
      "outputs": [
        {
          "output_type": "execute_result",
          "data": {
            "text/plain": [
              "2"
            ]
          },
          "metadata": {},
          "execution_count": 9
        }
      ]
    },
    {
      "cell_type": "code",
      "metadata": {
        "id": "09cdw3rlu5-a",
        "colab": {
          "base_uri": "https://localhost:8080/"
        },
        "outputId": "84a93950-e7c0-4292-c2bf-90b46379dac5"
      },
      "source": [
        "#jäägi leidmine\n",
        "13 % 5 "
      ],
      "execution_count": null,
      "outputs": [
        {
          "output_type": "execute_result",
          "data": {
            "text/plain": [
              "3"
            ]
          },
          "metadata": {},
          "execution_count": 10
        }
      ]
    },
    {
      "cell_type": "code",
      "metadata": {
        "id": "Ljt1wjFsu5-a",
        "colab": {
          "base_uri": "https://localhost:8080/"
        },
        "outputId": "a756fb2b-b089-4ce5-87d5-7fe9c7fc0de4"
      },
      "source": [
        "#teksti ekraanile kuvamine\n",
        "print(\"Tere, Python!\")"
      ],
      "execution_count": null,
      "outputs": [
        {
          "output_type": "stream",
          "name": "stdout",
          "text": [
            "Tere, Python!\n"
          ]
        }
      ]
    },
    {
      "cell_type": "markdown",
      "metadata": {
        "id": "jIl2bc0CEi7c"
      },
      "source": [
        "Skriptipõhisel kasutamisel jooksutame korraga terve rea käske. Tavaliselt on sel juhul käskude jada (ehk programm) salvestatud eraldi *.py* laiendiga tekstifaili, mida saab arvutis käivitada. Selliseid faile me käesoleval kursusel ei loo, me kasutame ainult seda keskkonda, kus hetkel viibime, Google Colabi.\n",
        "\n",
        "Google Colabis on iga koodiväli nagu eraldi fail, kuhu saame mitu rida kirjutada ja neid koos käivitada.  "
      ]
    },
    {
      "cell_type": "markdown",
      "metadata": {
        "id": "mxnyg5q5oybw"
      },
      "source": [
        "Mis juhtub kui käivitada kõik eelnevad tehted ühes koodikastis?\n"
      ]
    },
    {
      "cell_type": "code",
      "metadata": {
        "id": "reUY9HwYSuLe",
        "colab": {
          "base_uri": "https://localhost:8080/"
        },
        "outputId": "c382ba04-0a04-4805-e41a-1aa8e14d1f46"
      },
      "source": [
        "2 + 3\n",
        "7 - 3\n",
        "2 * 8\n",
        "13 / 5\n",
        "4 ** 2\n",
        "13 // 5\n",
        "13 % 5 "
      ],
      "execution_count": null,
      "outputs": [
        {
          "output_type": "execute_result",
          "data": {
            "text/plain": [
              "3"
            ]
          },
          "metadata": {},
          "execution_count": 12
        }
      ]
    },
    {
      "cell_type": "markdown",
      "metadata": {
        "id": "TsIKtFeBpGNh"
      },
      "source": [
        "**print() funktsioon ja selle olulisus**<br>\n",
        "Kuna me oleme arvutile öelnud vaid \"liida 2 ja 3\", aga mitte ka \"kuva vastus ekraanile\", siis pärast liitmistehet liigub masin lihtsalt järgmisele reale järgmist tehet tegema. Viimase tulemuse kuvamine toimub lihtsalt mugavuse huvides, kui kasutaja tahab Pythonit multifunktsionaalse kalkulaatorina kasutada.\n",
        "\n",
        "Lisame nüüd tehetele ka käsu vastus kuvada. **print()** on funktsioon, mis rakendatakse mingitele sisenditele, et see need ekraanile kuvaks. Need sisendid kirjutatakse sulgude vahele."
      ]
    },
    {
      "cell_type": "code",
      "metadata": {
        "id": "HKCd4-tOTHbs",
        "colab": {
          "base_uri": "https://localhost:8080/"
        },
        "outputId": "8b958a8b-2311-44d9-9553-5675a4dbdfbe"
      },
      "source": [
        "#Print käsu olulisusest\n",
        "print(2 + 3)\n",
        "print(\"vahe: \", 7 - 3)\n",
        "print(\"korrutis: \",2 * 8,\" jagatis:\", 13 / 5)\n",
        "print(4 ** 2)\n",
        "print(13 // 5)\n",
        "print(13 % 5)"
      ],
      "execution_count": null,
      "outputs": [
        {
          "output_type": "stream",
          "name": "stdout",
          "text": [
            "5\n",
            "vahe:  4\n",
            "korrutis:  16  jagatis: 2.6\n",
            "16\n",
            "2\n",
            "3\n"
          ]
        }
      ]
    },
    {
      "cell_type": "markdown",
      "metadata": {
        "id": "hwQCX92L89D-"
      },
      "source": [
        "## 3.2 Muutujate defineerimine ja Pythoni andmetüübid"
      ]
    },
    {
      "cell_type": "markdown",
      "metadata": {
        "id": "SpUDYzx_VFNl"
      },
      "source": [
        "Kui me soovime, et Python jätaks meie tehete ja toimingute tulemused meelde ja me saaksime neid ka hiljem (järgnevatel ridadel, järgnevates koodikastides) kasutada, siis peame tehte väärtuse omistama **muutujale**. See on väga lihtne, tuleb Pythonile öelda \"muutuja võrdub ..\"."
      ]
    },
    {
      "cell_type": "code",
      "metadata": {
        "id": "XkANcVqDVIDW"
      },
      "source": [
        "summa = 2+3\n",
        "vahe = 7-3"
      ],
      "execution_count": null,
      "outputs": []
    },
    {
      "cell_type": "markdown",
      "metadata": {
        "id": "NrjKMlxAVsTI"
      },
      "source": [
        "**NB**! Muutujate nimed ei tohi \n",
        "- sisaldada tühikuid\n",
        "- alata numbriga\n",
        "- sisaldada erisümboleid"
      ]
    },
    {
      "cell_type": "markdown",
      "metadata": {
        "id": "I6aFaEfKVZtY"
      },
      "source": [
        "**Ülesanne:** Prindi välja muutujate \"summa\" ja \"vahe\" väärtused."
      ]
    },
    {
      "cell_type": "code",
      "metadata": {
        "id": "7RaoJ97NVYz-",
        "colab": {
          "base_uri": "https://localhost:8080/"
        },
        "outputId": "d3bb78ac-2833-4c0c-a2f8-919440990de5"
      },
      "source": [
        "print() #sellel real kirjuta kood, mis prindiks summa \n",
        "print(\"vahe: \",) #sellel real kirjuta kood, mis prindiks \"vahe: 4\""
      ],
      "execution_count": null,
      "outputs": [
        {
          "output_type": "stream",
          "name": "stdout",
          "text": [
            "\n",
            "vahe: \n"
          ]
        }
      ]
    },
    {
      "cell_type": "markdown",
      "metadata": {
        "id": "yMHX7g9U9C6K"
      },
      "source": [
        "### 3.2.1 Väärtuste muutmine"
      ]
    },
    {
      "cell_type": "markdown",
      "metadata": {
        "id": "neaEZur5hgPL"
      },
      "source": [
        "Järgnevates näidetes hakkame kasutama \"andmeid\", mille oleme kogunud (loe: välja mõelnud) teatud inimese kohta."
      ]
    },
    {
      "cell_type": "code",
      "metadata": {
        "id": "JwutVVQbhtp2",
        "colab": {
          "base_uri": "https://localhost:8080/"
        },
        "outputId": "3eeae694-a7c5-4da0-edfe-30767927d9fc"
      },
      "source": [
        "#kirjeldame inimest kolme tunnuse abil: nimi, vanus, pikkus\n",
        "nimi = \"Tuuli Tudeng\"\n",
        "vanus = 21\n",
        "pikkus = 177.8\n",
        "\n",
        "#kuvame ekraanile inimese nime, vanuse ja pikkuse\n",
        "print(nimi) #kuvame nime\n",
        "print(vanus) #kuvame vanuse\n",
        "print(pikkus) #kuvame pikkuse"
      ],
      "execution_count": null,
      "outputs": [
        {
          "output_type": "stream",
          "name": "stdout",
          "text": [
            "Tuuli Tudeng\n",
            "21\n",
            "177.8\n"
          ]
        }
      ]
    },
    {
      "cell_type": "markdown",
      "metadata": {
        "id": "W3Tywt9ju5-k"
      },
      "source": [
        "Kui muutujatele on väärtused omistatud, saame neid ka **muuta**. Proovime seda koodis teha."
      ]
    },
    {
      "cell_type": "code",
      "metadata": {
        "id": "doAGLS86u5-k"
      },
      "source": [
        "#oletame, et Tuuli Tudengil oli sünnipäev - muudame ta vanust\n",
        "vanus = 22"
      ],
      "execution_count": null,
      "outputs": []
    },
    {
      "cell_type": "code",
      "metadata": {
        "id": "naxHKVXhu5-k",
        "colab": {
          "base_uri": "https://localhost:8080/"
        },
        "outputId": "3709da71-fe1f-428a-c2ae-8a40cbdd3369"
      },
      "source": [
        "#kuvame uuesti ekraanile tudengi nime, vanuse ja pikkuse\n",
        "print(nimi) #kas nimi muutus?\n",
        "print(vanus) #kas vanus muutus?\n",
        "print(pikkus) #kas pikkus muutus?"
      ],
      "execution_count": null,
      "outputs": [
        {
          "output_type": "stream",
          "name": "stdout",
          "text": [
            "Tuuli Tudeng\n",
            "22\n",
            "177.8\n"
          ]
        }
      ]
    },
    {
      "cell_type": "markdown",
      "metadata": {
        "id": "qmGMT39Ju5-l"
      },
      "source": [
        "---\n",
        "**Väike ülesanne:** Kirjuta alljärgnevasse koodikastikesse \n",
        "kood, kus kirjeldad ennast muutujate *minu_nimi*, *minu_vanus* ja *minu_pikkus* abil. Kui see ei õnnestu, siis küsi kindlasti abi."
      ]
    },
    {
      "cell_type": "code",
      "metadata": {
        "id": "X8t5VLrQu5-l"
      },
      "source": [
        "#kirjelda ennast nime, vanuse ja pikkuse abil\n",
        "minu_nimi = \"\" #sellel real sisesta jutumärkide vahele oma nimi\n",
        "\n"
      ],
      "execution_count": null,
      "outputs": []
    },
    {
      "cell_type": "code",
      "metadata": {
        "id": "B8BJ57Gqu5-m"
      },
      "source": [
        "#kuva oma nimi, vanus ja pikkus ekraanile, kasutades print() funktsiooni\n",
        "\n",
        "\n"
      ],
      "execution_count": null,
      "outputs": []
    },
    {
      "cell_type": "markdown",
      "metadata": {
        "id": "eGP5vxiPu5-m"
      },
      "source": [
        "Pythonil on meeles ka eelnevalt käivitatud kastides defineeritud muutujad. Mis ilmub ekraanile järgneva koodijupi käivitamisel?\n",
        "```\n",
        "print(nimi)\n",
        "```"
      ]
    },
    {
      "cell_type": "code",
      "metadata": {
        "id": "iHmcOR0su5-m",
        "colab": {
          "base_uri": "https://localhost:8080/"
        },
        "outputId": "38563e98-c540-4c7b-c741-d906dd4b390b"
      },
      "source": [
        "#kuvame ekraanile ühe nime\n",
        "print(nimi)"
      ],
      "execution_count": null,
      "outputs": [
        {
          "output_type": "stream",
          "name": "stdout",
          "text": [
            "Tuuli Tudeng\n"
          ]
        }
      ]
    },
    {
      "cell_type": "markdown",
      "metadata": {
        "id": "FoGi7wHQu5-m"
      },
      "source": [
        "\"minu_nimi\" loomisel ei kadunud \"nimi\" ära. Mis aga juhtub sellise koodirea käivitamisel?\n",
        "\n",
        "\n",
        "```\n",
        "print(venna_nimi)\n",
        "```\n",
        "Proovime järele!\n"
      ]
    },
    {
      "cell_type": "code",
      "metadata": {
        "id": "w71cRA3Wu5-n",
        "colab": {
          "base_uri": "https://localhost:8080/",
          "height": 184
        },
        "outputId": "00aaa8bc-529e-4e80-c434-2f726f71bff9"
      },
      "source": [
        "#proovime ekraanile kuvada venna nime\n",
        "print(venna_nimi)"
      ],
      "execution_count": null,
      "outputs": [
        {
          "output_type": "error",
          "ename": "NameError",
          "evalue": "ignored",
          "traceback": [
            "\u001b[0;31m---------------------------------------------------------------------------\u001b[0m",
            "\u001b[0;31mNameError\u001b[0m                                 Traceback (most recent call last)",
            "\u001b[0;32m<ipython-input-22-4387dc82dffa>\u001b[0m in \u001b[0;36m<module>\u001b[0;34m()\u001b[0m\n\u001b[1;32m      1\u001b[0m \u001b[0;31m#proovime ekraanile kuvada venna nime\u001b[0m\u001b[0;34m\u001b[0m\u001b[0;34m\u001b[0m\u001b[0;34m\u001b[0m\u001b[0m\n\u001b[0;32m----> 2\u001b[0;31m \u001b[0mprint\u001b[0m\u001b[0;34m(\u001b[0m\u001b[0mvenna_nimi\u001b[0m\u001b[0;34m)\u001b[0m\u001b[0;34m\u001b[0m\u001b[0;34m\u001b[0m\u001b[0m\n\u001b[0m",
            "\u001b[0;31mNameError\u001b[0m: name 'venna_nimi' is not defined"
          ]
        }
      ]
    },
    {
      "cell_type": "markdown",
      "metadata": {
        "id": "uInZoQCeu5-n"
      },
      "source": [
        "Siinkohal saime vastuseks hoopis **veateate**. Miks? Sest sellist muutujat nagu *venna_nimi* ei ole me veel loonud ja väärtustanud ja seega ei oska Python selle käsklusega midagi peale hakata. Pane tähele, et veateade annab sulle täpselt selle sama vastuse, kuigi veidi keerulisemas keeles. **Veateated on väga oluline infoallikas mõistmaks, miks kood ei tööta.** Nende lugema õppimine on oluline oskus."
      ]
    },
    {
      "cell_type": "markdown",
      "metadata": {
        "id": "Xi8ejCGH9NsH"
      },
      "source": [
        "### 3.2.2 Andmetüübid"
      ]
    },
    {
      "cell_type": "markdown",
      "metadata": {
        "id": "wPKs0tqnu5-o"
      },
      "source": [
        "Pythonis on palju sisseehitatud **andmetüüpe**. Oma andmetüüp on olemas näiteks tekstiliste väärtuste, täisarvude, murdarvude ning ka keerulisemate struktuuride nagu järjendite ja hulkade väljendamiseks. Pythonis ei pea muutujaid luues andmetüüpi ette andma, erinevalt paljudest teistest programmeerimiskeeltest. Seetõttu võib tunduda, et andmetüüpe polegi olemas või et need pole olulised. Pyhton ise aga teab väga hästi, mis tüüpi mingi muutuja on. Näitlikustame seda kohe.\n",
        "\n",
        "Ennist defineerisime teatud inimese andmed (nimi, vanus, pikkus) Pythoni muutujate abil. Kusjuures, igal muutujatest oli erinev andmetüüp, kuigi me seda esialgu ei näinud. \n",
        "\n",
        "Need kolm tunnust olid: \n",
        "- **Nimi.** Inimese nimi on tekstiline väärtus. Pythonis on sellise väärtuse väljendamiseks olemas ***sõne*** andmetüüp (inglise keeles ***String***). Sõne andmetüüpi kasutatakse kõiksugu trükimärkide jadade hoiustamiseks. Trükimärkide alla kuuluvad nii tähed, numbrid kui kirjavahemärgid. Kui omistame muutujale sõne kujul väärtust, peame alati kasutama **jutumärke**!\n",
        "\n",
        "\n",
        "```\n",
        "nimi = \"Eesnimi Perekonnanimi\"\n",
        "```\n",
        "- **Vanus.** Vanust väljendatakse üldjuhul täisarvudega. Pythonis sobib selleks ***täisarvu*** andmetüüp (inglise keeles ***Integer***).\n",
        "\n",
        "\n",
        "```\n",
        "vanus = 25\n",
        "```\n",
        "- **Pikkus.** Pikkust on tihti mõistlik väljendada kümnendmurdudega. Pythonis sobib selleks ***ujukomaarvu*** andmetüüp (inglise keeles ***Float***).\n",
        "\n",
        "\n",
        "```\n",
        "pikkus = 176.5\n",
        "```\n"
      ]
    },
    {
      "cell_type": "markdown",
      "metadata": {
        "id": "Gzcy6JWWu5-o"
      },
      "source": [
        "**Muutuja väärtuse andmetüübi kontrollimine**\n",
        "\n",
        "Muutujate ja väärtuste andmetüüpi saab kontrollida käsu *type()* abil, kirjutades sulgudesse huvipakkuva muutuja nime. Tulemuse ekraanile kuvamiseks kasutame taas *print()* käsku. Proovime!"
      ]
    },
    {
      "cell_type": "code",
      "metadata": {
        "id": "Blr__Wrku5-p",
        "colab": {
          "base_uri": "https://localhost:8080/"
        },
        "outputId": "3df05b45-4740-4637-ae2d-57fc688a7902"
      },
      "source": [
        "#vaatame, mis tüüpi on muutujad nimi, vanus ja pikkus\n",
        "nime_tyyp = type(nimi) #omistame nime andmetüübi muutujale nime_tyyp\n",
        "vanuse_tyyp = type(vanus)\n",
        "pikkuse_tyyp = type(pikkus)\n",
        "\n",
        "#kuvame tulemused ekraanile\n",
        "print(nime_tyyp)\n",
        "print(vanuse_tyyp)\n",
        "print(pikkuse_tyyp)"
      ],
      "execution_count": null,
      "outputs": [
        {
          "output_type": "stream",
          "name": "stdout",
          "text": [
            "<class 'str'>\n",
            "<class 'int'>\n",
            "<class 'float'>\n"
          ]
        }
      ]
    },
    {
      "cell_type": "markdown",
      "metadata": {
        "id": "LsK_YQr-u5-p"
      },
      "source": [
        "Nime puhul on tulemuseks <class 'str'>, mis väljendab muutuja väärtuse tüübi kuulumist klassi *str* ehk *String* ehk *sõne*. Vanus kuulub klassi *int* ehk *Integer* ehk *täisarv* ning pikkus klassi *float*, mis tähistab *ujukomaarvu* ehk murdarvu."
      ]
    },
    {
      "cell_type": "markdown",
      "metadata": {
        "id": "vqoSfab-jDkX"
      },
      "source": [
        "**Miks on andmetüübid olulised?** Ennustage, millised järgnevatest \"tehetest\" ei ole lubatud ja annavad veateate."
      ]
    },
    {
      "cell_type": "code",
      "metadata": {
        "id": "r790lbsJjO8b",
        "colab": {
          "base_uri": "https://localhost:8080/",
          "height": 219
        },
        "outputId": "70cf87f9-e2a7-4849-e5ea-a887762cef3b"
      },
      "source": [
        "print(nimi+pikkus)\n",
        "print(vanus/nimi)\n",
        "print(pikkus/vanus)\n",
        "print(vanus**pikkus)"
      ],
      "execution_count": null,
      "outputs": [
        {
          "output_type": "error",
          "ename": "TypeError",
          "evalue": "ignored",
          "traceback": [
            "\u001b[0;31m---------------------------------------------------------------------------\u001b[0m",
            "\u001b[0;31mTypeError\u001b[0m                                 Traceback (most recent call last)",
            "\u001b[0;32m<ipython-input-25-39d574d570a1>\u001b[0m in \u001b[0;36m<module>\u001b[0;34m()\u001b[0m\n\u001b[0;32m----> 1\u001b[0;31m \u001b[0mprint\u001b[0m\u001b[0;34m(\u001b[0m\u001b[0mnimi\u001b[0m\u001b[0;34m+\u001b[0m\u001b[0mpikkus\u001b[0m\u001b[0;34m)\u001b[0m\u001b[0;34m\u001b[0m\u001b[0;34m\u001b[0m\u001b[0m\n\u001b[0m\u001b[1;32m      2\u001b[0m \u001b[0mprint\u001b[0m\u001b[0;34m(\u001b[0m\u001b[0mvanus\u001b[0m\u001b[0;34m/\u001b[0m\u001b[0mnimi\u001b[0m\u001b[0;34m)\u001b[0m\u001b[0;34m\u001b[0m\u001b[0;34m\u001b[0m\u001b[0m\n\u001b[1;32m      3\u001b[0m \u001b[0mprint\u001b[0m\u001b[0;34m(\u001b[0m\u001b[0mpikkus\u001b[0m\u001b[0;34m/\u001b[0m\u001b[0mvanus\u001b[0m\u001b[0;34m)\u001b[0m\u001b[0;34m\u001b[0m\u001b[0;34m\u001b[0m\u001b[0m\n\u001b[1;32m      4\u001b[0m \u001b[0mprint\u001b[0m\u001b[0;34m(\u001b[0m\u001b[0mvanus\u001b[0m\u001b[0;34m**\u001b[0m\u001b[0mpikkus\u001b[0m\u001b[0;34m)\u001b[0m\u001b[0;34m\u001b[0m\u001b[0;34m\u001b[0m\u001b[0m\n",
            "\u001b[0;31mTypeError\u001b[0m: can only concatenate str (not \"float\") to str"
          ]
        }
      ]
    },
    {
      "cell_type": "markdown",
      "metadata": {
        "id": "56OxkdVMj2bB"
      },
      "source": [
        "Numbrilisi muutjaid saab omavahel liita-lahutada ja muid arvutusi teha. Sõnede puhul pole näiteks jagamine ju kuidagi loogiline. Siiski saab sõnesid omavahel liita, aga sel juhul tähendab see nende üksteise järele asetamist ja üheks pikaks lauseks kleepimist. Lahutamine ning muud tehted sõnedega tähendust ei oma."
      ]
    },
    {
      "cell_type": "code",
      "metadata": {
        "id": "gVrz8JlvkRHG"
      },
      "source": [
        "taisarvu_ja_murdarvu_summa = 3+0.1415926\n",
        "sonede_summa = \"Tere,\" + \" maailm\"\n",
        "#võite siia lisada print käsud muutujatele taisarvu_ja_murdarvu_summa ning sonede_summa"
      ],
      "execution_count": null,
      "outputs": []
    },
    {
      "cell_type": "markdown",
      "metadata": {
        "id": "HuZ3adPvkxRZ"
      },
      "source": [
        "Ka täisarvude ja murdarvude kasutamises on erinevusi, aga nendeni jõuame hiljem. Näiteks ei ole ju loogiline pärida osalejate nimekirjast 3.14ndat nime."
      ]
    },
    {
      "cell_type": "markdown",
      "metadata": {
        "id": "lEMf6cxCu5-q"
      },
      "source": [
        "Siinkohal tutuvustame lühidalt ka neljandat muutujatüüpi, mida meil läheb vaja alles kursuse hilisemas faasis. ***Tõeväärtus*** ehk ***Boolean*** on muutujatüüp, millel on kaks vaid võimalikku väärtust: *True* ja *False* ehk *tõene* või *väär*. Seda andmetüüpi kohtame näiteks loogiliste avaldiste puhul. Vaatame mõningaid näiteid:"
      ]
    },
    {
      "cell_type": "code",
      "metadata": {
        "id": "cPh9Paq2u5-q",
        "colab": {
          "base_uri": "https://localhost:8080/"
        },
        "outputId": "7988ecb6-ce0c-44e0-92df-9d5ddbe690d0"
      },
      "source": [
        "#kas arv 2 on suurem kui arv 3?\n",
        "print(2 > 18)\n",
        "#kas arv 2 on väiksem kui arv 3?\n",
        "print(2 < 18)\n",
        "#kas arv 2 on väiksem kui arv 3?\n",
        "print(2 < 18)\n",
        "#kas arv 2 on võrdne arvuga 2?\n",
        "print(2 == 2)\n",
        "#kas arv 2 ei ole võrdne arvuga 3?\n",
        "print(2 != 18)"
      ],
      "execution_count": null,
      "outputs": [
        {
          "output_type": "stream",
          "name": "stdout",
          "text": [
            "False\n",
            "True\n",
            "True\n",
            "True\n",
            "True\n"
          ]
        }
      ]
    },
    {
      "cell_type": "markdown",
      "metadata": {
        "id": "8HOI40RuoI2T"
      },
      "source": [
        "Võibolla on veidi tähenduslikum küsida järgnevat preili Tuuli Tudengi vanuse kohta?"
      ]
    },
    {
      "cell_type": "code",
      "metadata": {
        "id": "mW_sCVPdoQdS",
        "colab": {
          "base_uri": "https://localhost:8080/"
        },
        "outputId": "c824319c-a1e6-4381-c1a8-3ce9525fd90d"
      },
      "source": [
        "print(vanus>18)"
      ],
      "execution_count": null,
      "outputs": [
        {
          "output_type": "stream",
          "name": "stdout",
          "text": [
            "True\n"
          ]
        }
      ]
    },
    {
      "cell_type": "markdown",
      "metadata": {
        "id": "4CpLMSZSoUEU"
      },
      "source": [
        "Andmetega töötades ongi loogilised avaldised (ja tingimuslaused, mida tutvustame hiljem) olulised selleks, et filtreerida andmeid, millega töötada tahame. Näiteks, kui soovime joonisel erinevate värvidega kuvada toidupoe eri vanusegruppide kliendid."
      ]
    },
    {
      "cell_type": "markdown",
      "metadata": {
        "id": "-Vniff-SKhU7"
      },
      "source": [
        "**Segadused andmetüüpidega ja nende muutmine**\n",
        "\n",
        "Lõpetuseks paneme veel tähele, et on võimalik luua sõned \"1\", \"2\" ja miks mitte ka \"True\". Et tegu on sõnedega, siis ei käitu need nagu numbrid ega tõeväärtused, vaid nagu sõnad. See võib tekitada segadust andmetega töötades, sest võib juhtuda, et numbreid sisaldav veerg tabelist loetakse sisse sõnedena."
      ]
    },
    {
      "cell_type": "code",
      "metadata": {
        "id": "MBYnqYmlKymU",
        "colab": {
          "base_uri": "https://localhost:8080/",
          "height": 236
        },
        "outputId": "9482d13a-d52b-42a2-85ae-14d1cf10b387"
      },
      "source": [
        "print(1+1)\n",
        "print(\"1\"+\"1\")\n",
        "print(1+\"1\")"
      ],
      "execution_count": null,
      "outputs": [
        {
          "output_type": "stream",
          "name": "stdout",
          "text": [
            "2\n",
            "11\n"
          ]
        },
        {
          "output_type": "error",
          "ename": "TypeError",
          "evalue": "ignored",
          "traceback": [
            "\u001b[0;31m---------------------------------------------------------------------------\u001b[0m",
            "\u001b[0;31mTypeError\u001b[0m                                 Traceback (most recent call last)",
            "\u001b[0;32m<ipython-input-29-c2157043ad1b>\u001b[0m in \u001b[0;36m<module>\u001b[0;34m()\u001b[0m\n\u001b[1;32m      1\u001b[0m \u001b[0mprint\u001b[0m\u001b[0;34m(\u001b[0m\u001b[0;36m1\u001b[0m\u001b[0;34m+\u001b[0m\u001b[0;36m1\u001b[0m\u001b[0;34m)\u001b[0m\u001b[0;34m\u001b[0m\u001b[0;34m\u001b[0m\u001b[0m\n\u001b[1;32m      2\u001b[0m \u001b[0mprint\u001b[0m\u001b[0;34m(\u001b[0m\u001b[0;34m\"1\"\u001b[0m\u001b[0;34m+\u001b[0m\u001b[0;34m\"1\"\u001b[0m\u001b[0;34m)\u001b[0m\u001b[0;34m\u001b[0m\u001b[0;34m\u001b[0m\u001b[0m\n\u001b[0;32m----> 3\u001b[0;31m \u001b[0mprint\u001b[0m\u001b[0;34m(\u001b[0m\u001b[0;36m1\u001b[0m\u001b[0;34m+\u001b[0m\u001b[0;34m\"1\"\u001b[0m\u001b[0;34m)\u001b[0m\u001b[0;34m\u001b[0m\u001b[0;34m\u001b[0m\u001b[0m\n\u001b[0m",
            "\u001b[0;31mTypeError\u001b[0m: unsupported operand type(s) for +: 'int' and 'str'"
          ]
        }
      ]
    },
    {
      "cell_type": "markdown",
      "metadata": {
        "id": "rkNf0sex0F_G"
      },
      "source": [
        "Mõningaid andmetüüpe saab teisteks ümber muuta. Selle käigus võivad tekkida aga ootamatud kaod."
      ]
    },
    {
      "cell_type": "code",
      "metadata": {
        "id": "mqwWabKX0QIs",
        "colab": {
          "base_uri": "https://localhost:8080/",
          "height": 288
        },
        "outputId": "f2c20052-dfa7-4387-9003-41f2927ebb87"
      },
      "source": [
        "#muudame sõne \"1\"  täisarvuks\n",
        "sone_taisarvuks = int(\"1\")\n",
        "print(\"sõne täisarvuks: \", sone_taisarvuks)\n",
        "\n",
        "#muudame sõne \"1.9999\" ujukomaarvuks\n",
        "sone_ujukomaarvuks = float(\"1.9999\")\n",
        "print(\"sõne ujukomaarvuks: \", sone_ujukomaarvuks)\n",
        "\n",
        "#muudame ujukomaarvu 1.99999 täisarvuks\n",
        "ujukoma_taisarvuks = int(1.99999) #vaata selle tegevuse väljundit hoolekalt!\n",
        "print(\"ujukoma täisarvuks:\", ujukoma_taisarvuks, \" (NB!)\")\n",
        "\n",
        "#Samuti saab numbreid sõnedeks teha\n",
        "sonena = str(1.999)\n",
        "print(\"nüüd saan numbri sõnele liita \"+ sonena)\n",
        "\n",
        "#järgnevad ei ole võimalikud\n",
        "int(\"kaks\")\n",
        "int(\"1.9999\")"
      ],
      "execution_count": null,
      "outputs": [
        {
          "output_type": "stream",
          "name": "stdout",
          "text": [
            "sõne_taisarvuks:  1\n",
            "sõne_ujukomaarvuks:  1.9999\n",
            "ujukoma_taisarvuks: 1  (NB!)\n",
            "nüüd saan numbri sonele liita 1.999\n"
          ]
        },
        {
          "output_type": "error",
          "ename": "ValueError",
          "evalue": "ignored",
          "traceback": [
            "\u001b[0;31m---------------------------------------------------------------------------\u001b[0m",
            "\u001b[0;31mValueError\u001b[0m                                Traceback (most recent call last)",
            "\u001b[0;32m<ipython-input-30-c34d2f5f8b2e>\u001b[0m in \u001b[0;36m<module>\u001b[0;34m()\u001b[0m\n\u001b[1;32m     16\u001b[0m \u001b[0;34m\u001b[0m\u001b[0m\n\u001b[1;32m     17\u001b[0m \u001b[0;31m#järgnevad ei ole võimalikud\u001b[0m\u001b[0;34m\u001b[0m\u001b[0;34m\u001b[0m\u001b[0;34m\u001b[0m\u001b[0m\n\u001b[0;32m---> 18\u001b[0;31m \u001b[0mint\u001b[0m\u001b[0;34m(\u001b[0m\u001b[0;34m\"kaks\"\u001b[0m\u001b[0;34m)\u001b[0m\u001b[0;34m\u001b[0m\u001b[0;34m\u001b[0m\u001b[0m\n\u001b[0m\u001b[1;32m     19\u001b[0m \u001b[0mint\u001b[0m\u001b[0;34m(\u001b[0m\u001b[0;34m\"1.9999\"\u001b[0m\u001b[0;34m)\u001b[0m\u001b[0;34m\u001b[0m\u001b[0;34m\u001b[0m\u001b[0m\n",
            "\u001b[0;31mValueError\u001b[0m: invalid literal for int() with base 10: 'kaks'"
          ]
        }
      ]
    },
    {
      "cell_type": "markdown",
      "metadata": {
        "id": "-h0fvm3_9T5L"
      },
      "source": [
        "### 3.2.3 Järjendid"
      ]
    },
    {
      "cell_type": "markdown",
      "metadata": {
        "id": "g_1RxE-jcwle"
      },
      "source": [
        "***Järjend*** (inglise keeles ***list***) on andmestruktuur loetelude väljendamiseks. Järjend koosneb elementidest, mis võivad kuuluda nii samasse kui ka erinevatesse andmetüüpidesse. Elemendid võivad järjendis korduda. \n",
        "\n",
        "Järjendi loomiseks ümbritseme elementide loetelu nurksulgudega ning eraldame elemendid üksteisest komade abil."
      ]
    },
    {
      "cell_type": "code",
      "metadata": {
        "id": "X9T3vXdqTxQy"
      },
      "source": [
        "#loome arvudest koosneva järjendi\n",
        "arvud = [1,2,3]\n",
        "\n",
        "#kuvame selle ekraanile\n",
        "print(arvud)"
      ],
      "execution_count": null,
      "outputs": []
    },
    {
      "cell_type": "code",
      "metadata": {
        "id": "1RjRWthhdyCp"
      },
      "source": [
        "#loome sõnedest koosneva järjendi\n",
        "soned = [\"a\", \"b\", \"c\"]\n",
        "\n",
        "#kuvame ekraanile\n",
        "print(soned)"
      ],
      "execution_count": null,
      "outputs": []
    },
    {
      "cell_type": "code",
      "metadata": {
        "id": "HsjEwnn5d9aa"
      },
      "source": [
        "#loome arvudest ja sõnedest koosneva järjendi\n",
        "arvud_soned = [1, \"a\", 3, \"f\"]\n",
        "\n",
        "#kuvame ekraanile\n",
        "print(arvud_soned)"
      ],
      "execution_count": null,
      "outputs": []
    },
    {
      "cell_type": "markdown",
      "metadata": {
        "id": "MAdftcqKeLmV"
      },
      "source": [
        "Järjendi elementidele pääseme ükshaaval ligi **indekseerimise** abil. Selleks kirjutame järjendi nime järele nurksulgudesse huvipakkuva elemendi järjekorranumbri. **NB!** Pythonis algavad järjekorranumbrid nullist!"
      ]
    },
    {
      "cell_type": "code",
      "metadata": {
        "id": "i17PdAlweHWF"
      },
      "source": [
        "#leiame sõnede järjendi esimese elemendi ehk elemendi järjekorranumbriga 0\n",
        "print(soned[0])"
      ],
      "execution_count": null,
      "outputs": []
    },
    {
      "cell_type": "code",
      "metadata": {
        "id": "Hi69sWjSemdb"
      },
      "source": [
        "#leiame sõnede järjendi teise elemendi ehk elemendi järjekorranumbriga 1\n",
        "print(soned[1])"
      ],
      "execution_count": null,
      "outputs": []
    },
    {
      "cell_type": "markdown",
      "metadata": {
        "id": "kY0i3-r5e4sD"
      },
      "source": [
        "**Järjendisse elementide lisamine** käib meetodi (käskluse) *append()* abil. Rakendame seda meetodit soovitud listil järgnevalt:\n",
        "\n",
        "```\n",
        "arvud.append(7)\n",
        "```\n",
        "Proovime! Lisame sõnede ja arvude järjendisse sõnelise väärtuse *tere* ja arvulise väärtuse *30*.\n"
      ]
    },
    {
      "cell_type": "code",
      "metadata": {
        "id": "oml_GroTeqes"
      },
      "source": [
        "#lisame järjendisse elemente\n",
        "#kirjuta sulgudesse lisatavad elemendid!\n",
        "arvud_soned.append() #NB! ära unusta jutumärke sõne ümber!\n",
        "arvud_soned.append() #NB! arvu ümber ei käi jutumärgid"
      ],
      "execution_count": null,
      "outputs": []
    },
    {
      "cell_type": "code",
      "metadata": {
        "id": "jEpXCbWOfyfx"
      },
      "source": [
        "#kuvame uuendatud järjendi ekraanile\n",
        "print(arvud_soned)"
      ],
      "execution_count": null,
      "outputs": []
    },
    {
      "cell_type": "markdown",
      "metadata": {
        "id": "17_LazvT9Y5A"
      },
      "source": [
        "### 3.2.4 Sõnastikud"
      ]
    },
    {
      "cell_type": "markdown",
      "metadata": {
        "id": "PjxcecncjJBf"
      },
      "source": [
        "***Sõnastik*** (inglise keeles ***dictionary***) on andmestruktuur, mis hoiab endas väärtuste paare. Ühe väärtuste paari moodustvad võti ja väärtus. Võrreldes seda andmetüüpi tavalise eesti-inglise sõnaraamatuga saab öelda, et eestikeelne sõna on võti ning selle ingliskeelne vaste on väärtus. Näiteks võtmele \"nimi\" vastab väärtus \"name\". \n",
        "\n",
        "Samuti võime sõnastikku kasutada näiteks inimese andmete hoiustamiseks - võtmele \"nimi\" vastab väärtus \"Tuuli\", võtmele \"vanus\" vastab väärtus 22 jne.\n",
        "\n",
        "Sõnastiku loomiseks ümbritseme väärtuste paarid loogeliste sulgudega, eraldame omavahel komadega ning eristame võtit ja väärtust kooloni abil:\n",
        "\n",
        "\n",
        "\n",
        "```\n",
        "sonastik = {\"esimene_voti\": \"esimene_vaartus\", \"teine_voti\": \"teine_vaartus\"}\n",
        "```\n",
        "\n"
      ]
    },
    {
      "cell_type": "code",
      "metadata": {
        "id": "bnGm3xUQiDlr"
      },
      "source": [
        "#loome uue sõnastiku\n",
        "#ära unusta sõnede ümbert jutumärke!\n",
        "inimese_andmed = {\"nimi\": \"Tuuli\", \"vanus\": 22, \"pikkus\": 177.8}\n",
        "\n",
        "#kuvame ekraanile\n",
        "print(inimese_andmed)"
      ],
      "execution_count": null,
      "outputs": []
    },
    {
      "cell_type": "markdown",
      "metadata": {
        "id": "F7dTIjvykq-i"
      },
      "source": [
        "Sõnastiku elementidele ligipääsemiseks kasutame indekseerimist võtmete alusel (sarnaselt nagu listide puhul indekseerisime järjekorranumbri alusel). Kirjutame otsitava võtme sisu sõnastiku nime järele nurksulgudesse."
      ]
    },
    {
      "cell_type": "code",
      "metadata": {
        "id": "DjbZ7lMJk6Qp"
      },
      "source": [
        "#vaatame võtme \"nimi\" väärtust\n",
        "inimese_andmed[\"nimi\"]"
      ],
      "execution_count": null,
      "outputs": []
    },
    {
      "cell_type": "markdown",
      "metadata": {
        "id": "Ncqt4FGplD0L"
      },
      "source": [
        "Sõnastikku väärtuste lisamiseks määrame uuele võtmele mingi väärtuse."
      ]
    },
    {
      "cell_type": "code",
      "metadata": {
        "id": "vF-YiyDWlKRz"
      },
      "source": [
        "#lisame inimese andmete sõnastikku tema elukoha\n",
        "inimese_andmed[\"elukoht\"] = \"Tartu\"\n",
        "\n",
        "#kuvame muudetud sõnastiku ekraanile\n",
        "print(inimese_andmed)"
      ],
      "execution_count": null,
      "outputs": []
    },
    {
      "cell_type": "markdown",
      "metadata": {
        "id": "knU-u5V1le2i"
      },
      "source": [
        "Olemasolevate väärtuste muutmiseks määrame olemasolevale võtmele uue väärtuse."
      ]
    },
    {
      "cell_type": "code",
      "metadata": {
        "id": "js_bjnyDlja_"
      },
      "source": [
        "#muudame inimese elukohta Tartu -> Tallinn\n",
        "inimese_andmed[\"elukoht\"] = \"Tallinn\"\n",
        "\n",
        "#kuvame muudetud sõnastiku ekraanile\n",
        "print(inimese_andmed)"
      ],
      "execution_count": null,
      "outputs": []
    },
    {
      "cell_type": "markdown",
      "metadata": {
        "id": "WoK77rF4k-WL"
      },
      "source": [
        "**Väike ülesanne:** Lisa sõnastikku veel üks tunnus. Näiteks Tuuli lemmikvärv või elukutse. Seejärel kuva kogu sõnastik uuesti ekraanile ja vaata, kas kõik õnnestus. Vajadusel kutsu abi."
      ]
    },
    {
      "cell_type": "code",
      "metadata": {
        "id": "VrMB6UBQlxJH"
      },
      "source": [
        "#lisa sõnastikku veel üks tunnus\n",
        "\n",
        "\n",
        "#kuva sõnastik ekraanile"
      ],
      "execution_count": null,
      "outputs": []
    },
    {
      "cell_type": "markdown",
      "metadata": {
        "id": "zvZ8Ubgxj1ZH"
      },
      "source": [
        "Kõiki sõnastiku võtmeid näeme käsuga *.keys()* ja kõiki väärtusi käsuga *.values()*."
      ]
    },
    {
      "cell_type": "code",
      "metadata": {
        "id": "oLpxfi8mj9Qg"
      },
      "source": [
        "#kuvame kõik sõnastiku võtmed\n",
        "print(inimese_andmed.keys())\n",
        "\n",
        "#kuvame kõik sõnastiku väärtused\n",
        "print(inimese_andmed.values())"
      ],
      "execution_count": null,
      "outputs": []
    },
    {
      "cell_type": "markdown",
      "metadata": {
        "id": "3XM2i3aUiTHc"
      },
      "source": [
        "**NB!** Ka järjendite ja sõnastike puhul saame andmetüüpi kontrollida käsu *type()* abil."
      ]
    },
    {
      "cell_type": "code",
      "metadata": {
        "id": "EdSV8zO3id6r"
      },
      "source": [
        "jarjend = [1, \"a\", 4, \"True\", True] #NB! mis vahe on elementidel \"True\" ja True?\n",
        "sonastik = {nimi: \"Tuuli\", vanus: 22}\n",
        "\n",
        "print(type(jarjend))\n",
        "print(type(sonastik))\n",
        "\n",
        "#kuidas kontrollida kindlate elementide tüüpe?"
      ],
      "execution_count": null,
      "outputs": []
    },
    {
      "cell_type": "code",
      "metadata": {
        "id": "2NYMmTJCu0tR"
      },
      "source": [
        ""
      ],
      "execution_count": null,
      "outputs": []
    },
    {
      "cell_type": "markdown",
      "metadata": {
        "id": "ot54S7109cX9"
      },
      "source": [
        "## 3.3 For-tsükkel"
      ]
    },
    {
      "cell_type": "markdown",
      "metadata": {
        "id": "076w6mo5l17u"
      },
      "source": [
        "Kujutame ette olukorda, kus meil on vaja sooritada mingi kindel tegevus kõikide elementidega järjendis. Näiteks tahame ükshaaval tervitada kõiki peole saabuvaid külalisi, kelle nimedest oleme koostanud järjendi. Ilus tervitus oleks näiteks \"Tere tulemast, ... !\", kus kolme punkti asemel on külalise nimi. \n",
        "\n",
        "Punktis 3.2.3 õppisid, et järjendi elemendile pääseme ligi indekseerimise abil. Kui me veel for-tsüklit ei oska, peame tervituslause kuvamise käsu kirjutama iga külalise jaoks eraldi:  \n",
        "\n"
      ]
    },
    {
      "cell_type": "code",
      "metadata": {
        "id": "nSRenlySWiDl"
      },
      "source": [
        "#tervitame külalisi ilma tsüklita\n",
        "\n",
        "kylalised = [\"Mai\", \"Tom\", \"Kaur\", \"Meeli\", \"Liis\"] #loome külaliste järjendi\n",
        "\n",
        "print(\"Tere tulemast, \" + kylalised[0] + \"!\") #tervitame järjendi esimest külalist\n",
        "print(\"Tere tulemast, \" + kylalised[1] + \"!\") #tervitame järjendi teist külalist\n",
        "print(\"Tere tulemast, \" + kylalised[2] + \"!\") #tervitame järjendi kolmandat külalist\n",
        "print(\"Tere tulemast, \" + kylalised[3] + \"!\") #tervitame järjendi neljandat külalist\n",
        "print(\"Tere tulemast, \" + kylalised[4] + \"!\") #tervitame järjendi viiendat külalist"
      ],
      "execution_count": null,
      "outputs": []
    },
    {
      "cell_type": "markdown",
      "metadata": {
        "id": "DZG1L5pcXTtL"
      },
      "source": [
        "Nii saame kõik külalised viisakalt tervitatud, kuid mõtle kui pikaks ja tüütuks läheks see kood näiteks 50 või 100 külalisega üritusel! Õnneks on Pythonis olemas for-tsükkel, mis teeb meie elu palju-palju lihtsamaks.\n",
        "\n",
        "For-tsükkel koosneb päisest ja tsükli sisust. **Päis** esitatakse kujul **for ... in ...:** ning sellega kirjeldame Pythonile, millist järjendit (või muud andmestruktuuri) tahame läbi käia ning kuidas selle järjendi elementidele tsükli piires viidata tahame. Näiteks kui kirjutame päiseks **for nimi in kylalised:**, siis tahame läbi käia äsja loodud külaliste järjendi, ning viidata igale elemendile (külalisele) sõnaga **nimi**.\n",
        "\n",
        "**NB!** Tsükli päise lõpus peab alati olema **koolon**!\n",
        "\n",
        "Kui oleme tsükli päises kirjeldanud, mis järjendi läbida tahame, siis tsükli **sisus** kirjeldame, mida me iga elemendiga teha tahame. Näiteks külaliste tervitamise ülesandes tahame ekraanile kuvada iga külalise nime koos tervitusega. \n",
        "\n",
        "**NB!** Iga rida tsükli sisus peab algama päisest ühe taandrea võrra paremalt poolt.\n",
        "\n",
        "Proovime oma külalisi tsükli abil tervitada:"
      ]
    },
    {
      "cell_type": "code",
      "metadata": {
        "id": "1eGikS1oY7Dg"
      },
      "source": [
        "#kuvame meeletuletuseks külaliste järjendi tervikuna\n",
        "print(kylalised)\n",
        "\n",
        "#tervitame külalisi for-tsükliga\n",
        "for nimi in kylalised: #vaatame järjendit \"külalised\" ja viitame igale elemendile muutujaga \"nimi\"\n",
        "  print(\"Tere tulemast, \" + nimi + \"!\")\n"
      ],
      "execution_count": null,
      "outputs": []
    },
    {
      "cell_type": "markdown",
      "metadata": {
        "id": "smWXgMo0ZwD9"
      },
      "source": [
        "Seekord piisas tervitamiseks vaid kaherealisest koodist! Kõige toredam on see, et kui me nüüd järjendisse elemente lisame, siis ei pea me tervituskoodis midagi muutma. For-tsükkel käib ükskõik kui pika järjendi algusest lõpuni läbi ja täidab iga elemendi puhul sisus kirjeldatud käsu. Eelmises tervituskoodis, kus me veel for tsüklit ei kasutanud, peaksime iga uue külalise kohta kirjutama ka uue koodirea. Proovime!"
      ]
    },
    {
      "cell_type": "code",
      "metadata": {
        "id": "2h7ll_BMafmj"
      },
      "source": [
        "#lisame kaks külalist juurde\n",
        "kylalised.append(\"Arno\")\n",
        "kylalised.append(\"Teele\")"
      ],
      "execution_count": null,
      "outputs": []
    },
    {
      "cell_type": "code",
      "metadata": {
        "id": "SMJYgnFja7AP"
      },
      "source": [
        "#vaatame, kuidas saab uute külaliste tervitamisega hakkama meie esimenetervituskood (kopeeritud ülalt)\n",
        "print(\"Tere tulemast, \" + kylalised[0] + \"!\") #tervitame järjendi esimest külalist\n",
        "print(\"Tere tulemast, \" + kylalised[1] + \"!\") #tervitame järjendi teist külalist\n",
        "print(\"Tere tulemast, \" + kylalised[2] + \"!\") #tervitame järjendi kolmandat külalist\n",
        "print(\"Tere tulemast, \" + kylalised[3] + \"!\") #tervitame järjendi neljandat külalist\n",
        "print(\"Tere tulemast, \" + kylalised[4] + \"!\") #tervitame järjendi viiendat külalist"
      ],
      "execution_count": null,
      "outputs": []
    },
    {
      "cell_type": "code",
      "metadata": {
        "id": "tgZj-idubFZv"
      },
      "source": [
        "#ja kuidas saab hakkama for-tsükliga kood (kopeeritud ülalt)\n",
        "for nimi in kylalised: #vaatame järjendit \"külalised\" ja viitame igale elemendile muutujaga \"nimi\"\n",
        "  print(\"Tere tulemast, \" + nimi + \"!\")"
      ],
      "execution_count": null,
      "outputs": []
    },
    {
      "cell_type": "markdown",
      "metadata": {
        "id": "EJf0kuMOUixb"
      },
      "source": [
        "Ka Arno ja Teele said tervitatud!\n",
        "\n",
        "Tegelikult võib elemendi tähistamiseks kasutada ükskõik millist sõne, mis sobib oma vormi poolest muutuja nimeks (ei sisalda tühikuid, ei alga numbriga jne). Oluline on, et viitaksime elemendile **päises ja sisus ühtemoodi**. Näiteks:\n",
        "\n",
        "```\n",
        "for n in kylalised:\n",
        "  print(n)\n",
        "```\n",
        "\n",
        "või\n",
        "\n",
        "```\n",
        "for element in kylalised:\n",
        "  print(element)\n",
        "```"
      ]
    },
    {
      "cell_type": "markdown",
      "metadata": {
        "id": "91Mvb-mMbpxe"
      },
      "source": [
        "Tsükli sisus võib olla ka rohkem kui üks rida. Vaatame näiteks for-tsüklit, kus kuvame iga elemendi kohta ekraanile kõigepealt elemendi enda ja seejärel temast 2 võrra väiksema ja 3 võrra suurema arvu:"
      ]
    },
    {
      "cell_type": "code",
      "metadata": {
        "id": "bZ8PNFpllwvf"
      },
      "source": [
        "#kuvame kogu arvude järjendi (defineeritud ülalpool)\n",
        "print(arvud)\n",
        "\n",
        "#kuvame iga elemendi jaoks temast 2 võrra väiksema ja 3 võrra suurema arvu\n",
        "for arv in arvud: #tsükli päis\n",
        "  print(\"Vaatame järjendi elementi: \" + str(arv)) #teisendan täisarvulise muutuja sõneks ja kuvan ekraanile\n",
        "  print(arv-2) #lahutan järjendi elemendist 2 ja kuvan ekraanile\n",
        "  print(arv+3) #liidan järjendi elemendile 3 ja kuvan ekraanile\n",
        "  print(\"Selle elemendiga on töö tehtud, võtan järgmise!\")\n"
      ],
      "execution_count": null,
      "outputs": []
    },
    {
      "cell_type": "markdown",
      "metadata": {
        "id": "V5HS2Aa_mUGu"
      },
      "source": [
        "**NB!** Kas panid tähele, et tsükli sisu esimeses reas kasutasin tüübi teisenduse funktsiooni **str()**? Miks? Sellepärast, et arvude järjendis olid meil täisarvud ning selleks, et täisarvu koos sõnega (\"*Vaatame järjendi elementi: \"*) ekraanile kuvada, tuleb ta esmalt sõneks teisendada.\n",
        "\n"
      ]
    },
    {
      "cell_type": "markdown",
      "metadata": {
        "id": "_bCTDnU19faX"
      },
      "source": [
        "## 3.4 Funktsioonid"
      ]
    },
    {
      "cell_type": "markdown",
      "metadata": {
        "id": "VcXpPJo0npQF"
      },
      "source": [
        "Pythonis saame teatud koodijuppidest luua ka eraldi funktsioonid. Sellisel juhul ei pea iga kord ühte ja sama koodijuppi uuesti kirjutama, vaid piisab enda loodud funktsiooni väljakutsumisest. Vaatame näiteks praktikumi alguses toodud näidet kahe arvu aritmeetilise keskmise loomisest:\n",
        "\n",
        "\n",
        "```\n",
        "# aritmeetilise keskmise leidmine\n",
        "arv_1 = 15\n",
        "arv_2 = 5\n",
        "summa = arv_1 + arv_2\n",
        "keskmine = summa / 2\n",
        "print(keskmine)\n",
        "```\n",
        "\n",
        "Selles koodijupis on 5 rida. Oletame, et meie koodis on vaja leida arvude aritmeetilist keskmist kolmes erinevas kohas. Ilma funktsiooni loomata peaksime järelikult kulutama nende keskmiste leidmise peale 15 koodirida."
      ]
    },
    {
      "cell_type": "code",
      "metadata": {
        "id": "FORySHd3nYC6"
      },
      "source": [
        "#Leiame kolme erineva arvupaari aritmeetilised keskmised ilma funktsiooni abita\n",
        "\n",
        "#arvude 15 ja 5 keskmine\n",
        "# aritmeetilise keskmise leidmine\n",
        "arv_1 = 15\n",
        "arv_2 = 5\n",
        "summa = arv_1 + arv_2\n",
        "keskmine = summa / 2\n",
        "print(keskmine)\n",
        "\n",
        "#arvude 7 ja 8 keskmine\n",
        "# aritmeetilise keskmise leidmine\n",
        "arv_1 = 7\n",
        "arv_2 = 8\n",
        "summa = arv_1 + arv_2\n",
        "keskmine = summa / 2\n",
        "print(keskmine)\n",
        "\n",
        "#arvude 20 ja 30 keskmine\n",
        "# aritmeetilise keskmise leidmine\n",
        "arv_1 = 20\n",
        "arv_2 = 30\n",
        "summa = arv_1 + arv_2\n",
        "keskmine = summa / 2\n",
        "print(keskmine)"
      ],
      "execution_count": null,
      "outputs": []
    },
    {
      "cell_type": "markdown",
      "metadata": {
        "id": "CeIKGZ7Pohh3"
      },
      "source": [
        "Nii palju kirjutada on üsna tülikas. Seetõttu loome aritmeetilise keskmise leidmisest eraldi funktsiooni. Uue funktsiooni loomiseks kasutame märksõna ***def***, millele järgnevad **loodava funktsiooni nimi**, sulgudes **argumendid** ja rea lõpust ei tohi unustada **koolonit**. Märksõnaga *def* algava rea alla saame kirjutada erinevaid käsklusi, mis moodustavad selle funktsiooni sisu.\n",
        "\n",
        "**NB!** Iga käsklus peab algama uuelt realt ja taandreaga! Kui jõuame järgmise ilma taandreata koodijupini, eeldab Python, et funktsiooni definitsioon on läbi.\n",
        "\n",
        "\n",
        "```\n",
        "def funktsiooni_nimi(argument_1, argument_2, ...):\n",
        "  #funktsiooni sisu\n",
        "```\n",
        "\n",
        "Argumendid on need väärtused, mis me funktsioonile sisendiks anname ja mille põhjal see vajalikke asju arvutab. \n",
        "\n",
        "Praegusel juhul loome funktsiooni, mis arvutab kahe arvu keskmise. Seetõttu on meie argumentideks kaks arvu. \n",
        "\n",
        "Kõige lõpus peab funktsioon mingi väärtuse tagastama, vastasel juhul ei ole arvutamisest mingit kasu, kuna tulemust ei salvestata ja me ei saa seda kuskil kasutada. Tagastatava väärtuse tähistame märksõnaga **return**.\n",
        "\n",
        "Kui oleme funktsiooni sääraselt defineerinud, jätab Python meelde, millised tegevused meie funktsiooni nime juurde kuuluvad. Seega ei pea me tulevikus kogu funktsiooni sisu moodustavat koodi uuesti lahti kirjutama, vaid ütleme Pythonile lihtsalt, mis nimelist funktsiooni millistel muutujatel või väärtustel rakendada soovime. Python otsib oma mälust vastava funktsiooni ning sooritab seal kirjeldatud käsklused."
      ]
    },
    {
      "cell_type": "code",
      "metadata": {
        "id": "mFqbn0NpogWE"
      },
      "source": [
        "#aritmeetilise keskmise leidmine funktsioonina\n",
        "\n",
        "def leia_keskmine(arv_1, arv_2): #määrame funktsiooni ja argumentide nimed\n",
        "  summa = arv_1 + arv_2 #leiame argumentide summa\n",
        "  keskmine = summa / 2 #jagame summa kahega et leida keskmine\n",
        "  return keskmine #tagastame keskmise väärtuse"
      ],
      "execution_count": null,
      "outputs": []
    },
    {
      "cell_type": "markdown",
      "metadata": {
        "id": "4qNKabYApuSr"
      },
      "source": [
        "Kas mäletad, et for-tsükli juures polnud oluline, mis muutujanimega sa järjendi elemendi poole pöördusid, seni kuni see nimi oli sama kogu tsükli vältel? Sarnane lugu on funktsioonide argumentidega. Järgmised kaks funktsiooni on oma sisult täiesti identsed:\n",
        "\n",
        "```\n",
        "def minu_funktsioon(arv):\n",
        "  print(arv)\n",
        "```\n",
        "\n",
        "```\n",
        "def minu_funktsioon(abcd):\n",
        "  print(abcd)\n",
        "```\n",
        "\n",
        "Ainus erinevus on see, et *abcd* on üsna kehv muutujanimi, kuna ei anna meile mingit infot oma sisu või eesmärgi kohta. Kui anda muutujatele suvalised nimed, siis on pikas koodis lõpuks väga keeruline orienteeruda.\n",
        "\n",
        "Hoopis keelatud oleks aga näiteks selline variant:\n",
        "\n",
        "```\n",
        "def minu_funktsioon(abcd):\n",
        "  print(arv)\n",
        "```\n",
        "\n",
        "Niimoodi kirjutades ei ole Pythonil aimugi, mis väärtusele võiks viidata muutujanimi *arv* kuna funktsiooni definitsioonis tähistasime argumenti hoopis teise nimega.\n",
        "\n",
        "Aga pöördume tagasi oma ülesande juurde. Nüüd on keskmise leidmise funktsioon defineeritud ja peame selle üksnes õigete arvudega välja kutsuma. "
      ]
    },
    {
      "cell_type": "code",
      "metadata": {
        "id": "U2348uJVptyr"
      },
      "source": [
        "#Leiame kolme erineva arvupaari aritmeetilised keskmised funktsiooni abiga\n",
        "\n",
        "#arvude 15 ja 5 keskmine\n",
        "#kutsume välja funktsiooni \"leia_keskmine\" ja anname argumentideks arvud 15 ja 5\n",
        "print(leia_keskmine(15, 5))\n",
        "\n",
        "#arvude 7 ja 8 keskmine\n",
        "print(leia_keskmine(7, 8))\n",
        "\n",
        "#arvude 20 ja 30 keskmine\n",
        "print(leia_keskmine(20, 30))"
      ],
      "execution_count": null,
      "outputs": []
    },
    {
      "cell_type": "markdown",
      "metadata": {
        "id": "PTyQlkRhqUf0"
      },
      "source": [
        "Kui võrdleme seda koodikastikest eelmisega, kus leidsime samad väärtused ilma funktsiooni abita, on pikkuste vahe märgatav. Kujuta nüüd ette, kui suur on see erinevus paarikümne või paarisaja rea pikkuste funktsioonide puhul! Lisaks aitab funktsioonide kasutamine vältida ka näpuvigu, kuna alati kutsume välja ühe ja sama koodi.\n",
        "\n",
        "Pane tähele, et ka funktsiooni väljakutsumise ees on juba tuttav *print()* käsk. Seda seetõttu, et funktsioonis kasutatav *return* üksnes tagastab väärtuse, mitte ei kuva seda ekraanile. Vaatame, mis tüüpi väärtuse see funktsioon tagastab:"
      ]
    },
    {
      "cell_type": "code",
      "metadata": {
        "id": "sN2kV6lyfi89"
      },
      "source": [
        "#vaatame funktsiooni poolt tagastatava väärtuse tüüpi\n",
        "print(type(leia_keskmine(7, 8))) #kuvame ekraanile funktsiooni poolt tagastatava väärtuse tüübi"
      ],
      "execution_count": null,
      "outputs": []
    },
    {
      "cell_type": "markdown",
      "metadata": {
        "id": "tYaiaL8WgWLf"
      },
      "source": [
        "Saime tulemuseks, et väärtus on ujukomaarvu tüüpi. Kas see tähendab, et saame funktsiooni poolt tagastatava tulemusega ka arvutada? Jah!"
      ]
    },
    {
      "cell_type": "code",
      "metadata": {
        "id": "ofTAPauKgRuS"
      },
      "source": [
        "#liidame 7 ja 8 aritmeetilisele keskmisele juurde 10 ja kuvame tulemuse ekraanile\n",
        "liida_kymme = leia_keskmine(7, 8) + 10\n",
        "print(liida_kymme)\n",
        "\n",
        "#või pikemalt lahti kirjutades\n",
        "keskmine = leia_keskmine(7, 8)\n",
        "liida_kymme = keskmine + 10"
      ],
      "execution_count": null,
      "outputs": []
    },
    {
      "cell_type": "markdown",
      "metadata": {
        "id": "wRgiO0k5g4KX"
      },
      "source": [
        "---\n",
        "**Väike ülesanne:** \n",
        "1. Leia funktsiooni *leia_keskmine* abil arvude 29 ja 378 aritmeetiline keskmine ja salvesta see muutujasse keskmine_1.\n",
        "2. Leia funktsiooni *leia_keskmine* abil arvude 99 ja 256 aritmeetiline keskmine ja salvesta see muutujasse keskmine_2.\n",
        "3. Liida leitud keskmised kokku ja salvesta tulemus muutujasse keskmiste_summa.\n",
        "4. Kuva keskmiste summa ekraanile.\n",
        "5. Kuva keskmiste summa ekraanile kujul \"Aritmeetiliste keskmiste summa on: ...\", kus kolme punkti asemel on leitud summa. (Vihje: pööra tähelepanu andmetüüpidele. Mida tegi funktsioon *str()*?)\n"
      ]
    },
    {
      "cell_type": "code",
      "metadata": {
        "id": "f3QSUxvAgpcF"
      },
      "source": [
        "#29 ja 378 keskmine\n",
        "keskmine_1 = \n",
        "\n",
        "#99 ja 256 keskmine\n",
        "\n",
        "\n",
        "#keskmiste summa\n",
        "\n",
        "\n",
        "#kuva summa ekraanile\n",
        "\n",
        "\n",
        "#kuva summa ekraanile koos lausega\n",
        "#NB! kuidas kuvada arvulist muutujat koos tekstiga?\n",
        "print(\"Aritmeetiliste keskmiste summa on: \")"
      ],
      "execution_count": null,
      "outputs": []
    },
    {
      "cell_type": "markdown",
      "metadata": {
        "id": "BgtHcP0p9jZ2"
      },
      "source": [
        "# 4. Teegid"
      ]
    },
    {
      "cell_type": "markdown",
      "metadata": {
        "id": "L8tbaaCq9mWw"
      },
      "source": [
        "Pythoni **teegid** on nagu koodiraamatukogud. Need sisaldavad kasulikke tööriistu, näiteks funktsioone, mis joonistavad ekraanile graafikuid, arvutavad statistilisi erinevusi või lihtsalt loevad tekstifailidest andmeid sisse. Et mõnda teeki kasutada, tuleb sellele oma koodis viidata, kasutades märksõna **import**. Seejärel muutuvad kõik selles teegis olevad tööriistad (nt funktsioonid) meie koodis kasutatavaks. "
      ]
    },
    {
      "cell_type": "markdown",
      "metadata": {
        "id": "6AXPA-Lk9oP_"
      },
      "source": [
        "## 4.1 Pandas teek"
      ]
    },
    {
      "cell_type": "markdown",
      "metadata": {
        "id": "VXALbrygUT8O"
      },
      "source": [
        "Üks tuntumaid ja mugavamaid andmetega töötamiseks vajalikke vahendeid sisaldav teek on Pandas. Pandase teek võimaldab andmeid failidest sisse lugeda ja erinevates formaatides hoiustada ning seondub mugavalt teiste kasulike teekidega nagu Numpy (arvutuslik Python).\n",
        "\n",
        "Vaatame nüüd kuidas Pandases sidalduvad kasulikud funktsioonid ja andmetüübid meie Colabi vihikus kättesaadavaks teha. Selleks kasutame **import** käsku. Märksõna **as** lubab teegile anda \"hüüdnime\", mille abil teegis sisalduvaid tööriistu lühema nimega välja kutsuda - vähem trükkimist.\n"
      ]
    },
    {
      "cell_type": "code",
      "metadata": {
        "id": "EmwkkjXxdK4N"
      },
      "source": [
        "import pandas as pd"
      ],
      "execution_count": null,
      "outputs": []
    },
    {
      "cell_type": "markdown",
      "metadata": {
        "id": "fv6SPj60dO1B"
      },
      "source": [
        "Rohkem infot selle teegi kohta saame näha help() funktsiooni abil. Peamiselt näeme, et Pandas teek sisaldab alamteeke (Package). Nende igaühe kohta saame omakorda päringuid teha (näiteks help(pd.arrays)), aga käesolevas kursuses te ise teegist õiget tööriista otsima hakkama ei pea."
      ]
    },
    {
      "cell_type": "code",
      "metadata": {
        "id": "9Gm03cledPmz"
      },
      "source": [
        "help(pd)\n",
        "#help(pd.arrays) # see on välja kommenteeritud, sest kuvaks väga pika\n",
        "                 # ja detailse kirjelduse sisalduvate funktsioonide kohta"
      ],
      "execution_count": null,
      "outputs": []
    },
    {
      "cell_type": "markdown",
      "metadata": {
        "id": "0fLXecTRgqGY"
      },
      "source": [
        "Siiski igaks juhuks mainime ka **dir** funktsiooni, mis loetleb kõik teegis saadaolevad funktsioonid. Kui vahel juhtub, et tead, et vastava teegiga saab midagi teha, aga ei mäleta funktsiooni nime, siis on hea näha kõigi funktsioonide nimesid.\n",
        "Näiteks järgnevast nimekirjast võiksime me harjutusena püüda leida funktsiooni, mis loeb sisse (ingl. k. read) CSV formaadis andmefaile. "
      ]
    },
    {
      "cell_type": "code",
      "metadata": {
        "id": "8o3IqiFZfT6W"
      },
      "source": [
        "dir(pd)"
      ],
      "execution_count": null,
      "outputs": []
    },
    {
      "cell_type": "markdown",
      "metadata": {
        "id": "oTRAyHw5hFRq"
      },
      "source": [
        "Jah, tõesti, see funktsioon on **read_csv()**. Tema kohta võite lugeda ise pikemalt kui lisate siia koodikasti ja sisestate help(pd.read_csv). See kuvab juttu selle funktsiooni kohta ning kuidas seda kasutada - mis on vaja funktsioonile sisendiks anda, et ta õige faili leiaks ja soovitud viisil sisse loeks. Näiteks võib täpsustada, kas veergude eristamiseks on kasutatud komasid, tühikuid või tabeldusklahvi (TAB).\n",
        "\n",
        "Meie aga liigume kohe faili sisse lugemise juurde. Kasutame näitena andmetabelit, kuhu on kogutud info erinevate tehingute ja neid sooritanud klientide kohta. Näeme andmetes tehingu ID-d ja kuupäeva, kliendi nime ja summat, mis antud tehingu peale kulutati.\n",
        "\n",
        "Meie faili esimesed read näevad välja nagu näidatud all pildil. Teie arvuti avaks seda tõenäoliselt automaatselt Exceli või muu tabelitöötluse rakendusega, nii et sellisel toorel kujul ei olegi te võibolla oma tabeleid näinud.\n",
        "\n",
        "![picture](https://courses.cs.ut.ee/2021/atva_stataine/fall/uploads/Main/tabeli_kuju.png)\n"
      ]
    },
    {
      "cell_type": "code",
      "metadata": {
        "id": "02FVA6ZFhVe6"
      },
      "source": [
        "#see pole Pythoni kood, see käsk laeb Colabi virtuaalkeskkonda meile vajaliku faili, \n",
        "#mille nimeks on \"klientide_tehingud.csv\"\n",
        "!wget https://courses.cs.ut.ee/2021/atva_stataine/fall/uploads/Main/klientide_tehingud.csv\n",
        "\n",
        "#järgnev rida loeb sisse meie CSV formaadis faili, kasutades veergude eristamiseks \n",
        "#sisse-ehitatud vaikeväärtust (koma)\n",
        "andmed_df = pd.read_csv(\"klientide_tehingud.csv\")"
      ],
      "execution_count": null,
      "outputs": []
    },
    {
      "cell_type": "markdown",
      "metadata": {
        "id": "QplxBL9eqjzD"
      },
      "source": [
        "Vaatame, kas print() funktsioon oskab meile samuti seda tabelit kuvada"
      ]
    },
    {
      "cell_type": "code",
      "metadata": {
        "id": "vO-JXbvlqkT8"
      },
      "source": [
        "print(andmed_df)"
      ],
      "execution_count": null,
      "outputs": []
    },
    {
      "cell_type": "markdown",
      "metadata": {
        "id": "DDBQr0QR7Ajj"
      },
      "source": [
        "Natuke ilusamal kujul saame oma andmeid vaadata *display* käsuga."
      ]
    },
    {
      "cell_type": "code",
      "metadata": {
        "id": "CKQw24SH6b2X"
      },
      "source": [
        "display(andmed_df)"
      ],
      "execution_count": null,
      "outputs": []
    },
    {
      "cell_type": "markdown",
      "metadata": {
        "id": "qdNaYO40q6cO"
      },
      "source": [
        "Näeme, et meil on üks tüütu esimene veerg, millel pole nime ja mis sisaldas lihtsalt reanumbrit. Sellel veerul puudub ka nimi, nii et Pandas.read_csv() funktsioon andis sellele nimeks \"Unnamed\" ehk \"nimeta\". Kuidas seda eemaldada või mitte üldse sisse lugeda näeme järgmises praktikumis, samuti nagu paljusid teisi Pandase abil tehtavaid operatisoone andmetabelitega.\n",
        "\n",
        "Siinkohal tuleme aga tagasi andmetüüpide juurde. Mis tüüpi muutuja on \"andmed_df\" ehk meie sisse loetud tabel?"
      ]
    },
    {
      "cell_type": "code",
      "metadata": {
        "id": "Tw6JMPj3rmMs"
      },
      "source": [
        "print(type(andmed_df))"
      ],
      "execution_count": null,
      "outputs": []
    },
    {
      "cell_type": "markdown",
      "metadata": {
        "id": "WQepzk4nrow7"
      },
      "source": [
        "Tegu on Pandase teegis spetsiaalselt andmetabelite jaoks loodud muutujatüübiga ehk programmeerimiskeeles **objekti**tüübiga, millel eestikeelseks nimeks *andmefreim*.\n",
        "\n",
        "Saame pärida ka igas veerus olevate andmete tüübid."
      ]
    },
    {
      "cell_type": "code",
      "metadata": {
        "id": "lBiQ0xQmsqzj"
      },
      "source": [
        "print(andmed_df.dtypes)"
      ],
      "execution_count": null,
      "outputs": []
    },
    {
      "cell_type": "markdown",
      "metadata": {
        "id": "-Qt3UOgatSEb"
      },
      "source": [
        "Näeme tulemuseks saadud loetelus juba varasematest näidetest tuttavaid andmetüüpe *int* (täisarv) ja *float* (ujukomaarv). Kuupäeva infot salvestatakse *object* tüüpi muutujas, aga sellest räägime lähemalt juba järgmistes praktikumides. \n",
        "\n",
        "Pandasega hakkame põhjalikumalt töötama järgmises praktikumis. Siinkohal tutvustasime lihtsalt mõne näitega meie põhilist tööriista, et te saaksite sellega harjuda ning soovi korral mingeid materjale juurde lugeda, näiteks [siit lingilt](https://pandas.pydata.org/docs/getting_started/index.html). "
      ]
    }
  ]
}