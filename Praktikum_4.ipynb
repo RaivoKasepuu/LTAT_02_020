{
  "nbformat": 4,
  "nbformat_minor": 0,
  "metadata": {
    "colab": {
      "name": "Praktikum_4",
      "provenance": [],
      "collapsed_sections": [
        "bd0IthiuULCu"
      ],
      "include_colab_link": true
    },
    "kernelspec": {
      "name": "python3",
      "display_name": "Python 3"
    },
    "language_info": {
      "name": "python"
    }
  },
  "cells": [
    {
      "cell_type": "markdown",
      "metadata": {
        "id": "view-in-github",
        "colab_type": "text"
      },
      "source": [
        "<a href=\"https://colab.research.google.com/github/RaivoKasepuu/LTAT_02_020/blob/main/Praktikum_4.ipynb\" target=\"_parent\"><img src=\"https://colab.research.google.com/assets/colab-badge.svg\" alt=\"Open In Colab\"/></a>"
      ]
    },
    {
      "cell_type": "markdown",
      "metadata": {
        "id": "o4FItai83_rB"
      },
      "source": [
        "# Praktikum 4\n",
        "\n",
        "*Praktikum baseerub Anna Leontjeva loodud materjalil*\n"
      ]
    },
    {
      "cell_type": "markdown",
      "metadata": {
        "id": "KnI2Gl0GBi9l"
      },
      "source": [
        "## 1. Eeltöö andmetega"
      ]
    },
    {
      "cell_type": "markdown",
      "metadata": {
        "id": "fFfmAPpt4s9k"
      },
      "source": [
        "Tänases praktikumis jätkame juba tuttava tehingute andmefaili analüüsimisega. Siiani oleme õppinud, kuidas andmeid `Pandas` teegi abil andmefreimi lugeda, kuidas leida andmefreimist mingitele tingimustele vastavaid ridu ja veerge, kuidas arvutada andmetele erinevaid statistilisi näitajaid ja kuidas andmetest `plotnine` ja `matplotlib` teekide abil lihtsamaid kirjeldavaid jooniseid teha. \n",
        "\n",
        "Teeme esmalt läbi mõned andmete eeltöötluse sammud, tuletame kiirelt meelde statistikute arvutamise ning loome ka paar joonist. Alustame taaskord andmete sisselugemisest ning nende vaatamisest. Aga esmalt impordime vajaliku teegi!\n"
      ]
    },
    {
      "cell_type": "code",
      "metadata": {
        "id": "tc3_P7DbE884"
      },
      "source": [
        "import pandas as pd\n",
        "#impordime lisaks ka numpy andmete töötluseks,\n",
        "import numpy as np\n",
        "#plotnine, matplotlib visualiseerimiseks\n",
        "import plotnine as p9\n",
        "import matplotlib.pyplot as plt\n",
        "#ja sklearn teegi vahendid klasterdamiseks\n",
        "from sklearn.cluster import KMeans\n",
        "from sklearn.preprocessing import MinMaxScaler"
      ],
      "execution_count": null,
      "outputs": []
    },
    {
      "cell_type": "code",
      "metadata": {
        "id": "jV-yiQoYMU5h",
        "colab": {
          "base_uri": "https://localhost:8080/",
          "height": 403
        },
        "outputId": "529d707f-0a3c-4e92-8006-b070242c9144"
      },
      "source": [
        "#hangime andmefaili kursuse kodulehelt - NB! see ei ole Pythoni kood!\n",
        "!wget https://courses.cs.ut.ee/2021/atva_stataine/fall/uploads/Main/tehingud_v3.csv\n",
        "\n",
        "#loeme andmed andmefreimi\n",
        "tehingud = pd.read_csv(\"tehingud_v3.csv\")\n",
        "\n",
        "#ja vaatame andmefreimi esimesi ridu\n",
        "display(tehingud.head(3))"
      ],
      "execution_count": null,
      "outputs": [
        {
          "output_type": "stream",
          "name": "stdout",
          "text": [
            "--2021-10-21 11:16:23--  https://courses.cs.ut.ee/2021/atva_stataine/fall/uploads/Main/tehingud_v3.csv\n",
            "Resolving courses.cs.ut.ee (courses.cs.ut.ee)... 193.40.36.57, 193.40.36.55\n",
            "Connecting to courses.cs.ut.ee (courses.cs.ut.ee)|193.40.36.57|:443... connected.\n",
            "HTTP request sent, awaiting response... 301 Moved Permanently\n",
            "Location: /LTAT.02.020/2021_fall/uploads/Main/tehingud_v3.csv [following]\n",
            "--2021-10-21 11:16:24--  https://courses.cs.ut.ee/LTAT.02.020/2021_fall/uploads/Main/tehingud_v3.csv\n",
            "Reusing existing connection to courses.cs.ut.ee:443.\n",
            "HTTP request sent, awaiting response... 200 OK\n",
            "Length: 133961 (131K) [text/csv]\n",
            "Saving to: ‘tehingud_v3.csv.1’\n",
            "\n",
            "tehingud_v3.csv.1   100%[===================>] 130.82K   308KB/s    in 0.4s    \n",
            "\n",
            "2021-10-21 11:16:25 (308 KB/s) - ‘tehingud_v3.csv.1’ saved [133961/133961]\n",
            "\n"
          ]
        },
        {
          "output_type": "display_data",
          "data": {
            "text/html": [
              "<div>\n",
              "<style scoped>\n",
              "    .dataframe tbody tr th:only-of-type {\n",
              "        vertical-align: middle;\n",
              "    }\n",
              "\n",
              "    .dataframe tbody tr th {\n",
              "        vertical-align: top;\n",
              "    }\n",
              "\n",
              "    .dataframe thead th {\n",
              "        text-align: right;\n",
              "    }\n",
              "</style>\n",
              "<table border=\"1\" class=\"dataframe\">\n",
              "  <thead>\n",
              "    <tr style=\"text-align: right;\">\n",
              "      <th></th>\n",
              "      <th>tehingu_id</th>\n",
              "      <th>tehingu_kuupäev</th>\n",
              "      <th>kliendi_id</th>\n",
              "      <th>ostusumma</th>\n",
              "      <th>maksevahend</th>\n",
              "    </tr>\n",
              "  </thead>\n",
              "  <tbody>\n",
              "    <tr>\n",
              "      <th>0</th>\n",
              "      <td>1</td>\n",
              "      <td>2015-09-04</td>\n",
              "      <td>1</td>\n",
              "      <td>146.72</td>\n",
              "      <td>arve</td>\n",
              "    </tr>\n",
              "    <tr>\n",
              "      <th>1</th>\n",
              "      <td>2</td>\n",
              "      <td>2015-05-15</td>\n",
              "      <td>2</td>\n",
              "      <td>86.96</td>\n",
              "      <td>sularaha</td>\n",
              "    </tr>\n",
              "    <tr>\n",
              "      <th>2</th>\n",
              "      <td>3</td>\n",
              "      <td>2017-05-23</td>\n",
              "      <td>2</td>\n",
              "      <td>17.68</td>\n",
              "      <td>kaart</td>\n",
              "    </tr>\n",
              "  </tbody>\n",
              "</table>\n",
              "</div>"
            ],
            "text/plain": [
              "   tehingu_id tehingu_kuupäev  kliendi_id  ostusumma maksevahend\n",
              "0           1      2015-09-04           1     146.72        arve\n",
              "1           2      2015-05-15           2      86.96    sularaha\n",
              "2           3      2017-05-23           2      17.68       kaart"
            ]
          },
          "metadata": {}
        }
      ]
    },
    {
      "cell_type": "markdown",
      "metadata": {
        "id": "KO3X7C8uMub9"
      },
      "source": [
        "Hea oleks teada ka näiteks meie andmetabeli suurust, tulpades esinevaid andmetüüpe ja seda, kas andmetes esineb puuduvaid väärtusi."
      ]
    },
    {
      "cell_type": "code",
      "metadata": {
        "id": "8eh4RTepNl9q",
        "colab": {
          "base_uri": "https://localhost:8080/"
        },
        "outputId": "32119166-dad6-4859-df90-f31a903055c6"
      },
      "source": [
        "#andmefreimi mõõtmed atribuudi shape abil\n",
        "print(\"Andmefreimi mõõtmed:\", tehingud.shape, \"\\n\") #esimene nr näitab ridade, teine tulpade arvu\n",
        "\n",
        "#kas andmetes esineb puuduvaid väärtusi\n",
        "print(\"Puuduvad väärtused:\")\n",
        "tehingud.isnull().sum()"
      ],
      "execution_count": null,
      "outputs": [
        {
          "output_type": "stream",
          "name": "stdout",
          "text": [
            "Andmefreimi mõõtmed: (4181, 5) \n",
            "\n",
            "Puuduvad väärtused:\n"
          ]
        },
        {
          "output_type": "execute_result",
          "data": {
            "text/plain": [
              "tehingu_id         0\n",
              "tehingu_kuupäev    0\n",
              "kliendi_id         0\n",
              "ostusumma          0\n",
              "maksevahend        0\n",
              "dtype: int64"
            ]
          },
          "metadata": {},
          "execution_count": 40
        }
      ]
    },
    {
      "cell_type": "markdown",
      "metadata": {
        "id": "uHBsJB7kOqiG"
      },
      "source": [
        "Teeme väikese kõrvalepõike ja peatume hetkeks viimasel jooksutatud koodireal `tehingud.isnull().sum()`. Mis siis sisuliselt toimub? Püüame meenutada teist praktikumi, kus meil oli juttu tõeväärtustest ja andmefreimist tingimuse abil väärtuste leidmisest. Ka siin kehtib sarnane loogika. Vaatame, mis juhtub, kui jooksutada üksnes `tehingud.isnull()`"
      ]
    },
    {
      "cell_type": "code",
      "metadata": {
        "id": "QkH1VmSkPNdy",
        "colab": {
          "base_uri": "https://localhost:8080/"
        },
        "outputId": "0770c1a2-691e-424b-988c-d4e11ead33c7"
      },
      "source": [
        "print(tehingud.isnull())\n",
        "\n",
        "print(\"\\nSaame järgmist tüüpi muutuja:\", type(tehingud.isnull()))"
      ],
      "execution_count": null,
      "outputs": [
        {
          "output_type": "stream",
          "name": "stdout",
          "text": [
            "      tehingu_id  tehingu_kuupäev  kliendi_id  ostusumma  maksevahend\n",
            "0          False            False       False      False        False\n",
            "1          False            False       False      False        False\n",
            "2          False            False       False      False        False\n",
            "3          False            False       False      False        False\n",
            "4          False            False       False      False        False\n",
            "...          ...              ...         ...        ...          ...\n",
            "4176       False            False       False      False        False\n",
            "4177       False            False       False      False        False\n",
            "4178       False            False       False      False        False\n",
            "4179       False            False       False      False        False\n",
            "4180       False            False       False      False        False\n",
            "\n",
            "[4181 rows x 5 columns]\n",
            "\n",
            "Saame järgmist tüüpi muutuja: <class 'pandas.core.frame.DataFrame'>\n"
          ]
        }
      ]
    },
    {
      "cell_type": "markdown",
      "metadata": {
        "id": "iM1UfPGwPeco"
      },
      "source": [
        "Näeme, et tulemuseks on andmefreim, mis sisaldab tõeväärtusi. Kui kutsume andmefreimi peal välja `.isnull()` meetodi, siis käib Python selle andmefreimi kõik väärtused ükshaaval läbi ja vastab igaühe kohta `True` (on puuduv väärtus ehk `NULL`) või `False` (ei ole puuduv väärtus).\n",
        "\n",
        "Sellel andmefreimil saame välja kutsuda meetodi `.sum()`, mis arvutab tõeväärtuste summa nii, et iga `True` väärtuseks loetakse 1 ja iga `False` väärtuseks 0. Seega loetakse sisuliselt kokku tõesed tõeväärtused. Oluline on märgata, et `.sum()` toimetab veergude kaupa - saame tulemuse iga veeru jaoks eraldi nagu üleeelmise koodikasti väljundis näha oli.\n"
      ]
    },
    {
      "cell_type": "markdown",
      "metadata": {
        "id": "UiBjtQF4R51M"
      },
      "source": [
        "Pöördume tagasi oma andmete juurde. Tahtsime vaadata veel tulpade andmetüüpe."
      ]
    },
    {
      "cell_type": "code",
      "metadata": {
        "id": "drhaOb4IS7jy",
        "colab": {
          "base_uri": "https://localhost:8080/"
        },
        "outputId": "74132ce5-4ac4-4520-f99b-1cacd8cb9d2f"
      },
      "source": [
        "#tulpade andmetüübid atribuudi dtypes abil\n",
        "print(\"Tulpade andmetüübid:\")\n",
        "print(tehingud.dtypes)"
      ],
      "execution_count": null,
      "outputs": [
        {
          "output_type": "stream",
          "name": "stdout",
          "text": [
            "Tulpade andmetüübid:\n",
            "tehingu_id           int64\n",
            "tehingu_kuupäev     object\n",
            "kliendi_id           int64\n",
            "ostusumma          float64\n",
            "maksevahend         object\n",
            "dtype: object\n"
          ]
        }
      ]
    },
    {
      "cell_type": "markdown",
      "metadata": {
        "id": "7-E6BAHpTEdn"
      },
      "source": [
        "Tehingu kuupäeva juures on hetkel andmetüüp objekt. Pythonis viitab see sisuliselt sellele, et tulbas on kas sõnelised või sõnelised ja numbrilised väärtused. Vaatame, kas meil õnnestub küsida, kui pikk vahe on kõige varasema ja kõige hilisema kuupäeva vahel. "
      ]
    },
    {
      "cell_type": "code",
      "metadata": {
        "id": "vHOrn6liTVzg",
        "colab": {
          "base_uri": "https://localhost:8080/",
          "height": 183
        },
        "outputId": "86ad95cd-99e7-48fd-dbd3-5110bc9cb4b4"
      },
      "source": [
        "#kuupäevade vahe?\n",
        "print(tehingud[\"tehingu_kuupäev\"].max() - tehingud[\"tehingu_kuupäev\"].min())"
      ],
      "execution_count": null,
      "outputs": [
        {
          "output_type": "error",
          "ename": "TypeError",
          "evalue": "ignored",
          "traceback": [
            "\u001b[0;31m---------------------------------------------------------------------------\u001b[0m",
            "\u001b[0;31mTypeError\u001b[0m                                 Traceback (most recent call last)",
            "\u001b[0;32m<ipython-input-43-65646a9ab384>\u001b[0m in \u001b[0;36m<module>\u001b[0;34m()\u001b[0m\n\u001b[1;32m      1\u001b[0m \u001b[0;31m#kuupäevade vahe?\u001b[0m\u001b[0;34m\u001b[0m\u001b[0;34m\u001b[0m\u001b[0;34m\u001b[0m\u001b[0m\n\u001b[0;32m----> 2\u001b[0;31m \u001b[0mprint\u001b[0m\u001b[0;34m(\u001b[0m\u001b[0mtehingud\u001b[0m\u001b[0;34m[\u001b[0m\u001b[0;34m\"tehingu_kuupäev\"\u001b[0m\u001b[0;34m]\u001b[0m\u001b[0;34m.\u001b[0m\u001b[0mmax\u001b[0m\u001b[0;34m(\u001b[0m\u001b[0;34m)\u001b[0m \u001b[0;34m-\u001b[0m \u001b[0mtehingud\u001b[0m\u001b[0;34m[\u001b[0m\u001b[0;34m\"tehingu_kuupäev\"\u001b[0m\u001b[0;34m]\u001b[0m\u001b[0;34m.\u001b[0m\u001b[0mmin\u001b[0m\u001b[0;34m(\u001b[0m\u001b[0;34m)\u001b[0m\u001b[0;34m)\u001b[0m\u001b[0;34m\u001b[0m\u001b[0;34m\u001b[0m\u001b[0m\n\u001b[0m",
            "\u001b[0;31mTypeError\u001b[0m: unsupported operand type(s) for -: 'str' and 'str'"
          ]
        }
      ]
    },
    {
      "cell_type": "markdown",
      "metadata": {
        "id": "SxXqb1Ulb6r3"
      },
      "source": [
        "Tundub, et päris nii siiski ei saa. Näeme veateatest, et üksikud kuupäevad on sõne andmetüüpi ja nendega lahutustehet teha ei saa."
      ]
    },
    {
      "cell_type": "markdown",
      "metadata": {
        "id": "1v9VNQfRdB5L"
      },
      "source": [
        "Selliste tehete ja võrdluste jaoks peame teisendama andmed kuupäeva andmetüüpi. Teeme seda andmefreimile omase meetodi `.to_datetime()` abil."
      ]
    },
    {
      "cell_type": "code",
      "metadata": {
        "id": "l4oRAv-edVNe",
        "colab": {
          "base_uri": "https://localhost:8080/"
        },
        "outputId": "327c7787-f52d-4b5b-8710-5150de76b5da"
      },
      "source": [
        "#muudame tulba andmetüübi\n",
        "tehingud['tehingu_kuupäev'] = pd.to_datetime(tehingud['tehingu_kuupäev'])\n",
        "\n",
        "#vaatame, kas muutus õnnestus\n",
        "print(\"Tulpade uued andmetüübid:\")\n",
        "print(tehingud.dtypes, \"\\n\")"
      ],
      "execution_count": null,
      "outputs": [
        {
          "output_type": "stream",
          "name": "stdout",
          "text": [
            "Tulpade uued andmetüübid:\n",
            "tehingu_id                  int64\n",
            "tehingu_kuupäev    datetime64[ns]\n",
            "kliendi_id                  int64\n",
            "ostusumma                 float64\n",
            "maksevahend                object\n",
            "dtype: object \n",
            "\n"
          ]
        }
      ]
    },
    {
      "cell_type": "code",
      "metadata": {
        "id": "Ch_p8tLz-iRG",
        "colab": {
          "base_uri": "https://localhost:8080/"
        },
        "outputId": "255f2401-c056-4693-e628-8f074a1a8775"
      },
      "source": [
        "#kas nüüd saame kuupäevade vahemiku pikkust vaadata?\n",
        "print(\"Kuupäevade vahe on:\", tehingud[\"tehingu_kuupäev\"].max() - tehingud[\"tehingu_kuupäev\"].min(), \"\\n\")\n",
        "\n",
        "#vaatame ka konkreetset kuupäevade vahemikku, kust andmed pärinevad\n",
        "print(\"Varaseim tehing:\", tehingud[\"tehingu_kuupäev\"].min(), \"\\n\")\n",
        "print(\"Hiliseim tehing:\", tehingud[\"tehingu_kuupäev\"].max())"
      ],
      "execution_count": null,
      "outputs": [
        {
          "output_type": "stream",
          "name": "stdout",
          "text": [
            "Kuupäevade vahe on: 2187 days 00:00:00 \n",
            "\n",
            "Varaseim tehing: 2013-01-04 00:00:00 \n",
            "\n",
            "Hiliseim tehing: 2018-12-31 00:00:00\n"
          ]
        }
      ]
    },
    {
      "cell_type": "markdown",
      "metadata": {
        "id": "YEH2v1Xieuib"
      },
      "source": [
        "## 2. Statistikud ja visualiseerimine"
      ]
    },
    {
      "cell_type": "markdown",
      "metadata": {
        "id": "vtWva5KMexlM"
      },
      "source": [
        "Kõige kiirema ja lihtsama ülevaate ühe arvulisi väärtusi sisaldava tulba kohta saime meetodi `.describe()` abil. Vaatame lähemalt nt ostusumma tulpa."
      ]
    },
    {
      "cell_type": "code",
      "metadata": {
        "id": "8-mN9vZPijt3",
        "colab": {
          "base_uri": "https://localhost:8080/"
        },
        "outputId": "34fc11df-914c-4e63-bda1-4759fe201f5e"
      },
      "source": [
        "#vaatame kogu kirjeldust\n",
        "print(tehingud[\"ostusumma\"].describe(), \"\\n\")\n",
        "\n",
        "#või nt ainult keskmist väärtust\n",
        "print(tehingud[\"ostusumma\"].mean(), \"\\n\")\n",
        "\n",
        "#ümardame keskmise kahe komakohani\n",
        "print(round(tehingud[\"ostusumma\"].mean(), 2))"
      ],
      "execution_count": null,
      "outputs": [
        {
          "output_type": "stream",
          "name": "stdout",
          "text": [
            "count    4181.000000\n",
            "mean       56.250215\n",
            "std        45.839092\n",
            "min         0.060000\n",
            "25%        21.120000\n",
            "50%        45.830000\n",
            "75%        78.960000\n",
            "max       364.330000\n",
            "Name: ostusumma, dtype: float64 \n",
            "\n",
            "56.25021525950731 \n",
            "\n",
            "56.25\n"
          ]
        }
      ]
    },
    {
      "cell_type": "markdown",
      "metadata": {
        "id": "0thtSggsl2fk"
      },
      "source": [
        "Erinevate statistikute visualiseerimiseks sobis hästi karpdiagramm. Näiteks võisime võrrelda statistikuid eri maksevahendite kaupa.\n",
        "\n",
        "**Küsimus:** Mida kirjutada x, y ja fill väärtusteks?"
      ]
    },
    {
      "cell_type": "code",
      "metadata": {
        "id": "gq1YFDotmEo2",
        "colab": {
          "base_uri": "https://localhost:8080/",
          "height": 554
        },
        "outputId": "47334bdc-fba2-4ccd-ce17-3fb4df4681d3"
      },
      "source": [
        "#esimene kiht - määrame andmestiku ja kasutatava tulba\n",
        "#kujutame seost maksevahendi ja ostusumma vahel\n",
        "(p9.ggplot(data = tehingud,\n",
        "           mapping=p9.aes(x=\"maksevahend\", y=\"ostusumma\", fill=\"maksevahend\")) #värvime iga maksevahendi eri värvi\n",
        "    #teine kiht - lisame karpdiagrammi\n",
        "    + p9.geom_boxplot())"
      ],
      "execution_count": null,
      "outputs": [
        {
          "output_type": "stream",
          "name": "stderr",
          "text": [
            "/usr/local/lib/python3.7/dist-packages/plotnine/utils.py:1246: FutureWarning: is_categorical is deprecated and will be removed in a future version.  Use is_categorical_dtype instead\n",
            "  if pdtypes.is_categorical(arr):\n",
            "/usr/local/lib/python3.7/dist-packages/plotnine/stats/stat_boxplot.py:86: FutureWarning: is_categorical is deprecated and will be removed in a future version.  Use is_categorical_dtype instead\n",
            "  if pdtypes.is_categorical(data['x']):\n"
          ]
        },
        {
          "output_type": "display_data",
          "data": {
            "image/png": "[encoded data removed]",
            "text/plain": [
              "<Figure size 640x480 with 1 Axes>"
            ]
          },
          "metadata": {}
        },
        {
          "output_type": "execute_result",
          "data": {
            "text/plain": [
              "<ggplot: (8790750893457)>"
            ]
          },
          "metadata": {},
          "execution_count": 47
        }
      ]
    },
    {
      "cell_type": "markdown",
      "metadata": {
        "id": "AEkbMYj7qhwY"
      },
      "source": [
        "Teise võimalusena võime vaadata, kuidas ostusumma statistilised näitajad ajas muutunud on. Võtame selle jaoks kuupäevast ainult aasta, kuna muidu oleks meil vaadeldavaid punkte lihtsalt liiga palju. Iga päeva ostusummade statistikuid ei ole mõtet välja arvutada, eriti kuna paljudel päevadel on vaid üks tehing.\n",
        "\n",
        "NB! Eelmises praktikumis eraldasime me aastaarvu sõne kujul esitatud kuupäevast. Lõikusime sõne selle jaoks tükkideks (aasta, kuu, päev) ning võtsime tükkide järjendist üksnes esimese tüki ehk aasta. \n",
        "\n",
        "Seekord teisendasime oma kuupäevad `datetime` andmetüüpi, ning aasta saame seda tüüpi muutujast kätte spetsiaalse `.strftime()` meetodi abil. Kui anname meetodile argumendiks `\"%Y\"`, saame kuupäeva andmetüüpi kuupäevadest kätte sõne kujul aasta. Kuna rakendame meetodit kogu tulbale, siis luuakse aasta iga andmefreimis oleva kuupäeva kohta.\n"
      ]
    },
    {
      "cell_type": "code",
      "metadata": {
        "id": "jWELD36hq5hZ",
        "colab": {
          "base_uri": "https://localhost:8080/",
          "height": 743
        },
        "outputId": "efde3149-2960-45e6-d824-239fdd864311"
      },
      "source": [
        "#tekitame veeru nimega 'aasta'\n",
        "tehingud['aasta'] = tehingud['tehingu_kuupäev'].dt.strftime('%Y')\n",
        "display(tehingud.head())\n",
        "\n",
        "#loome iga aasta kohta karpdiagrammi\n",
        "#esimene kiht - määrame andmestiku ja kasutatava tulba\n",
        "(p9.ggplot(data = tehingud,\n",
        "           mapping=p9.aes(x=\"aasta\", y=\"ostusumma\", fill=\"aasta\")) #värvime iga aasta eri värvi\n",
        "    #teine kiht - lisame karpdiagrammi\n",
        "    + p9.geom_boxplot())"
      ],
      "execution_count": null,
      "outputs": [
        {
          "output_type": "display_data",
          "data": {
            "text/html": [
              "<div>\n",
              "<style scoped>\n",
              "    .dataframe tbody tr th:only-of-type {\n",
              "        vertical-align: middle;\n",
              "    }\n",
              "\n",
              "    .dataframe tbody tr th {\n",
              "        vertical-align: top;\n",
              "    }\n",
              "\n",
              "    .dataframe thead th {\n",
              "        text-align: right;\n",
              "    }\n",
              "</style>\n",
              "<table border=\"1\" class=\"dataframe\">\n",
              "  <thead>\n",
              "    <tr style=\"text-align: right;\">\n",
              "      <th></th>\n",
              "      <th>tehingu_id</th>\n",
              "      <th>tehingu_kuupäev</th>\n",
              "      <th>kliendi_id</th>\n",
              "      <th>ostusumma</th>\n",
              "      <th>maksevahend</th>\n",
              "      <th>aasta</th>\n",
              "    </tr>\n",
              "  </thead>\n",
              "  <tbody>\n",
              "    <tr>\n",
              "      <th>0</th>\n",
              "      <td>1</td>\n",
              "      <td>2015-09-04</td>\n",
              "      <td>1</td>\n",
              "      <td>146.72</td>\n",
              "      <td>arve</td>\n",
              "      <td>2015</td>\n",
              "    </tr>\n",
              "    <tr>\n",
              "      <th>1</th>\n",
              "      <td>2</td>\n",
              "      <td>2015-05-15</td>\n",
              "      <td>2</td>\n",
              "      <td>86.96</td>\n",
              "      <td>sularaha</td>\n",
              "      <td>2015</td>\n",
              "    </tr>\n",
              "    <tr>\n",
              "      <th>2</th>\n",
              "      <td>3</td>\n",
              "      <td>2017-05-23</td>\n",
              "      <td>2</td>\n",
              "      <td>17.68</td>\n",
              "      <td>kaart</td>\n",
              "      <td>2017</td>\n",
              "    </tr>\n",
              "    <tr>\n",
              "      <th>3</th>\n",
              "      <td>4</td>\n",
              "      <td>2017-10-24</td>\n",
              "      <td>2</td>\n",
              "      <td>83.84</td>\n",
              "      <td>arve</td>\n",
              "      <td>2017</td>\n",
              "    </tr>\n",
              "    <tr>\n",
              "      <th>4</th>\n",
              "      <td>5</td>\n",
              "      <td>2015-10-13</td>\n",
              "      <td>2</td>\n",
              "      <td>31.52</td>\n",
              "      <td>arve</td>\n",
              "      <td>2015</td>\n",
              "    </tr>\n",
              "  </tbody>\n",
              "</table>\n",
              "</div>"
            ],
            "text/plain": [
              "   tehingu_id tehingu_kuupäev  kliendi_id  ostusumma maksevahend aasta\n",
              "0           1      2015-09-04           1     146.72        arve  2015\n",
              "1           2      2015-05-15           2      86.96    sularaha  2015\n",
              "2           3      2017-05-23           2      17.68       kaart  2017\n",
              "3           4      2017-10-24           2      83.84        arve  2017\n",
              "4           5      2015-10-13           2      31.52        arve  2015"
            ]
          },
          "metadata": {}
        },
        {
          "output_type": "stream",
          "name": "stderr",
          "text": [
            "/usr/local/lib/python3.7/dist-packages/plotnine/utils.py:1246: FutureWarning: is_categorical is deprecated and will be removed in a future version.  Use is_categorical_dtype instead\n",
            "  if pdtypes.is_categorical(arr):\n",
            "/usr/local/lib/python3.7/dist-packages/plotnine/stats/stat_boxplot.py:86: FutureWarning: is_categorical is deprecated and will be removed in a future version.  Use is_categorical_dtype instead\n",
            "  if pdtypes.is_categorical(data['x']):\n"
          ]
        },
        {
          "output_type": "display_data",
          "data": {
            "image/png": "[encoded data removed]",
            "text/plain": [
              "<Figure size 640x480 with 1 Axes>"
            ]
          },
          "metadata": {}
        },
        {
          "output_type": "execute_result",
          "data": {
            "text/plain": [
              "<ggplot: (8790750836605)>"
            ]
          },
          "metadata": {},
          "execution_count": 48
        }
      ]
    },
    {
      "cell_type": "markdown",
      "metadata": {
        "id": "Sd7zPbmEO6dA"
      },
      "source": [
        "Võime valida ka ühe aasta ning teha analüüsi kuude kaupa. \n",
        "\n",
        "**Ülesanne:** Proovi alljärgnevas koodis kolme punktiga (...) tähistatud lüngad ise täita ning kood tööle saada."
      ]
    },
    {
      "cell_type": "code",
      "metadata": {
        "id": "NKk9knsNO92_",
        "colab": {
          "base_uri": "https://localhost:8080/",
          "height": 310
        },
        "outputId": "a0ae2739-c084-49f3-a09b-730d3f8d1d6e"
      },
      "source": [
        "#vaatame ainult aastat 2015\n",
        "#valime loc abil andmefreimi read, kus aasta tulba väärtus on 2015\n",
        "#NB! aasta väärtus on antud sõnena\n",
        "tehingud_2015 = tehingud.loc[tehingud[\"aasta\"] == \"2015\"]\n",
        "\n",
        "#tekitame veeru nimega 'kuu'\n",
        "#kui kuupäevast aasta saamiseks kasutasime argumenti %Y, siis kuu saame %m abil\n",
        "tehingud_2015['kuu'] = tehingud_2015['tehingu_kuupäev'].dt.strftime(\"%m\")\n",
        "\n",
        "#vaatame loodud andmefreimi\n",
        "display(tehingud_2015.head())"
      ],
      "execution_count": null,
      "outputs": [
        {
          "output_type": "stream",
          "name": "stderr",
          "text": [
            "/usr/local/lib/python3.7/dist-packages/ipykernel_launcher.py:8: SettingWithCopyWarning: \n",
            "A value is trying to be set on a copy of a slice from a DataFrame.\n",
            "Try using .loc[row_indexer,col_indexer] = value instead\n",
            "\n",
            "See the caveats in the documentation: https://pandas.pydata.org/pandas-docs/stable/user_guide/indexing.html#returning-a-view-versus-a-copy\n",
            "  \n"
          ]
        },
        {
          "output_type": "display_data",
          "data": {
            "text/html": [
              "<div>\n",
              "<style scoped>\n",
              "    .dataframe tbody tr th:only-of-type {\n",
              "        vertical-align: middle;\n",
              "    }\n",
              "\n",
              "    .dataframe tbody tr th {\n",
              "        vertical-align: top;\n",
              "    }\n",
              "\n",
              "    .dataframe thead th {\n",
              "        text-align: right;\n",
              "    }\n",
              "</style>\n",
              "<table border=\"1\" class=\"dataframe\">\n",
              "  <thead>\n",
              "    <tr style=\"text-align: right;\">\n",
              "      <th></th>\n",
              "      <th>tehingu_id</th>\n",
              "      <th>tehingu_kuupäev</th>\n",
              "      <th>kliendi_id</th>\n",
              "      <th>ostusumma</th>\n",
              "      <th>maksevahend</th>\n",
              "      <th>aasta</th>\n",
              "      <th>kuu</th>\n",
              "    </tr>\n",
              "  </thead>\n",
              "  <tbody>\n",
              "    <tr>\n",
              "      <th>0</th>\n",
              "      <td>1</td>\n",
              "      <td>2015-09-04</td>\n",
              "      <td>1</td>\n",
              "      <td>146.72</td>\n",
              "      <td>arve</td>\n",
              "      <td>2015</td>\n",
              "      <td>09</td>\n",
              "    </tr>\n",
              "    <tr>\n",
              "      <th>1</th>\n",
              "      <td>2</td>\n",
              "      <td>2015-05-15</td>\n",
              "      <td>2</td>\n",
              "      <td>86.96</td>\n",
              "      <td>sularaha</td>\n",
              "      <td>2015</td>\n",
              "      <td>05</td>\n",
              "    </tr>\n",
              "    <tr>\n",
              "      <th>4</th>\n",
              "      <td>5</td>\n",
              "      <td>2015-10-13</td>\n",
              "      <td>2</td>\n",
              "      <td>31.52</td>\n",
              "      <td>arve</td>\n",
              "      <td>2015</td>\n",
              "      <td>10</td>\n",
              "    </tr>\n",
              "    <tr>\n",
              "      <th>9</th>\n",
              "      <td>10</td>\n",
              "      <td>2015-11-26</td>\n",
              "      <td>3</td>\n",
              "      <td>212.20</td>\n",
              "      <td>arve</td>\n",
              "      <td>2015</td>\n",
              "      <td>11</td>\n",
              "    </tr>\n",
              "    <tr>\n",
              "      <th>20</th>\n",
              "      <td>21</td>\n",
              "      <td>2015-08-16</td>\n",
              "      <td>7</td>\n",
              "      <td>93.61</td>\n",
              "      <td>arve</td>\n",
              "      <td>2015</td>\n",
              "      <td>08</td>\n",
              "    </tr>\n",
              "  </tbody>\n",
              "</table>\n",
              "</div>"
            ],
            "text/plain": [
              "    tehingu_id tehingu_kuupäev  kliendi_id  ostusumma maksevahend aasta kuu\n",
              "0            1      2015-09-04           1     146.72        arve  2015  09\n",
              "1            2      2015-05-15           2      86.96    sularaha  2015  05\n",
              "4            5      2015-10-13           2      31.52        arve  2015  10\n",
              "9           10      2015-11-26           3     212.20        arve  2015  11\n",
              "20          21      2015-08-16           7      93.61        arve  2015  08"
            ]
          },
          "metadata": {}
        }
      ]
    },
    {
      "cell_type": "code",
      "metadata": {
        "id": "fDPq6fJBATje",
        "colab": {
          "base_uri": "https://localhost:8080/",
          "height": 554
        },
        "outputId": "4f192288-affc-4873-c911-8ae4a898a898"
      },
      "source": [
        "#loome iga kuu kohta karpdiagrammi ja värvime iga kuu eri värvi\n",
        "#esimene kiht - määrame andmestiku ja kasutatava tulba\n",
        "(p9.ggplot(data = tehingud_2015,\n",
        "           mapping=p9.aes(x=\"kuu\", y=\"ostusumma\", fill=\"kuu\")) \n",
        "    #teine kiht - lisame karpdiagrammi\n",
        "    + p9.geom_boxplot()\n",
        ")"
      ],
      "execution_count": null,
      "outputs": [
        {
          "output_type": "stream",
          "name": "stderr",
          "text": [
            "/usr/local/lib/python3.7/dist-packages/plotnine/utils.py:1246: FutureWarning: is_categorical is deprecated and will be removed in a future version.  Use is_categorical_dtype instead\n",
            "  if pdtypes.is_categorical(arr):\n",
            "/usr/local/lib/python3.7/dist-packages/plotnine/stats/stat_boxplot.py:86: FutureWarning: is_categorical is deprecated and will be removed in a future version.  Use is_categorical_dtype instead\n",
            "  if pdtypes.is_categorical(data['x']):\n"
          ]
        },
        {
          "output_type": "display_data",
          "data": {
            "image/png": "[encoded data removed]",
            "text/plain": [
              "<Figure size 640x480 with 1 Axes>"
            ]
          },
          "metadata": {}
        },
        {
          "output_type": "execute_result",
          "data": {
            "text/plain": [
              "<ggplot: (8790750738545)>"
            ]
          },
          "metadata": {},
          "execution_count": 51
        }
      ]
    },
    {
      "cell_type": "markdown",
      "metadata": {
        "id": "MSwTgVA6SROb"
      },
      "source": [
        "Karpdiagrammide mure on see, et nad ei näita meile, kui suure väärtuste hulga  pealt nad oma statistikud arvutavad. Seega ei väljenda karpidagrammid näiteks seda, mitu tehingut igal aastal (või kuul) sooritati. Seda saame vaadata tulpdiagrammi abil."
      ]
    },
    {
      "cell_type": "code",
      "metadata": {
        "id": "JpjXatQUSpEW",
        "colab": {
          "base_uri": "https://localhost:8080/",
          "height": 519
        },
        "outputId": "112eb8f5-4982-451f-fda6-9d5696403df3"
      },
      "source": [
        "#esimene kiht - määrame andmestiku ja kasutatava tulba\n",
        "(p9.ggplot(data = tehingud_2015,\n",
        "           mapping=p9.aes(x=\"kuu\", fill=\"kuu\")) #värvime iga ku eri värvi\n",
        "    #teine kiht - lisame tulpiagrammi\n",
        "    + p9.geom_bar()\n",
        ")"
      ],
      "execution_count": null,
      "outputs": [
        {
          "output_type": "stream",
          "name": "stderr",
          "text": [
            "/usr/local/lib/python3.7/dist-packages/plotnine/utils.py:1246: FutureWarning: is_categorical is deprecated and will be removed in a future version.  Use is_categorical_dtype instead\n",
            "  if pdtypes.is_categorical(arr):\n"
          ]
        },
        {
          "output_type": "display_data",
          "data": {
            "image/png": "[encoded data removed]",
            "text/plain": [
              "<Figure size 640x480 with 1 Axes>"
            ]
          },
          "metadata": {}
        },
        {
          "output_type": "execute_result",
          "data": {
            "text/plain": [
              "<ggplot: (8790755989093)>"
            ]
          },
          "metadata": {},
          "execution_count": 52
        }
      ]
    },
    {
      "cell_type": "markdown",
      "metadata": {
        "id": "NDqQWNrXTK2k"
      },
      "source": [
        "Näeme näiteks, et kõige vähem tehinguid tehti märtsis ja mais. Kõige suurema tehingute arvuga kuud olid november ja detsember. Seda võiks päris andmete puhul seostada näiteks jõulukinkide ostmisega. \n",
        "\n",
        "Praegusel joonisel teevad värvid pilti lihtsalt pisut ilusamaks, aga mingit informatsiooni sinna juurde ei lisa. Veidi sisukamalt saame värve kasutada nii, et värvime taaskord iga maksevahendiga tehtud tehingud eri värvi. \n",
        "\n",
        "**Küsimus:** Kuidas seda teha? Mida koodis muuta?"
      ]
    },
    {
      "cell_type": "code",
      "metadata": {
        "id": "TgjpJe-hTOtj",
        "colab": {
          "base_uri": "https://localhost:8080/",
          "height": 519
        },
        "outputId": "a6d34fee-b05d-4bcb-ff78-b066e46775ce"
      },
      "source": [
        "#esimene kiht - määrame andmestiku ja kasutatava tulba\n",
        "(p9.ggplot(data = tehingud_2015,\n",
        "           mapping=p9.aes(x=\"kuu\", fill=\"maksevahend\")) #NB! värvime iga maksevahendi eri värvi\n",
        "    #teine kiht - lisame tulpiagrammi\n",
        "    + p9.geom_bar()\n",
        ")"
      ],
      "execution_count": null,
      "outputs": [
        {
          "output_type": "stream",
          "name": "stderr",
          "text": [
            "/usr/local/lib/python3.7/dist-packages/plotnine/utils.py:1246: FutureWarning: is_categorical is deprecated and will be removed in a future version.  Use is_categorical_dtype instead\n",
            "  if pdtypes.is_categorical(arr):\n"
          ]
        },
        {
          "output_type": "display_data",
          "data": {
            "image/png": "[encoded data removed]",
            "text/plain": [
              "<Figure size 640x480 with 1 Axes>"
            ]
          },
          "metadata": {}
        },
        {
          "output_type": "execute_result",
          "data": {
            "text/plain": [
              "<ggplot: (8790756351605)>"
            ]
          },
          "metadata": {},
          "execution_count": 53
        }
      ]
    },
    {
      "cell_type": "markdown",
      "metadata": {
        "id": "xN6l1qSMTXf1"
      },
      "source": [
        "Nüüd näeme ka seda, et kuigi märtsis ja mais tehti sama arv tehinguid, siis märtsis oli arvega tasutud tehingute hulk väiksem."
      ]
    },
    {
      "cell_type": "markdown",
      "metadata": {
        "id": "HrVYCWK3jkCE"
      },
      "source": [
        "**Kodus mõtlemiseks:** Kas meie tehingute andmetes on tulpasid, mille vahelist seost oleks mõistlik kujutada hajusdiagrammiga? Aga mida võiksime kujutada histogrammiga?"
      ]
    },
    {
      "cell_type": "markdown",
      "metadata": {
        "id": "7OQFCm55TmpH"
      },
      "source": [
        "## 3. Klientide klasterdamine"
      ]
    },
    {
      "cell_type": "markdown",
      "metadata": {
        "id": "vDUsQGQd5uHm"
      },
      "source": [
        "Nüüd vaatame, kuidas leida andmetest sarnase käitumisega kliente, ehk kuidas andmeid **kindlate tunnuste abil klasterdada ehk segmenteerida**. Eelmises õppematerjalis oli teil juttu **k-keskmiste algoritmist** ning HSV mudelist. Just nende abi me järgmise ülesande puhul vajamegi.\n",
        "\n",
        "Pole põhjust muretseda - k-keskmiste algoritmi koodi me ise nullist kirjutama ei pea, see töö on meie eest juba ära tehtud. Võtame lihtsalt riiulist uue tööriistakasti, ehk Pythoni teegi nimega `sklearn`.\n",
        "\n",
        "Küll peame aga enne määrama, milliste tunnuste abil kliente klasterdada tahame. Nendeks tunnusteks arvutame välja **HSV komponendid**:\n",
        "- **hiljutisus,**\n",
        "- **sagedus,**\n",
        "- **väärtus.**\n",
        "\n",
        "**Küsimus:** Püüame õppematerjalist meelde tuletada, mida need kolm tunnust väljendavad. Mäng käib aususe peale, ärge enne alt vastuseid piiluge, kui olete oma sõnadega selgituse välja mõelnud!\n",
        "\n"
      ]
    },
    {
      "cell_type": "markdown",
      "metadata": {
        "id": "mZYyZ32xM_-w"
      },
      "source": [
        "### 3.1 HSV komponendid"
      ]
    },
    {
      "cell_type": "markdown",
      "metadata": {
        "id": "kL6dXPy1ZewU"
      },
      "source": [
        "**Hiljutisus** on sel juhul defineeritud kui päevade arv, mis jääb **kliendi viimase tehingu** ja raporteerimisaja vahele. Seega kui klient sooritas oma tehingud näiteks 2018-07-09, 2018-12-13 ja 2018-12-28, siis on tema hiljutisus 3 päeva.\n",
        "\n",
        "Kliendi **sageduse** leidmiseks loeme lihtsalt taas kokku kõik tema tehingud. Saame selleks kasutada juba tuttavat `.count()` funktsiooni. \n",
        "\n",
        "Kliendi **väärtus** on kõigi tema ostusummade kogusumma. \n",
        "\n",
        "Esmalt määrame nö raporteerimisaja, ehk selle hetke, mil me tehingute andmestikku analüüsima hakkasime. Oletame, et selleks hetkeks oli viimase tehingu sooritamise kuupäev ehk 2018-12-31. "
      ]
    },
    {
      "cell_type": "code",
      "metadata": {
        "id": "BDIH5SUB4Ue6",
        "colab": {
          "base_uri": "https://localhost:8080/"
        },
        "outputId": "5a3acd5a-faf0-4010-c678-33fc47fbb8a2"
      },
      "source": [
        "#määrame raporteerimisaja\n",
        "raport_aeg = np.max(tehingud[\"tehingu_kuupäev\"])\n",
        "print(raport_aeg)"
      ],
      "execution_count": null,
      "outputs": [
        {
          "output_type": "stream",
          "name": "stdout",
          "text": [
            "2018-12-31 00:00:00\n"
          ]
        }
      ]
    },
    {
      "cell_type": "markdown",
      "metadata": {
        "id": "mkzNYi3y5Gu_"
      },
      "source": [
        "Ning seejärel hakkame looma uut andmefreimi, kus oleks neli tulpa:\n",
        "- kliendi id,\n",
        "- sagedus,\n",
        "- väärtus,\n",
        "- hiljutisus.\n",
        "\n",
        "Teeme selle protsessi esmalt läbi teile tuttavate vahenditega, mida oleme siiani praksides käsitlenud. Ideaalne võimalus üle korrata andmefreimide grupeerimist ja soovi korral ka näiteks for-tsükli kasutamist!"
      ]
    },
    {
      "cell_type": "code",
      "metadata": {
        "id": "wDq_AXgHA2Lt",
        "colab": {
          "base_uri": "https://localhost:8080/"
        },
        "outputId": "39ae0228-7a3d-45d4-a1da-6c80dde981bb"
      },
      "source": [
        "#grupeerin andmed kliendi kaupa ja loen iga kliendi tehingud kokku -> sagedus\n",
        "sagedus = tehingud.groupby([\"kliendi_id\"])[\"tehingu_id\"].count()\n",
        "print(sagedus)"
      ],
      "execution_count": null,
      "outputs": [
        {
          "output_type": "stream",
          "name": "stdout",
          "text": [
            "kliendi_id\n",
            "1        1\n",
            "2        8\n",
            "3        7\n",
            "4        1\n",
            "5        2\n",
            "        ..\n",
            "996      2\n",
            "997      2\n",
            "998      8\n",
            "999      3\n",
            "1000    19\n",
            "Name: tehingu_id, Length: 1000, dtype: int64\n"
          ]
        }
      ]
    },
    {
      "cell_type": "code",
      "metadata": {
        "id": "ixb3otngA5ly",
        "colab": {
          "base_uri": "https://localhost:8080/"
        },
        "outputId": "88f38432-a6e5-4ba3-9db5-87d31e4b84fd"
      },
      "source": [
        "#grupeerin tehingud kliendi kaupa ja leian kliendi ostusummade summa -> väärtus\n",
        "väärtus = tehingud.groupby([\"kliendi_id\"])[\"ostusumma\"].sum()\n",
        "print(väärtus)"
      ],
      "execution_count": null,
      "outputs": [
        {
          "output_type": "stream",
          "name": "stdout",
          "text": [
            "kliendi_id\n",
            "1        146.72\n",
            "2        381.76\n",
            "3        613.99\n",
            "4          2.34\n",
            "5        214.40\n",
            "         ...   \n",
            "996       54.56\n",
            "997      168.39\n",
            "998      359.18\n",
            "999       80.91\n",
            "1000    1016.12\n",
            "Name: ostusumma, Length: 1000, dtype: float64\n"
          ]
        }
      ]
    },
    {
      "cell_type": "code",
      "metadata": {
        "id": "c50l06RiBAcQ",
        "colab": {
          "base_uri": "https://localhost:8080/"
        },
        "outputId": "8f606c5b-2ca3-4c66-f7a0-a408e6626bfc"
      },
      "source": [
        "#grupeerin tehingud kliendi kaupa ja võtan iga kliendi kõige hilisema kuupäeva\n",
        "#lahutan kuupäeva raporteerimise ajast -> hiljutisus\n",
        "hiljutisus = raport_aeg - tehingud.groupby([\"kliendi_id\"])[\"tehingu_kuupäev\"].max()\n",
        "print(hiljutisus, \"\\n\")\n",
        "\n",
        "#vaatame, mis kujul ühe kliendi hiljutisus meile antakse\n",
        "print(\"Üks hiljutisus:\", hiljutisus.iloc[0])\n",
        "#ja mis tüüpi see on \n",
        "print(\"Andmetüüp:\", type(hiljutisus.iloc[0]))"
      ],
      "execution_count": null,
      "outputs": [
        {
          "output_type": "stream",
          "name": "stdout",
          "text": [
            "kliendi_id\n",
            "1      1214 days\n",
            "2       433 days\n",
            "3       143 days\n",
            "4       177 days\n",
            "5       264 days\n",
            "          ...   \n",
            "996    1122 days\n",
            "997     128 days\n",
            "998       9 days\n",
            "999     298 days\n",
            "1000    123 days\n",
            "Name: tehingu_kuupäev, Length: 1000, dtype: timedelta64[ns] \n",
            "\n",
            "Üks hiljutisus: 1214 days 00:00:00\n",
            "Andmetüüp: <class 'pandas._libs.tslibs.timedeltas.Timedelta'>\n"
          ]
        }
      ]
    },
    {
      "cell_type": "code",
      "metadata": {
        "id": "cSYZrKZbBCJa",
        "colab": {
          "base_uri": "https://localhost:8080/"
        },
        "outputId": "74c05fc1-0e79-4558-9685-570ffe818c0c"
      },
      "source": [
        "#me tahame siit kätte saada ainult päevade numbri \n",
        "#võtame atribuudi days abil ainult päevade arvu ja salvestame tulemuse (kirjutame algsemuutuja üle)\n",
        "hiljutisus = hiljutisus.dt.days\n",
        "print(hiljutisus, \"\\n\")\n",
        "print(\"Üks hiljutisus:\", hiljutisus.iloc[0])\n",
        "print(\"Andmetüüp:\", type(hiljutisus.iloc[0]))"
      ],
      "execution_count": null,
      "outputs": [
        {
          "output_type": "stream",
          "name": "stdout",
          "text": [
            "kliendi_id\n",
            "1       1214\n",
            "2        433\n",
            "3        143\n",
            "4        177\n",
            "5        264\n",
            "        ... \n",
            "996     1122\n",
            "997      128\n",
            "998        9\n",
            "999      298\n",
            "1000     123\n",
            "Name: tehingu_kuupäev, Length: 1000, dtype: int64 \n",
            "\n",
            "Üks hiljutisus: 1214\n",
            "Andmetüüp: <class 'numpy.int64'>\n"
          ]
        }
      ]
    },
    {
      "cell_type": "markdown",
      "metadata": {
        "id": "fvxjLeHjCdYl"
      },
      "source": [
        "**Kodus harjutamiseks:** Tegelikult on see ideaalne võimalus ka for-tsükli harjutamiseks. Püüa allolevas koodikastis lüngad täita ja igast hiljutisuse `timedelta` tüüpi elemendist for tsükli abil päevade arv välja võtta."
      ]
    },
    {
      "cell_type": "code",
      "metadata": {
        "id": "XizDuan9BV_O"
      },
      "source": [
        "#enne teisendasime päevadeks kogu seeria korraga\n",
        "#nüüd teeme seda ühe elemendi kaupa ja käime for tsükliga kõik elemendid läbi\n",
        "#ühest timedelta elemendist saame arvu kätte nii:\n",
        "print(\"Üksnes päevade number:\",hiljutisus.iloc[0].days)\n",
        "\n",
        "#nüüd tahame sellesama triki teha iga kliendi hiljutisuse jaoks\n",
        "uus_hiljutisus = ... #loo uus tühi järjend, kuhu hakkame tsüklis lisama päevade arvusid\n",
        "for ... in ...: #käime hiljutisuse seeria elementhaaval läbi\n",
        "  päev = ....days #võtame hetkel vaadeldavast elemendist välja ainult päevade arvu\n",
        "  uus_hiljutisus.append(...) #lisame selle päevade arvu uude järjendisse"
      ],
      "execution_count": null,
      "outputs": []
    },
    {
      "cell_type": "markdown",
      "metadata": {
        "id": "V4lWL7QsDTiu"
      },
      "source": [
        "Praeguseks oleme loonud kolm seeriat: sagedus, väärtus ja hiljutisus. Paneme need nüüd andmefreimiks kokku. Selleks on kõige lihtsam paigutada andmed sõnastikku, mille saab mugavalt andmefreimiks teisendada. Tuletame meelde, et sõnastik oli kujul `sõnastik = {\"võti1\": väärtus1, \"võti2\": väärtus2}`"
      ]
    },
    {
      "cell_type": "code",
      "metadata": {
        "id": "_HqpEK6q4zUj",
        "colab": {
          "base_uri": "https://localhost:8080/",
          "height": 237
        },
        "outputId": "03cfe726-e510-42b1-860a-0cc87940e2e8"
      },
      "source": [
        "#ja lõpuks paneme selle kõik üheks andmefreimiks kokku\n",
        "#selleks loome sõnastiku, kus määrame võtmeks tulba nime (sagedus, väärtus, hiljutisus)\n",
        "#ja anname võtmele väärtuseks vastava seeria (sagedus, väärtus) või järjendi (hiljutisus)\n",
        "sõnastikuna = {'sagedus': sagedus, 'väärtus': väärtus, 'hiljutisus': hiljutisus}\n",
        "#teisendame sõnastiku andmefreimiks\n",
        "hsv = pd.DataFrame(sõnastikuna)\n",
        "display(hsv.head())"
      ],
      "execution_count": null,
      "outputs": [
        {
          "output_type": "display_data",
          "data": {
            "text/html": [
              "<div>\n",
              "<style scoped>\n",
              "    .dataframe tbody tr th:only-of-type {\n",
              "        vertical-align: middle;\n",
              "    }\n",
              "\n",
              "    .dataframe tbody tr th {\n",
              "        vertical-align: top;\n",
              "    }\n",
              "\n",
              "    .dataframe thead th {\n",
              "        text-align: right;\n",
              "    }\n",
              "</style>\n",
              "<table border=\"1\" class=\"dataframe\">\n",
              "  <thead>\n",
              "    <tr style=\"text-align: right;\">\n",
              "      <th></th>\n",
              "      <th>sagedus</th>\n",
              "      <th>väärtus</th>\n",
              "      <th>hiljutisus</th>\n",
              "    </tr>\n",
              "    <tr>\n",
              "      <th>kliendi_id</th>\n",
              "      <th></th>\n",
              "      <th></th>\n",
              "      <th></th>\n",
              "    </tr>\n",
              "  </thead>\n",
              "  <tbody>\n",
              "    <tr>\n",
              "      <th>1</th>\n",
              "      <td>1</td>\n",
              "      <td>146.72</td>\n",
              "      <td>1214</td>\n",
              "    </tr>\n",
              "    <tr>\n",
              "      <th>2</th>\n",
              "      <td>8</td>\n",
              "      <td>381.76</td>\n",
              "      <td>433</td>\n",
              "    </tr>\n",
              "    <tr>\n",
              "      <th>3</th>\n",
              "      <td>7</td>\n",
              "      <td>613.99</td>\n",
              "      <td>143</td>\n",
              "    </tr>\n",
              "    <tr>\n",
              "      <th>4</th>\n",
              "      <td>1</td>\n",
              "      <td>2.34</td>\n",
              "      <td>177</td>\n",
              "    </tr>\n",
              "    <tr>\n",
              "      <th>5</th>\n",
              "      <td>2</td>\n",
              "      <td>214.40</td>\n",
              "      <td>264</td>\n",
              "    </tr>\n",
              "  </tbody>\n",
              "</table>\n",
              "</div>"
            ],
            "text/plain": [
              "            sagedus  väärtus  hiljutisus\n",
              "kliendi_id                              \n",
              "1                 1   146.72        1214\n",
              "2                 8   381.76         433\n",
              "3                 7   613.99         143\n",
              "4                 1     2.34         177\n",
              "5                 2   214.40         264"
            ]
          },
          "metadata": {}
        }
      ]
    },
    {
      "cell_type": "markdown",
      "metadata": {
        "id": "LBRnvxRrL5OF"
      },
      "source": [
        "**Küsimus:** Mis infot saame iga kliendi kohta äsjaloodud andmestikust lugeda?"
      ]
    },
    {
      "cell_type": "markdown",
      "metadata": {
        "id": "yRItoGc1LQKv"
      },
      "source": [
        "Ja nüüd vaatame, kuidas teha sedasama hoopis `.agg()` funktsiooni abiga, mis lubab antud juhul grupeeritud andmete tulpadele teatud funktsioone rakendada. Soovi korral loe funktsiooni kohta lähemalt [siit](https://pandas.pydata.org/docs/reference/api/pandas.DataFrame.agg.html)."
      ]
    },
    {
      "cell_type": "code",
      "metadata": {
        "id": "7mWuDboo4bAE",
        "colab": {
          "base_uri": "https://localhost:8080/",
          "height": 237
        },
        "outputId": "bb323b4b-20c2-4ef7-ae88-ec84bdaa6470"
      },
      "source": [
        "# defineerime funktsiooni, mis arvutab hiljutisuse\n",
        "def tellimuse_hiljutisus(x): \n",
        "    return min(raport_aeg - x)\n",
        "\n",
        "hsv2 = tehingud.groupby(\"kliendi_id\").agg({\"kliendi_id\": \"count\", \n",
        "                                    \"ostusumma\":\"sum\",\n",
        "                                   \"tehingu_kuupäev\": tellimuse_hiljutisus})\n",
        "hsv2.columns = [\"sagedus\", \"väärtus\", \"hiljutisus\"]\n",
        "hsv2[\"hiljutisus\"] = hsv2[\"hiljutisus\"].dt.days\n",
        "display(hsv2.head())"
      ],
      "execution_count": null,
      "outputs": [
        {
          "output_type": "display_data",
          "data": {
            "text/html": [
              "<div>\n",
              "<style scoped>\n",
              "    .dataframe tbody tr th:only-of-type {\n",
              "        vertical-align: middle;\n",
              "    }\n",
              "\n",
              "    .dataframe tbody tr th {\n",
              "        vertical-align: top;\n",
              "    }\n",
              "\n",
              "    .dataframe thead th {\n",
              "        text-align: right;\n",
              "    }\n",
              "</style>\n",
              "<table border=\"1\" class=\"dataframe\">\n",
              "  <thead>\n",
              "    <tr style=\"text-align: right;\">\n",
              "      <th></th>\n",
              "      <th>sagedus</th>\n",
              "      <th>väärtus</th>\n",
              "      <th>hiljutisus</th>\n",
              "    </tr>\n",
              "    <tr>\n",
              "      <th>kliendi_id</th>\n",
              "      <th></th>\n",
              "      <th></th>\n",
              "      <th></th>\n",
              "    </tr>\n",
              "  </thead>\n",
              "  <tbody>\n",
              "    <tr>\n",
              "      <th>1</th>\n",
              "      <td>1</td>\n",
              "      <td>146.72</td>\n",
              "      <td>1214</td>\n",
              "    </tr>\n",
              "    <tr>\n",
              "      <th>2</th>\n",
              "      <td>8</td>\n",
              "      <td>381.76</td>\n",
              "      <td>433</td>\n",
              "    </tr>\n",
              "    <tr>\n",
              "      <th>3</th>\n",
              "      <td>7</td>\n",
              "      <td>613.99</td>\n",
              "      <td>143</td>\n",
              "    </tr>\n",
              "    <tr>\n",
              "      <th>4</th>\n",
              "      <td>1</td>\n",
              "      <td>2.34</td>\n",
              "      <td>177</td>\n",
              "    </tr>\n",
              "    <tr>\n",
              "      <th>5</th>\n",
              "      <td>2</td>\n",
              "      <td>214.40</td>\n",
              "      <td>264</td>\n",
              "    </tr>\n",
              "  </tbody>\n",
              "</table>\n",
              "</div>"
            ],
            "text/plain": [
              "            sagedus  väärtus  hiljutisus\n",
              "kliendi_id                              \n",
              "1                 1   146.72        1214\n",
              "2                 8   381.76         433\n",
              "3                 7   613.99         143\n",
              "4                 1     2.34         177\n",
              "5                 2   214.40         264"
            ]
          },
          "metadata": {}
        }
      ]
    },
    {
      "cell_type": "code",
      "metadata": {
        "id": "vR43MXg6L7_s",
        "colab": {
          "base_uri": "https://localhost:8080/"
        },
        "outputId": "93985b9b-ef40-4583-a1e2-7da9bdf2d5b0"
      },
      "source": [
        "#vaatame ka statistikuid\n",
        "print(hsv.describe())"
      ],
      "execution_count": null,
      "outputs": [
        {
          "output_type": "stream",
          "name": "stdout",
          "text": [
            "           sagedus      väärtus   hiljutisus\n",
            "count  1000.000000  1000.000000  1000.000000\n",
            "mean      4.181000   235.182150   427.511000\n",
            "std       3.437449   230.676366   457.813046\n",
            "min       1.000000     0.090000     0.000000\n",
            "25%       2.000000    72.050000   103.000000\n",
            "50%       3.000000   168.015000   265.500000\n",
            "75%       6.000000   328.220000   565.750000\n",
            "max      21.000000  1743.520000  2144.000000\n"
          ]
        }
      ]
    },
    {
      "cell_type": "markdown",
      "metadata": {
        "id": "ArmSgy9JNEzA"
      },
      "source": [
        "### 3.2 K-keskmiste analüüs"
      ]
    },
    {
      "cell_type": "markdown",
      "metadata": {
        "id": "mCwTNNV2HTbq"
      },
      "source": [
        "Nüüd jõuame tõesti lõpuks k-keskmiste algoritmi ja klientide nende kolme tunnuse abil segmenteerimiseni. \n",
        "\n",
        "**Küsimus:** Püüa k-keskmiste algoritmi lühidalt oma sõnadega kirjeldada, enne kui alt vastust piilud!"
      ]
    },
    {
      "cell_type": "markdown",
      "metadata": {
        "id": "I5_axW1uEsI7"
      },
      "source": [
        "K-keskmiste algoritm lühidalt:\n",
        "\n",
        "- Initsialiseerimine: Tööd alustades valib algoritm juhuslikult K suvalist andmepunkti, mida nimetame keskpunktideks. Nende puhktide ümber hakkab algoritm klastreid moodustama. Oma näites soovime leida kolme klastrit, seega K=3.\n",
        "\n",
        "- Ülesande samm: Klastrite loomiseks arvutame kõikide teiste punktide sarnasuse nende kolme\n",
        "keskpunktiga. Siinkohal kasutatakse sarnasusena eukleidilist kaugust: mida lähemal on punktid, seda sarnasemad nad on.\n",
        "\n",
        "  Iga andmepunkti puhul vaatame, millisele kolmest keskpunktist on ta kõige lähemal ja määrame ta seejärel lähima keskpunktiga samasse gruppi. Jätkame, kuni kõik punktid on jagatud kolme grupi vahel.\n",
        "\n",
        "- Uuenduse samm: Arvutame tekkinud klastrite tegelikud keskpunktid, kasutades neid punkte, mis klastrisse määrati. Seejärel arvutame uuesti iga punkti kauguse äsjaleitud keskpunktidest - mõned punktid võivad selle tagajärjel klastrit vahetada.\n",
        "\n",
        "Kordame kuni klastrid enam ei muutu - järeldame, et kõik punktid on sobivasse klastrisse määratud.\n",
        "\n",
        "\n"
      ]
    },
    {
      "cell_type": "markdown",
      "metadata": {
        "id": "IFh_Mtg9Nhun"
      },
      "source": [
        "#### 3.2.1 Tunnuste skaleerimine"
      ]
    },
    {
      "cell_type": "markdown",
      "metadata": {
        "id": "iG0tudlbMp03"
      },
      "source": [
        "Hetkel oleme me lugenud kliendi **sagedust** kordades (1 kuni 21), **väärtus** on pidev arv (0.09 kuni 1743.52) ja **hiljutisus** on mõõdetud päevades (0 kuni 2144). Näeme, et erinevate tunnuste maksimaalsed (ja ka keskmised) väärtused erinevad lausa 100 korda. Seega, kui me arvutame ja võrdleme eukleidilist kaugust nende numbrite vahel, siis võrdleme nö õunu apelsinidega. \n",
        "\n",
        "Selleks, et meie tunnused **viia sarnasele skaalale** saame kasutada **skaleerimist miinimumi ja maksimumiga**:\n",
        "\n",
        "$$x_{skaleeritud} = \\frac{x_{originaal} - min(x)}{max(x) - min(x)} $$\n",
        "\n",
        "Seda ei pea me ise käsitsi välja arvutama, sest `sklearn` teegis on vastav tööriist olemas."
      ]
    },
    {
      "cell_type": "code",
      "metadata": {
        "id": "Z8KPYMxz39AV",
        "colab": {
          "base_uri": "https://localhost:8080/"
        },
        "outputId": "ba2608b2-f1b1-472b-9923-18ec2ace276f"
      },
      "source": [
        "#alguses kutsume välja skaleerimistööriista ja salvestame selle muutujasse\n",
        "skaleerimine = MinMaxScaler() \n",
        "\n",
        "#ja siis rakendame tööriista meetodit fit_transform meie andmetel\n",
        "hsv_scaled = skaleerimine.fit_transform(hsv) \n",
        "\n",
        "#vaatame, mis välja tuli\n",
        "print(hsv_scaled)"
      ],
      "execution_count": null,
      "outputs": [
        {
          "output_type": "stream",
          "name": "stdout",
          "text": [
            "[[0.         0.08410432 0.56623134]\n",
            " [0.35       0.21891903 0.20195896]\n",
            " [0.3        0.35212197 0.06669776]\n",
            " ...\n",
            " [0.35       0.20596755 0.00419776]\n",
            " [0.1        0.04635689 0.13899254]\n",
            " [0.9        0.58277648 0.0573694 ]]\n"
          ]
        }
      ]
    },
    {
      "cell_type": "markdown",
      "metadata": {
        "id": "gauTPFX4QeMc"
      },
      "source": [
        "Näeme, et meie andmestikus on endiselt 3 tulpa: sagedus, väärtus ja hiljutisus, aga kõik väärtused on vahemikus (0..1) ehk sarnasel skaalal ja omavahel võrreldavad.\n",
        "\n",
        "Nüüd saame kasutada k-keskmiste klasterdamisalgoritmi. Kasutame sarnast lähenemist nagu skaleerimise puhul: salvestame esmalt klasterdamistööriista ja kutsume seda seejärel oma andmete peal välja. Parameetrite abil täpsustame, mitu klastrit me andmetest leida tahame. Sobivaim number valitakse tavaliselt kogemuse ja katsetuste teel.\n",
        "\n",
        "Parameetriga `random_state` saame tagada, et igal analüüsi kordamisel tuleb sama tulemus. Kui seda parameetrit ei täpsustata, võib algoritm jõuda igal käivitmisel erinevate tulemusteni, kuna alustab erinevate algsete klastritega (erinevad juhuslikud keskpunktid).\n",
        "\n",
        "Huvi korral vaata ka dokumentatsiooni k-keskmiste kohta siin: https://scikit-learn.org/stable/modules/generated/sklearn.cluster.KMeans.html."
      ]
    },
    {
      "cell_type": "code",
      "metadata": {
        "id": "PMFnvEafQBcc",
        "colab": {
          "base_uri": "https://localhost:8080/"
        },
        "outputId": "6582ea65-0148-4e67-baae-5db3c7f86d25"
      },
      "source": [
        "#alguses kutsume välja k-keskmiste klasterdamise tööriista ja salvestame selle muutujasse\n",
        "#määrame esimese argumendiga, et tahame kolme klastrit ehk klientide gruppi\n",
        "#ja teise argumendiga tagame selle, et saame analüüsi kordamisel samad tulemused\n",
        "kkeskmiste = KMeans(n_clusters=3, random_state=42)\n",
        "\n",
        "#siis rakendame k-keskmiste klasterdamise tööriista oma andmetel\n",
        "#töö käigus pakub klasterdamisalgoritm igale kliendi jaoks välja sobivaima klastri\n",
        "klastri_ennustus = kkeskmiste.fit_predict(hsv_scaled)\n",
        "\n",
        "#vaatame, mis esimese 10 kliendi jaoks välja pakuti\n",
        "print(klastri_ennustus[:10])"
      ],
      "execution_count": null,
      "outputs": [
        {
          "output_type": "stream",
          "name": "stdout",
          "text": [
            "[1 0 0 2 2 1 1 2 2 2]\n"
          ]
        }
      ]
    },
    {
      "cell_type": "code",
      "metadata": {
        "id": "bkfhPmN4WVm9",
        "colab": {
          "base_uri": "https://localhost:8080/",
          "height": 237
        },
        "outputId": "30d6eef2-3054-466d-f57e-8ac966be44fb"
      },
      "source": [
        "#lisame pakutud klastri numbri ka meie andmetabelisse\n",
        "hsv[\"klaster\"] = klastri_ennustus\n",
        "\n",
        "#vaatame\n",
        "display(hsv.head())"
      ],
      "execution_count": null,
      "outputs": [
        {
          "output_type": "display_data",
          "data": {
            "text/html": [
              "<div>\n",
              "<style scoped>\n",
              "    .dataframe tbody tr th:only-of-type {\n",
              "        vertical-align: middle;\n",
              "    }\n",
              "\n",
              "    .dataframe tbody tr th {\n",
              "        vertical-align: top;\n",
              "    }\n",
              "\n",
              "    .dataframe thead th {\n",
              "        text-align: right;\n",
              "    }\n",
              "</style>\n",
              "<table border=\"1\" class=\"dataframe\">\n",
              "  <thead>\n",
              "    <tr style=\"text-align: right;\">\n",
              "      <th></th>\n",
              "      <th>sagedus</th>\n",
              "      <th>väärtus</th>\n",
              "      <th>hiljutisus</th>\n",
              "      <th>klaster</th>\n",
              "    </tr>\n",
              "    <tr>\n",
              "      <th>kliendi_id</th>\n",
              "      <th></th>\n",
              "      <th></th>\n",
              "      <th></th>\n",
              "      <th></th>\n",
              "    </tr>\n",
              "  </thead>\n",
              "  <tbody>\n",
              "    <tr>\n",
              "      <th>1</th>\n",
              "      <td>1</td>\n",
              "      <td>146.72</td>\n",
              "      <td>1214</td>\n",
              "      <td>1</td>\n",
              "    </tr>\n",
              "    <tr>\n",
              "      <th>2</th>\n",
              "      <td>8</td>\n",
              "      <td>381.76</td>\n",
              "      <td>433</td>\n",
              "      <td>0</td>\n",
              "    </tr>\n",
              "    <tr>\n",
              "      <th>3</th>\n",
              "      <td>7</td>\n",
              "      <td>613.99</td>\n",
              "      <td>143</td>\n",
              "      <td>0</td>\n",
              "    </tr>\n",
              "    <tr>\n",
              "      <th>4</th>\n",
              "      <td>1</td>\n",
              "      <td>2.34</td>\n",
              "      <td>177</td>\n",
              "      <td>2</td>\n",
              "    </tr>\n",
              "    <tr>\n",
              "      <th>5</th>\n",
              "      <td>2</td>\n",
              "      <td>214.40</td>\n",
              "      <td>264</td>\n",
              "      <td>2</td>\n",
              "    </tr>\n",
              "  </tbody>\n",
              "</table>\n",
              "</div>"
            ],
            "text/plain": [
              "            sagedus  väärtus  hiljutisus  klaster\n",
              "kliendi_id                                       \n",
              "1                 1   146.72        1214        1\n",
              "2                 8   381.76         433        0\n",
              "3                 7   613.99         143        0\n",
              "4                 1     2.34         177        2\n",
              "5                 2   214.40         264        2"
            ]
          },
          "metadata": {}
        }
      ]
    },
    {
      "cell_type": "markdown",
      "metadata": {
        "id": "sp5vvPuoWuL9"
      },
      "source": [
        "Ilmselt huvitab meid ka see, millised loodud klastrid on. Selleks saame vaadata nt iga klastri keskmist sagedust, väärtust ja hiljutisust. Seda saame näha `cluster_centers_` abil. Info saame kätte muutujast `kkeskmiste`, kuhu salvestasime selle tööriista, mis meie klastrid välja arvutas."
      ]
    },
    {
      "cell_type": "code",
      "metadata": {
        "id": "xiocjBFEWius",
        "colab": {
          "base_uri": "https://localhost:8080/"
        },
        "outputId": "81313e59-1107-47fd-a2a4-6fc5ac4313cc"
      },
      "source": [
        "print(kkeskmiste.cluster_centers_)"
      ],
      "execution_count": null,
      "outputs": [
        {
          "output_type": "stream",
          "name": "stdout",
          "text": [
            "[[0.40060729 0.30912573 0.08560374]\n",
            " [0.03993506 0.06013988 0.61950293]\n",
            " [0.09006678 0.08218534 0.13831588]]\n"
          ]
        }
      ]
    },
    {
      "cell_type": "markdown",
      "metadata": {
        "id": "86j9AxX5X6VO"
      },
      "source": [
        "Ilmus küll kenasti 3x3 tabel (kolm tunnust kolme klastri jaoks), aga siit on väga keeruline midagi välja lugeda. Meenub, et me ju skaleerisime andmed, et nende skaalad omavahel võrreldavad oleks. Tulemusi tahaks aga nüüd näha originaalskaalal.\n",
        "\n",
        "Kasutame selleks vastupidist transformeerimist, kutsudes eelnevalt defineeritud skaleerimise tööriista ´skaleerimine´ peal välja funktsiooni `inverse_transform` mida saab tõlkida kui tagasi transformeerimist."
      ]
    },
    {
      "cell_type": "code",
      "metadata": {
        "id": "6lrVo_BGX4-C",
        "colab": {
          "base_uri": "https://localhost:8080/"
        },
        "outputId": "eeed6332-c7d7-4afe-ee6f-60e69aad3e7a"
      },
      "source": [
        "#skaleerime väärtused tagasi originaalskaalale ja vaatame siis klastrite keskmisi\n",
        "#iga rida tähistab ühte klastrit kujul [sagedus, väärtus, hiljutisus]\n",
        "skaleerimine.inverse_transform(kkeskmiste.cluster_centers_)"
      ],
      "execution_count": null,
      "outputs": [
        {
          "output_type": "execute_result",
          "data": {
            "text/plain": [
              "array([[   9.01214575,  539.02906883,  183.53441296],\n",
              "       [   1.7987013 ,  104.93967532, 1328.21428571],\n",
              "       [   2.80133556,  143.37439065,  296.54924875]])"
            ]
          },
          "metadata": {},
          "execution_count": 66
        }
      ]
    },
    {
      "cell_type": "markdown",
      "metadata": {
        "id": "1GvNgLMUZLSY"
      },
      "source": [
        "**Küsimus:** Mida siit tulemustest välja loeme? Milline klaster kujutab **väärtuslikke** (kõrge keskmine sagedus ja väärtus, madal hiljutisus), milline **madala väärtusega** (madal sagedus, väärtus ja kõrge hiljutisus) ja milline **kõrge potentsiaaliga** kliente?"
      ]
    },
    {
      "cell_type": "markdown",
      "metadata": {
        "id": "7Hph8dG71LUr"
      },
      "source": [
        "Vaatame kui suured klastrid me saime ja millised on meie kõige väärtuslikumad kliendid."
      ]
    },
    {
      "cell_type": "code",
      "metadata": {
        "id": "FMVTO1vj1Q-c",
        "colab": {
          "base_uri": "https://localhost:8080/"
        },
        "outputId": "550e6a4c-c7ce-4513-c9b6-ea17570f3852"
      },
      "source": [
        "# kolme kliendigrupi suurused\n",
        "print(hsv[\"klaster\"].value_counts())"
      ],
      "execution_count": null,
      "outputs": [
        {
          "output_type": "stream",
          "name": "stdout",
          "text": [
            "2    599\n",
            "0    247\n",
            "1    154\n",
            "Name: klaster, dtype: int64\n"
          ]
        }
      ]
    },
    {
      "cell_type": "code",
      "metadata": {
        "id": "AIedBWI_1XJI",
        "colab": {
          "base_uri": "https://localhost:8080/",
          "height": 455
        },
        "outputId": "61797960-9653-42b9-a211-dab65fc4f980"
      },
      "source": [
        "#millised kliendid kuuluvad esimesse gruppi (id-ga 0)\n",
        "display(hsv[hsv[\"klaster\"] == 0])"
      ],
      "execution_count": null,
      "outputs": [
        {
          "output_type": "display_data",
          "data": {
            "text/html": [
              "<div>\n",
              "<style scoped>\n",
              "    .dataframe tbody tr th:only-of-type {\n",
              "        vertical-align: middle;\n",
              "    }\n",
              "\n",
              "    .dataframe tbody tr th {\n",
              "        vertical-align: top;\n",
              "    }\n",
              "\n",
              "    .dataframe thead th {\n",
              "        text-align: right;\n",
              "    }\n",
              "</style>\n",
              "<table border=\"1\" class=\"dataframe\">\n",
              "  <thead>\n",
              "    <tr style=\"text-align: right;\">\n",
              "      <th></th>\n",
              "      <th>sagedus</th>\n",
              "      <th>väärtus</th>\n",
              "      <th>hiljutisus</th>\n",
              "      <th>klaster</th>\n",
              "    </tr>\n",
              "    <tr>\n",
              "      <th>kliendi_id</th>\n",
              "      <th></th>\n",
              "      <th></th>\n",
              "      <th></th>\n",
              "      <th></th>\n",
              "    </tr>\n",
              "  </thead>\n",
              "  <tbody>\n",
              "    <tr>\n",
              "      <th>2</th>\n",
              "      <td>8</td>\n",
              "      <td>381.76</td>\n",
              "      <td>433</td>\n",
              "      <td>0</td>\n",
              "    </tr>\n",
              "    <tr>\n",
              "      <th>3</th>\n",
              "      <td>7</td>\n",
              "      <td>613.99</td>\n",
              "      <td>143</td>\n",
              "      <td>0</td>\n",
              "    </tr>\n",
              "    <tr>\n",
              "      <th>12</th>\n",
              "      <td>6</td>\n",
              "      <td>634.85</td>\n",
              "      <td>43</td>\n",
              "      <td>0</td>\n",
              "    </tr>\n",
              "    <tr>\n",
              "      <th>13</th>\n",
              "      <td>16</td>\n",
              "      <td>1262.98</td>\n",
              "      <td>336</td>\n",
              "      <td>0</td>\n",
              "    </tr>\n",
              "    <tr>\n",
              "      <th>18</th>\n",
              "      <td>7</td>\n",
              "      <td>412.51</td>\n",
              "      <td>564</td>\n",
              "      <td>0</td>\n",
              "    </tr>\n",
              "    <tr>\n",
              "      <th>...</th>\n",
              "      <td>...</td>\n",
              "      <td>...</td>\n",
              "      <td>...</td>\n",
              "      <td>...</td>\n",
              "    </tr>\n",
              "    <tr>\n",
              "      <th>982</th>\n",
              "      <td>6</td>\n",
              "      <td>296.58</td>\n",
              "      <td>5</td>\n",
              "      <td>0</td>\n",
              "    </tr>\n",
              "    <tr>\n",
              "      <th>989</th>\n",
              "      <td>7</td>\n",
              "      <td>447.20</td>\n",
              "      <td>525</td>\n",
              "      <td>0</td>\n",
              "    </tr>\n",
              "    <tr>\n",
              "      <th>990</th>\n",
              "      <td>11</td>\n",
              "      <td>717.42</td>\n",
              "      <td>404</td>\n",
              "      <td>0</td>\n",
              "    </tr>\n",
              "    <tr>\n",
              "      <th>998</th>\n",
              "      <td>8</td>\n",
              "      <td>359.18</td>\n",
              "      <td>9</td>\n",
              "      <td>0</td>\n",
              "    </tr>\n",
              "    <tr>\n",
              "      <th>1000</th>\n",
              "      <td>19</td>\n",
              "      <td>1016.12</td>\n",
              "      <td>123</td>\n",
              "      <td>0</td>\n",
              "    </tr>\n",
              "  </tbody>\n",
              "</table>\n",
              "<p>247 rows × 4 columns</p>\n",
              "</div>"
            ],
            "text/plain": [
              "            sagedus  väärtus  hiljutisus  klaster\n",
              "kliendi_id                                       \n",
              "2                 8   381.76         433        0\n",
              "3                 7   613.99         143        0\n",
              "12                6   634.85          43        0\n",
              "13               16  1262.98         336        0\n",
              "18                7   412.51         564        0\n",
              "...             ...      ...         ...      ...\n",
              "982               6   296.58           5        0\n",
              "989               7   447.20         525        0\n",
              "990              11   717.42         404        0\n",
              "998               8   359.18           9        0\n",
              "1000             19  1016.12         123        0\n",
              "\n",
              "[247 rows x 4 columns]"
            ]
          },
          "metadata": {}
        }
      ]
    },
    {
      "cell_type": "markdown",
      "metadata": {
        "id": "rzZFA6wUZdDR"
      },
      "source": [
        "Saame ka meie tulemusi visualiseerida. Näiteks hajuvusdiagrammil, kus saab valida kaks tunnust kolmest, nt. väärtus ja hiljutisus, ning värvida punkte vastavalt sellele, millisesse klastrisse nad kuuluvad. Proovi ise teha graafikud ka väärtuse ja sageduse või sageduse ja hiljutisuse suhetest. "
      ]
    },
    {
      "cell_type": "code",
      "metadata": {
        "id": "mY6E1D7MY2jG",
        "colab": {
          "base_uri": "https://localhost:8080/",
          "height": 519
        },
        "outputId": "99fe8ccb-1046-4173-fd33-039ec929300d"
      },
      "source": [
        "#teisendame klastri visualiseerimise jaoks sõnedeks, et plotnine \n",
        "#oskaks seda lugeda kategooriana mitte pideva väärtusena\n",
        "hsv[\"klaster\"] = hsv[\"klaster\"].astype(str)\n",
        "\n",
        "#esimene kiht - määrame andmestiku ja kasutatavad tulbad\n",
        "(p9.ggplot(data = hsv,\n",
        "           mapping=p9.aes(x=\"väärtus\", \n",
        "                          y=\"hiljutisus\",\n",
        "                          color=\"klaster\")) + #teeme iga maksevahendi tehingud eri värvi\n",
        "           #teine kiht - küsime ülal defineeritud andmetel punktdiagrammi\n",
        "           p9.geom_point())\n",
        "\n"
      ],
      "execution_count": null,
      "outputs": [
        {
          "output_type": "stream",
          "name": "stderr",
          "text": [
            "/usr/local/lib/python3.7/dist-packages/plotnine/utils.py:1246: FutureWarning: is_categorical is deprecated and will be removed in a future version.  Use is_categorical_dtype instead\n",
            "  if pdtypes.is_categorical(arr):\n"
          ]
        },
        {
          "output_type": "display_data",
          "data": {
            "image/png": "[encoded data removed]",
            "text/plain": [
              "<Figure size 640x480 with 1 Axes>"
            ]
          },
          "metadata": {}
        },
        {
          "output_type": "execute_result",
          "data": {
            "text/plain": [
              "<ggplot: (8790755979529)>"
            ]
          },
          "metadata": {},
          "execution_count": 71
        }
      ]
    },
    {
      "cell_type": "code",
      "metadata": {
        "id": "BKN0x8fhszAt"
      },
      "source": [
        "#teisendame klastri tagasi arvuks\n",
        "hsv[\"klaster\"] = hsv[\"klaster\"].astype(int)"
      ],
      "execution_count": null,
      "outputs": []
    },
    {
      "cell_type": "markdown",
      "metadata": {
        "id": "s4BdL8kvzWe7"
      },
      "source": [
        "Kuna praegu klasterdame ainult 3 tunnuse alusel, siis on tegelikud 3D abil võimalik ühel joonisel kujutada ka kõigi kolme tunnuse suhet. Kasutame selle jaoks `plotnine` asemel `matplotlibi`. Mäletate, et kolmandas praktikumis oli juttu, kuidas `matplotlibi` abil on keerukate jooniste tegemiseks pisut rohkem võimalusi? See on üks nendest olukordadest."
      ]
    },
    {
      "cell_type": "code",
      "metadata": {
        "id": "todF0u_vzv0_",
        "colab": {
          "base_uri": "https://localhost:8080/",
          "height": 483
        },
        "outputId": "9a64e4c0-36f8-4a25-fd2a-0e479ad79906"
      },
      "source": [
        "# 3-d visualiseerimine matplotlib teegiga \n",
        "plt.figure(figsize=(8, 8))\n",
        "ax = plt.axes(projection='3d')\n",
        "ax.scatter(hsv[\"hiljutisus\"], hsv[\"väärtus\"], hsv[\"sagedus\"], c=hsv[\"klaster\"])\n",
        "ax.set_xlabel(\"hiljutisus\")\n",
        "ax.set_ylabel(\"väärtus\")\n",
        "ax.set_zlabel(\"sagedus\")"
      ],
      "execution_count": null,
      "outputs": [
        {
          "output_type": "execute_result",
          "data": {
            "text/plain": [
              "Text(0.5, 0, 'sagedus')"
            ]
          },
          "metadata": {},
          "execution_count": 73
        },
        {
          "output_type": "display_data",
          "data": {
            "image/png": "[encoded data removed]",
            "text/plain": [
              "<Figure size 576x576 with 1 Axes>"
            ]
          },
          "metadata": {
            "needs_background": "light"
          }
        }
      ]
    },
    {
      "cell_type": "markdown",
      "metadata": {
        "id": "AhvZUxZSQ6mR"
      },
      "source": [
        "# Kliendi eluagne väärtus (KEV) ja selle ennustamine\n",
        "\n",
        "*Materjal baseerub Anna Leontjeva loodud materjalil*\n",
        "\n",
        "Selles osas vaatame, kuidas arvutada kliendi eluaja väärtust (KEV) ning kuidas saab rakendada lineaarset regressiooni uue kliendi KEVi ennustamiseks.\n",
        "\n",
        "**Kõik andmed on jätkuvalt kunstlikud ja ei peegelda reaalsust**"
      ]
    },
    {
      "cell_type": "markdown",
      "metadata": {
        "id": "bd0IthiuULCu"
      },
      "source": [
        "## Andmete sisselugemine"
      ]
    },
    {
      "cell_type": "markdown",
      "metadata": {
        "id": "2Zg2wC4-UXgD"
      },
      "source": [
        "Kõigepealt laeme vajalikud Pythoni paketid ehk teegid "
      ]
    },
    {
      "cell_type": "code",
      "metadata": {
        "id": "bpLlLq8-UV52"
      },
      "source": [
        "# andme töötlemisega seotud teegid\n",
        "import pandas as pd\n",
        "import numpy as np\n",
        "\n",
        "\n",
        "# visualiseerimisega seotud teegid\n",
        "import matplotlib.pyplot as plt"
      ],
      "execution_count": null,
      "outputs": []
    },
    {
      "cell_type": "markdown",
      "metadata": {
        "id": "q5EbkrmalTqZ"
      },
      "source": [
        "Kuna soovime arvutada väärtusi erinevatel segmentidel eraldi, kasutame ka siin juba ülal loodud klastreid.\n",
        "\n",
        "Kuvame need meeldetuletuseks uuesti:\n",
        "\n"
      ]
    },
    {
      "cell_type": "code",
      "metadata": {
        "id": "aO1jshsIWtVe",
        "colab": {
          "base_uri": "https://localhost:8080/",
          "height": 255
        },
        "outputId": "8aca4cb0-a8d9-4862-f5ea-f587cdf55c52"
      },
      "source": [
        "display(hsv.head())\n",
        "print(hsv.shape)"
      ],
      "execution_count": null,
      "outputs": [
        {
          "output_type": "display_data",
          "data": {
            "text/html": [
              "<div>\n",
              "<style scoped>\n",
              "    .dataframe tbody tr th:only-of-type {\n",
              "        vertical-align: middle;\n",
              "    }\n",
              "\n",
              "    .dataframe tbody tr th {\n",
              "        vertical-align: top;\n",
              "    }\n",
              "\n",
              "    .dataframe thead th {\n",
              "        text-align: right;\n",
              "    }\n",
              "</style>\n",
              "<table border=\"1\" class=\"dataframe\">\n",
              "  <thead>\n",
              "    <tr style=\"text-align: right;\">\n",
              "      <th></th>\n",
              "      <th>sagedus</th>\n",
              "      <th>väärtus</th>\n",
              "      <th>hiljutisus</th>\n",
              "      <th>klaster</th>\n",
              "    </tr>\n",
              "    <tr>\n",
              "      <th>kliendi_id</th>\n",
              "      <th></th>\n",
              "      <th></th>\n",
              "      <th></th>\n",
              "      <th></th>\n",
              "    </tr>\n",
              "  </thead>\n",
              "  <tbody>\n",
              "    <tr>\n",
              "      <th>1</th>\n",
              "      <td>1</td>\n",
              "      <td>146.72</td>\n",
              "      <td>1214</td>\n",
              "      <td>1</td>\n",
              "    </tr>\n",
              "    <tr>\n",
              "      <th>2</th>\n",
              "      <td>8</td>\n",
              "      <td>381.76</td>\n",
              "      <td>433</td>\n",
              "      <td>0</td>\n",
              "    </tr>\n",
              "    <tr>\n",
              "      <th>3</th>\n",
              "      <td>7</td>\n",
              "      <td>613.99</td>\n",
              "      <td>143</td>\n",
              "      <td>0</td>\n",
              "    </tr>\n",
              "    <tr>\n",
              "      <th>4</th>\n",
              "      <td>1</td>\n",
              "      <td>2.34</td>\n",
              "      <td>177</td>\n",
              "      <td>2</td>\n",
              "    </tr>\n",
              "    <tr>\n",
              "      <th>5</th>\n",
              "      <td>2</td>\n",
              "      <td>214.40</td>\n",
              "      <td>264</td>\n",
              "      <td>2</td>\n",
              "    </tr>\n",
              "  </tbody>\n",
              "</table>\n",
              "</div>"
            ],
            "text/plain": [
              "            sagedus  väärtus  hiljutisus  klaster\n",
              "kliendi_id                                       \n",
              "1                 1   146.72        1214        1\n",
              "2                 8   381.76         433        0\n",
              "3                 7   613.99         143        0\n",
              "4                 1     2.34         177        2\n",
              "5                 2   214.40         264        2"
            ]
          },
          "metadata": {}
        },
        {
          "output_type": "stream",
          "name": "stdout",
          "text": [
            "(1000, 4)\n"
          ]
        }
      ]
    },
    {
      "cell_type": "markdown",
      "metadata": {
        "id": "8x2ZdwpOImq9"
      },
      "source": [
        "## Kliendi eluaja väärtuse arvutamine"
      ]
    },
    {
      "cell_type": "markdown",
      "metadata": {
        "id": "jgLh0wQNR8oz"
      },
      "source": [
        "Tuletame meelde, kuidas me defineerisime kliendi eluaja väärtuse (KEV). Kasutame seda loengus antud valemit meie analüüsis:"
      ]
    },
    {
      "cell_type": "markdown",
      "metadata": {
        "id": "SHxdcxTdSi2R"
      },
      "source": [
        "<div>\n",
        "<img class=\"center\" src=\"https://drive.google.com/uc?id=1ULOoWg592uuIJt8ogfq797cbAEdvZcwZ\" />\n",
        "</div>"
      ]
    },
    {
      "cell_type": "markdown",
      "metadata": {
        "id": "HWPCfUEJTjL4"
      },
      "source": [
        "Selleks, et arvutada KEV iga kliendi kohta, peame natuke ka andmeid eeltöötlema. Nimelt, **lisame varasemalt leitud klastri numbri nüüd tehingute andmestikule.** \n",
        "\n",
        "Lisaks lisame ka uue tunnuse `kuu_aasta`, et saaksime analüüsi teostada kuu täpsusega. Hakkame sulgudes olevat valemiosa arvutama iga kuu kohta ja eluiga mõõtma kuudes.\n",
        "\n",
        "Nagu valemist näeme, on meil vaja uued mõõdikud arvutada:\n",
        "- kliendi eluea pikkus\n",
        "- keskmine tehingu väärtus iga kliendi jaoks\n",
        "- ostude sagedus kliendi kohta"
      ]
    },
    {
      "cell_type": "code",
      "metadata": {
        "id": "6v4pf1wStTaX",
        "colab": {
          "base_uri": "https://localhost:8080/",
          "height": 363
        },
        "outputId": "ad18e5f7-310b-4fc2-9800-58bd844dcfb1"
      },
      "source": [
        "# ühendame kaks andmetabelit: andmestik ja hsv\n",
        "#hsv tabelist vajame ainult \"klaster\" veergu\n",
        "# Mis on ühine veerg, mis lubab tabelid ühendada?\n",
        "df_klastriga = pd.merge(tehingud, hsv[['klaster']], how='inner', on=\"kliendi_id\")\n",
        "\n",
        "\n",
        "# lisame uue tunnuse\n",
        "df_klastriga['kuu_aasta'] = pd.to_datetime(df_klastriga['tehingu_kuupäev']).dt.to_period('M') # \"M\" siin tähendab month, ehk kuu\n",
        "# võid selle juppideks lahti võtta\n",
        "#df_klastriga['kuu_aasta'] = pd.to_datetime(df_klastriga['tehingu_kuupäev']) #teeme kuupäevaks\n",
        "#df_klastriga['kuu_aasta'] = df_klastriga['kuu_aasta'].dt.to_period('M') #muudame kuu täpsuseks\n",
        "\n",
        "df_klastriga.head(10)"
      ],
      "execution_count": null,
      "outputs": [
        {
          "output_type": "execute_result",
          "data": {
            "text/html": [
              "<div>\n",
              "<style scoped>\n",
              "    .dataframe tbody tr th:only-of-type {\n",
              "        vertical-align: middle;\n",
              "    }\n",
              "\n",
              "    .dataframe tbody tr th {\n",
              "        vertical-align: top;\n",
              "    }\n",
              "\n",
              "    .dataframe thead th {\n",
              "        text-align: right;\n",
              "    }\n",
              "</style>\n",
              "<table border=\"1\" class=\"dataframe\">\n",
              "  <thead>\n",
              "    <tr style=\"text-align: right;\">\n",
              "      <th></th>\n",
              "      <th>tehingu_id</th>\n",
              "      <th>tehingu_kuupäev</th>\n",
              "      <th>kliendi_id</th>\n",
              "      <th>ostusumma</th>\n",
              "      <th>maksevahend</th>\n",
              "      <th>aasta</th>\n",
              "      <th>klaster</th>\n",
              "      <th>kuu_aasta</th>\n",
              "    </tr>\n",
              "  </thead>\n",
              "  <tbody>\n",
              "    <tr>\n",
              "      <th>0</th>\n",
              "      <td>1</td>\n",
              "      <td>2015-09-04</td>\n",
              "      <td>1</td>\n",
              "      <td>146.72</td>\n",
              "      <td>arve</td>\n",
              "      <td>2015</td>\n",
              "      <td>1</td>\n",
              "      <td>2015-09</td>\n",
              "    </tr>\n",
              "    <tr>\n",
              "      <th>1</th>\n",
              "      <td>2</td>\n",
              "      <td>2015-05-15</td>\n",
              "      <td>2</td>\n",
              "      <td>86.96</td>\n",
              "      <td>sularaha</td>\n",
              "      <td>2015</td>\n",
              "      <td>0</td>\n",
              "      <td>2015-05</td>\n",
              "    </tr>\n",
              "    <tr>\n",
              "      <th>2</th>\n",
              "      <td>3</td>\n",
              "      <td>2017-05-23</td>\n",
              "      <td>2</td>\n",
              "      <td>17.68</td>\n",
              "      <td>kaart</td>\n",
              "      <td>2017</td>\n",
              "      <td>0</td>\n",
              "      <td>2017-05</td>\n",
              "    </tr>\n",
              "    <tr>\n",
              "      <th>3</th>\n",
              "      <td>4</td>\n",
              "      <td>2017-10-24</td>\n",
              "      <td>2</td>\n",
              "      <td>83.84</td>\n",
              "      <td>arve</td>\n",
              "      <td>2017</td>\n",
              "      <td>0</td>\n",
              "      <td>2017-10</td>\n",
              "    </tr>\n",
              "    <tr>\n",
              "      <th>4</th>\n",
              "      <td>5</td>\n",
              "      <td>2015-10-13</td>\n",
              "      <td>2</td>\n",
              "      <td>31.52</td>\n",
              "      <td>arve</td>\n",
              "      <td>2015</td>\n",
              "      <td>0</td>\n",
              "      <td>2015-10</td>\n",
              "    </tr>\n",
              "    <tr>\n",
              "      <th>5</th>\n",
              "      <td>6</td>\n",
              "      <td>2016-01-23</td>\n",
              "      <td>2</td>\n",
              "      <td>98.96</td>\n",
              "      <td>arve</td>\n",
              "      <td>2016</td>\n",
              "      <td>0</td>\n",
              "      <td>2016-01</td>\n",
              "    </tr>\n",
              "    <tr>\n",
              "      <th>6</th>\n",
              "      <td>7</td>\n",
              "      <td>2017-03-09</td>\n",
              "      <td>2</td>\n",
              "      <td>12.72</td>\n",
              "      <td>sularaha</td>\n",
              "      <td>2017</td>\n",
              "      <td>0</td>\n",
              "      <td>2017-03</td>\n",
              "    </tr>\n",
              "    <tr>\n",
              "      <th>7</th>\n",
              "      <td>8</td>\n",
              "      <td>2016-11-17</td>\n",
              "      <td>2</td>\n",
              "      <td>22.00</td>\n",
              "      <td>kaart</td>\n",
              "      <td>2016</td>\n",
              "      <td>0</td>\n",
              "      <td>2016-11</td>\n",
              "    </tr>\n",
              "    <tr>\n",
              "      <th>8</th>\n",
              "      <td>9</td>\n",
              "      <td>2017-10-10</td>\n",
              "      <td>2</td>\n",
              "      <td>28.08</td>\n",
              "      <td>sularaha</td>\n",
              "      <td>2017</td>\n",
              "      <td>0</td>\n",
              "      <td>2017-10</td>\n",
              "    </tr>\n",
              "    <tr>\n",
              "      <th>9</th>\n",
              "      <td>10</td>\n",
              "      <td>2015-11-26</td>\n",
              "      <td>3</td>\n",
              "      <td>212.20</td>\n",
              "      <td>arve</td>\n",
              "      <td>2015</td>\n",
              "      <td>0</td>\n",
              "      <td>2015-11</td>\n",
              "    </tr>\n",
              "  </tbody>\n",
              "</table>\n",
              "</div>"
            ],
            "text/plain": [
              "   tehingu_id tehingu_kuupäev  kliendi_id  ...  aasta klaster kuu_aasta\n",
              "0           1      2015-09-04           1  ...   2015       1   2015-09\n",
              "1           2      2015-05-15           2  ...   2015       0   2015-05\n",
              "2           3      2017-05-23           2  ...   2017       0   2017-05\n",
              "3           4      2017-10-24           2  ...   2017       0   2017-10\n",
              "4           5      2015-10-13           2  ...   2015       0   2015-10\n",
              "5           6      2016-01-23           2  ...   2016       0   2016-01\n",
              "6           7      2017-03-09           2  ...   2017       0   2017-03\n",
              "7           8      2016-11-17           2  ...   2016       0   2016-11\n",
              "8           9      2017-10-10           2  ...   2017       0   2017-10\n",
              "9          10      2015-11-26           3  ...   2015       0   2015-11\n",
              "\n",
              "[10 rows x 8 columns]"
            ]
          },
          "metadata": {},
          "execution_count": 76
        }
      ]
    },
    {
      "cell_type": "markdown",
      "metadata": {
        "id": "GUifeBQCTz2j"
      },
      "source": [
        "Defineerime **lisafunktsiooni**, mis arvutab tunnuse \"kuu_aasta\" maksimumi ja miinimumi vahe, ehk kliendisuhte pikkuse. `astype(int)` tõlgendab kuupäevad numbriliseks väärtuseks."
      ]
    },
    {
      "cell_type": "code",
      "metadata": {
        "id": "Pfu9YubWT3B-"
      },
      "source": [
        "def eluaeg(x): \n",
        "    return max(x.astype(int)) - min(x.astype(int))"
      ],
      "execution_count": null,
      "outputs": []
    },
    {
      "cell_type": "markdown",
      "metadata": {
        "id": "uRrPg0LGVSUR"
      },
      "source": [
        "Näeme, et kliendid, kes tegid oste ainult ühel kuul saavad elueaks 0 (näiteks ühe ostuga kliendid).\n",
        "\n",
        "Järgmisena grupeerime andmestiku kliendi id järgi ning rakendame meie poolt kirjutatud funktsiooni, et arvutada **kliendi eluaeg** kuudes, ehk kui pikalt klient oli aktiivne ja teostas internetipoes tehinguid. \n",
        "- Kasutame `groupby` funktsiooni iga kliendi eraldi vaatamiseks\n",
        "- Kasutame `agg` funktsiooni, mis lubab tabeli mingile veerule rakendada mingit funktsiooni. Saab rakendada teatud tuntud funktsioone (\"mean\", \"min\", \"max\", \"first\" jne), aga siin rakendatame oma enda funktsiooni \"eluaeg\"."
      ]
    },
    {
      "cell_type": "code",
      "metadata": {
        "id": "iczvxuhDAANv"
      },
      "source": [
        "kliendi_eluaeg = df_klastriga.groupby(\"kliendi_id\").agg({'kuu_aasta': eluaeg}) #agg rakendab veerule \"kuu_aasta\" funktsiooni eluaeg\n",
        "kliendi_eluaeg.columns = ['eluaeg'] # saadud andmefreimil polnud veel nime"
      ],
      "execution_count": null,
      "outputs": []
    },
    {
      "cell_type": "code",
      "metadata": {
        "id": "q9yv5JigVnQE",
        "colab": {
          "base_uri": "https://localhost:8080/",
          "height": 237
        },
        "outputId": "6392ba82-db48-4299-ea6d-00030e2728a8"
      },
      "source": [
        "kliendi_eluaeg.head() #visualiseerime esimesed 5 väärtust\n",
        "# näeme, et kliendi ID-st on saanud indeks"
      ],
      "execution_count": null,
      "outputs": [
        {
          "output_type": "execute_result",
          "data": {
            "text/html": [
              "<div>\n",
              "<style scoped>\n",
              "    .dataframe tbody tr th:only-of-type {\n",
              "        vertical-align: middle;\n",
              "    }\n",
              "\n",
              "    .dataframe tbody tr th {\n",
              "        vertical-align: top;\n",
              "    }\n",
              "\n",
              "    .dataframe thead th {\n",
              "        text-align: right;\n",
              "    }\n",
              "</style>\n",
              "<table border=\"1\" class=\"dataframe\">\n",
              "  <thead>\n",
              "    <tr style=\"text-align: right;\">\n",
              "      <th></th>\n",
              "      <th>eluaeg</th>\n",
              "    </tr>\n",
              "    <tr>\n",
              "      <th>kliendi_id</th>\n",
              "      <th></th>\n",
              "    </tr>\n",
              "  </thead>\n",
              "  <tbody>\n",
              "    <tr>\n",
              "      <th>1</th>\n",
              "      <td>0</td>\n",
              "    </tr>\n",
              "    <tr>\n",
              "      <th>2</th>\n",
              "      <td>29</td>\n",
              "    </tr>\n",
              "    <tr>\n",
              "      <th>3</th>\n",
              "      <td>33</td>\n",
              "    </tr>\n",
              "    <tr>\n",
              "      <th>4</th>\n",
              "      <td>0</td>\n",
              "    </tr>\n",
              "    <tr>\n",
              "      <th>5</th>\n",
              "      <td>3</td>\n",
              "    </tr>\n",
              "  </tbody>\n",
              "</table>\n",
              "</div>"
            ],
            "text/plain": [
              "            eluaeg\n",
              "kliendi_id        \n",
              "1                0\n",
              "2               29\n",
              "3               33\n",
              "4                0\n",
              "5                3"
            ]
          },
          "metadata": {},
          "execution_count": 81
        }
      ]
    },
    {
      "cell_type": "markdown",
      "metadata": {
        "id": "XFVVV_A2VrGm"
      },
      "source": [
        "Arvutame ka teised komponendid valemis: **ostude sageduse** ja **tehingu keskmise väärtuse** iga kliendi kohta. Nüüd peame grupeerima nii, et arvutuskäik toimuks iga kliendi kohta kuiselt. Seega grupeerime kahe tunnuse põhjal, *kliendi_ID* ja *kuu_aasta*. "
      ]
    },
    {
      "cell_type": "code",
      "metadata": {
        "id": "YlNIR94gV4-f"
      },
      "source": [
        "aegrida = df_klastriga.groupby(['kliendi_id', \"kuu_aasta\"])\n",
        "\n",
        "#Meil on nüüd justkui terve hulk tabeleid, iga kliendi ja kuu kohta eraldi tabel, mis sisaldab\n",
        "# selle kliendi selle kuu tehinguid\n",
        "\n",
        "# \"count\" abil mõnes veerus olevad väärtused kokku lugedes (read kokku lugedes) saame sageduse\n",
        "# ostusummade veeru kohta vajame keskmist (mean)\n",
        "# klaster on kõigil ridadel sama, nii et piisab esimese väärtuse küsimisest (first)\n",
        "aegrida = aegrida.agg({'kliendi_id': 'count', \n",
        "                                    'ostusumma':'mean',\n",
        "                                    'klaster': 'first'})\n",
        "\n",
        "\n",
        "aegrida.columns = ['sagedus', 'väärtus', 'klaster'] #anname nimed\n",
        "aegrida.reset_index(inplace=True) #võib proovida ilma?"
      ],
      "execution_count": null,
      "outputs": []
    },
    {
      "cell_type": "code",
      "metadata": {
        "id": "_Q1QGi6BV78-",
        "colab": {
          "base_uri": "https://localhost:8080/",
          "height": 206
        },
        "outputId": "3d291231-3697-4d88-c0bf-eab74c4d7955"
      },
      "source": [
        "# vaatame loodud andmeid\n",
        "aegrida.head()"
      ],
      "execution_count": null,
      "outputs": [
        {
          "output_type": "execute_result",
          "data": {
            "text/html": [
              "<div>\n",
              "<style scoped>\n",
              "    .dataframe tbody tr th:only-of-type {\n",
              "        vertical-align: middle;\n",
              "    }\n",
              "\n",
              "    .dataframe tbody tr th {\n",
              "        vertical-align: top;\n",
              "    }\n",
              "\n",
              "    .dataframe thead th {\n",
              "        text-align: right;\n",
              "    }\n",
              "</style>\n",
              "<table border=\"1\" class=\"dataframe\">\n",
              "  <thead>\n",
              "    <tr style=\"text-align: right;\">\n",
              "      <th></th>\n",
              "      <th>kliendi_id</th>\n",
              "      <th>kuu_aasta</th>\n",
              "      <th>sagedus</th>\n",
              "      <th>väärtus</th>\n",
              "      <th>klaster</th>\n",
              "    </tr>\n",
              "  </thead>\n",
              "  <tbody>\n",
              "    <tr>\n",
              "      <th>0</th>\n",
              "      <td>1</td>\n",
              "      <td>2015-09</td>\n",
              "      <td>1</td>\n",
              "      <td>146.72</td>\n",
              "      <td>1</td>\n",
              "    </tr>\n",
              "    <tr>\n",
              "      <th>1</th>\n",
              "      <td>2</td>\n",
              "      <td>2015-05</td>\n",
              "      <td>1</td>\n",
              "      <td>86.96</td>\n",
              "      <td>0</td>\n",
              "    </tr>\n",
              "    <tr>\n",
              "      <th>2</th>\n",
              "      <td>2</td>\n",
              "      <td>2015-10</td>\n",
              "      <td>1</td>\n",
              "      <td>31.52</td>\n",
              "      <td>0</td>\n",
              "    </tr>\n",
              "    <tr>\n",
              "      <th>3</th>\n",
              "      <td>2</td>\n",
              "      <td>2016-01</td>\n",
              "      <td>1</td>\n",
              "      <td>98.96</td>\n",
              "      <td>0</td>\n",
              "    </tr>\n",
              "    <tr>\n",
              "      <th>4</th>\n",
              "      <td>2</td>\n",
              "      <td>2016-11</td>\n",
              "      <td>1</td>\n",
              "      <td>22.00</td>\n",
              "      <td>0</td>\n",
              "    </tr>\n",
              "  </tbody>\n",
              "</table>\n",
              "</div>"
            ],
            "text/plain": [
              "   kliendi_id kuu_aasta  sagedus  väärtus  klaster\n",
              "0           1   2015-09        1   146.72        1\n",
              "1           2   2015-05        1    86.96        0\n",
              "2           2   2015-10        1    31.52        0\n",
              "3           2   2016-01        1    98.96        0\n",
              "4           2   2016-11        1    22.00        0"
            ]
          },
          "metadata": {},
          "execution_count": 83
        }
      ]
    },
    {
      "cell_type": "markdown",
      "metadata": {
        "id": "-IzmjbEqV8zg"
      },
      "source": [
        "**Paneme vajalikud andmed kokku**\n",
        "\n",
        "Meil on aegrida freimis peaaegu kõik olemas, lisaks on vaja kliendi eluaega."
      ]
    },
    {
      "cell_type": "code",
      "metadata": {
        "id": "_BT3-6m3V_jk",
        "colab": {
          "base_uri": "https://localhost:8080/",
          "height": 206
        },
        "outputId": "31001815-7a89-438a-dc06-98af4defad7a"
      },
      "source": [
        "kliendi_KEV_komponendid = pd.merge(aegrida, kliendi_eluaeg, how='inner', on='kliendi_id')\n",
        "kliendi_KEV_komponendid.head()"
      ],
      "execution_count": null,
      "outputs": [
        {
          "output_type": "execute_result",
          "data": {
            "text/html": [
              "<div>\n",
              "<style scoped>\n",
              "    .dataframe tbody tr th:only-of-type {\n",
              "        vertical-align: middle;\n",
              "    }\n",
              "\n",
              "    .dataframe tbody tr th {\n",
              "        vertical-align: top;\n",
              "    }\n",
              "\n",
              "    .dataframe thead th {\n",
              "        text-align: right;\n",
              "    }\n",
              "</style>\n",
              "<table border=\"1\" class=\"dataframe\">\n",
              "  <thead>\n",
              "    <tr style=\"text-align: right;\">\n",
              "      <th></th>\n",
              "      <th>kliendi_id</th>\n",
              "      <th>kuu_aasta</th>\n",
              "      <th>sagedus</th>\n",
              "      <th>väärtus</th>\n",
              "      <th>klaster</th>\n",
              "      <th>eluaeg</th>\n",
              "    </tr>\n",
              "  </thead>\n",
              "  <tbody>\n",
              "    <tr>\n",
              "      <th>0</th>\n",
              "      <td>1</td>\n",
              "      <td>2015-09</td>\n",
              "      <td>1</td>\n",
              "      <td>146.72</td>\n",
              "      <td>1</td>\n",
              "      <td>0</td>\n",
              "    </tr>\n",
              "    <tr>\n",
              "      <th>1</th>\n",
              "      <td>2</td>\n",
              "      <td>2015-05</td>\n",
              "      <td>1</td>\n",
              "      <td>86.96</td>\n",
              "      <td>0</td>\n",
              "      <td>29</td>\n",
              "    </tr>\n",
              "    <tr>\n",
              "      <th>2</th>\n",
              "      <td>2</td>\n",
              "      <td>2015-10</td>\n",
              "      <td>1</td>\n",
              "      <td>31.52</td>\n",
              "      <td>0</td>\n",
              "      <td>29</td>\n",
              "    </tr>\n",
              "    <tr>\n",
              "      <th>3</th>\n",
              "      <td>2</td>\n",
              "      <td>2016-01</td>\n",
              "      <td>1</td>\n",
              "      <td>98.96</td>\n",
              "      <td>0</td>\n",
              "      <td>29</td>\n",
              "    </tr>\n",
              "    <tr>\n",
              "      <th>4</th>\n",
              "      <td>2</td>\n",
              "      <td>2016-11</td>\n",
              "      <td>1</td>\n",
              "      <td>22.00</td>\n",
              "      <td>0</td>\n",
              "      <td>29</td>\n",
              "    </tr>\n",
              "  </tbody>\n",
              "</table>\n",
              "</div>"
            ],
            "text/plain": [
              "   kliendi_id kuu_aasta  sagedus  väärtus  klaster  eluaeg\n",
              "0           1   2015-09        1   146.72        1       0\n",
              "1           2   2015-05        1    86.96        0      29\n",
              "2           2   2015-10        1    31.52        0      29\n",
              "3           2   2016-01        1    98.96        0      29\n",
              "4           2   2016-11        1    22.00        0      29"
            ]
          },
          "metadata": {},
          "execution_count": 84
        }
      ]
    },
    {
      "cell_type": "markdown",
      "metadata": {
        "id": "WIfbP5fLWDRJ"
      },
      "source": [
        "Nüüd on puudu ainult **kasumimarginaali väärtus**. Oletame, et meie poe toodete puhul on see 20%."
      ]
    },
    {
      "cell_type": "code",
      "metadata": {
        "id": "2NmPktWkWEVT"
      },
      "source": [
        "kasumimarginaal = 0.2"
      ],
      "execution_count": null,
      "outputs": []
    },
    {
      "cell_type": "markdown",
      "metadata": {
        "id": "dTruGnXuWGrt"
      },
      "source": [
        "Nüüd korrutame kõik arvutatud väärtused kokku, mille tulemusena saame iga kliendi jaoks vastava kuu KEVi.\n",
        "\n",
        "**Tähelepanu** siin me seame kliendi elueaks alati, igal kuul tema terve kliendisuhte pikkuse. Meil pole mingit mudelit, mis ütleks meile, kui kaua klient, kes on juba 2 kuud/12kuud/24kuud klient olnud veel aktiivne püsib. Meie \"pood\" ei läinud andmestiku lõppkuupäevaga kinni ja kõik kliendid ei lahkunud, nii et nende eluaeg ei lõpe viimasel kuul vaid jätkub teadmata kaua.\n",
        "\n",
        "Sellises analüüsis oleks hea tegelikult luua mingi mudel, loogika, kuidas leida \"eeldatav eluiga\" igale kliendile. See on muidugi omaette keerukus. Võib kasutada ajaloolisi andmeid ja kliente hetke elueea järgi gruppeerides saada neile ennustuse (\"klient kes on juba 3 kuud aktiivne olnud on keskmiselt aktiivne veel 9 kuud\"), aga muidugi on keerulisemaid viise.\n",
        "\n",
        "Hetkel lepime sellega, et meie \"eluiga\" veerg sisaldab lihtsalt kliendi eluiga, mitte mingit täpset ennustust. "
      ]
    },
    {
      "cell_type": "code",
      "metadata": {
        "id": "C6DB7ldMWJdQ",
        "colab": {
          "base_uri": "https://localhost:8080/",
          "height": 223
        },
        "outputId": "2558e9e2-76c8-47c0-a735-5a82f845e2f9"
      },
      "source": [
        "#vaata ülalt valemit, kui vaja\n",
        "kliendi_KEV_komponendid['KEV_kuine'] = kasumimarginaal * kliendi_KEV_komponendid['sagedus'] * kliendi_KEV_komponendid[\"väärtus\"]  * kliendi_KEV_komponendid[\"eluaeg\"]\n",
        "display(kliendi_KEV_komponendid.head())\n",
        "print(kliendi_KEV_komponendid.shape)"
      ],
      "execution_count": null,
      "outputs": [
        {
          "output_type": "display_data",
          "data": {
            "text/html": [
              "<div>\n",
              "<style scoped>\n",
              "    .dataframe tbody tr th:only-of-type {\n",
              "        vertical-align: middle;\n",
              "    }\n",
              "\n",
              "    .dataframe tbody tr th {\n",
              "        vertical-align: top;\n",
              "    }\n",
              "\n",
              "    .dataframe thead th {\n",
              "        text-align: right;\n",
              "    }\n",
              "</style>\n",
              "<table border=\"1\" class=\"dataframe\">\n",
              "  <thead>\n",
              "    <tr style=\"text-align: right;\">\n",
              "      <th></th>\n",
              "      <th>kliendi_id</th>\n",
              "      <th>kuu_aasta</th>\n",
              "      <th>sagedus</th>\n",
              "      <th>väärtus</th>\n",
              "      <th>klaster</th>\n",
              "      <th>eluaeg</th>\n",
              "      <th>KEV_kuine</th>\n",
              "    </tr>\n",
              "  </thead>\n",
              "  <tbody>\n",
              "    <tr>\n",
              "      <th>0</th>\n",
              "      <td>1</td>\n",
              "      <td>2015-09</td>\n",
              "      <td>1</td>\n",
              "      <td>146.72</td>\n",
              "      <td>1</td>\n",
              "      <td>0</td>\n",
              "      <td>0.000</td>\n",
              "    </tr>\n",
              "    <tr>\n",
              "      <th>1</th>\n",
              "      <td>2</td>\n",
              "      <td>2015-05</td>\n",
              "      <td>1</td>\n",
              "      <td>86.96</td>\n",
              "      <td>0</td>\n",
              "      <td>29</td>\n",
              "      <td>504.368</td>\n",
              "    </tr>\n",
              "    <tr>\n",
              "      <th>2</th>\n",
              "      <td>2</td>\n",
              "      <td>2015-10</td>\n",
              "      <td>1</td>\n",
              "      <td>31.52</td>\n",
              "      <td>0</td>\n",
              "      <td>29</td>\n",
              "      <td>182.816</td>\n",
              "    </tr>\n",
              "    <tr>\n",
              "      <th>3</th>\n",
              "      <td>2</td>\n",
              "      <td>2016-01</td>\n",
              "      <td>1</td>\n",
              "      <td>98.96</td>\n",
              "      <td>0</td>\n",
              "      <td>29</td>\n",
              "      <td>573.968</td>\n",
              "    </tr>\n",
              "    <tr>\n",
              "      <th>4</th>\n",
              "      <td>2</td>\n",
              "      <td>2016-11</td>\n",
              "      <td>1</td>\n",
              "      <td>22.00</td>\n",
              "      <td>0</td>\n",
              "      <td>29</td>\n",
              "      <td>127.600</td>\n",
              "    </tr>\n",
              "  </tbody>\n",
              "</table>\n",
              "</div>"
            ],
            "text/plain": [
              "   kliendi_id kuu_aasta  sagedus  väärtus  klaster  eluaeg  KEV_kuine\n",
              "0           1   2015-09        1   146.72        1       0      0.000\n",
              "1           2   2015-05        1    86.96        0      29    504.368\n",
              "2           2   2015-10        1    31.52        0      29    182.816\n",
              "3           2   2016-01        1    98.96        0      29    573.968\n",
              "4           2   2016-11        1    22.00        0      29    127.600"
            ]
          },
          "metadata": {}
        },
        {
          "output_type": "stream",
          "name": "stdout",
          "text": [
            "(3953, 7)\n"
          ]
        }
      ]
    },
    {
      "cell_type": "markdown",
      "metadata": {
        "id": "PjMpHhnNWP5v"
      },
      "source": [
        "Nüüd saaksime iga kliendi kohta uurida, kuidas tema väärtus muutub ajas.\n",
        "\n",
        "Ehk kas klient hakkab tooma rohkem kasumit või pigem vastupidi? Kuid iga kliendi läbi vaatamine tundub väga ajakulukas, keskmine väärtus iga segmendi kohta on palju mõistlikum."
      ]
    },
    {
      "cell_type": "code",
      "metadata": {
        "colab": {
          "base_uri": "https://localhost:8080/",
          "height": 423
        },
        "id": "sBuTXX70xujT",
        "outputId": "8c768694-ef44-43e9-d638-d161e62416ef"
      },
      "source": [
        "display(kliendi_KEV_komponendid)"
      ],
      "execution_count": null,
      "outputs": [
        {
          "output_type": "display_data",
          "data": {
            "text/html": [
              "<div>\n",
              "<style scoped>\n",
              "    .dataframe tbody tr th:only-of-type {\n",
              "        vertical-align: middle;\n",
              "    }\n",
              "\n",
              "    .dataframe tbody tr th {\n",
              "        vertical-align: top;\n",
              "    }\n",
              "\n",
              "    .dataframe thead th {\n",
              "        text-align: right;\n",
              "    }\n",
              "</style>\n",
              "<table border=\"1\" class=\"dataframe\">\n",
              "  <thead>\n",
              "    <tr style=\"text-align: right;\">\n",
              "      <th></th>\n",
              "      <th>kliendi_id</th>\n",
              "      <th>kuu_aasta</th>\n",
              "      <th>sagedus</th>\n",
              "      <th>väärtus</th>\n",
              "      <th>klaster</th>\n",
              "      <th>eluaeg</th>\n",
              "      <th>KEV_kuine</th>\n",
              "    </tr>\n",
              "  </thead>\n",
              "  <tbody>\n",
              "    <tr>\n",
              "      <th>0</th>\n",
              "      <td>1</td>\n",
              "      <td>2015-09</td>\n",
              "      <td>1</td>\n",
              "      <td>146.72</td>\n",
              "      <td>1</td>\n",
              "      <td>0</td>\n",
              "      <td>0.000</td>\n",
              "    </tr>\n",
              "    <tr>\n",
              "      <th>1</th>\n",
              "      <td>2</td>\n",
              "      <td>2015-05</td>\n",
              "      <td>1</td>\n",
              "      <td>86.96</td>\n",
              "      <td>0</td>\n",
              "      <td>29</td>\n",
              "      <td>504.368</td>\n",
              "    </tr>\n",
              "    <tr>\n",
              "      <th>2</th>\n",
              "      <td>2</td>\n",
              "      <td>2015-10</td>\n",
              "      <td>1</td>\n",
              "      <td>31.52</td>\n",
              "      <td>0</td>\n",
              "      <td>29</td>\n",
              "      <td>182.816</td>\n",
              "    </tr>\n",
              "    <tr>\n",
              "      <th>3</th>\n",
              "      <td>2</td>\n",
              "      <td>2016-01</td>\n",
              "      <td>1</td>\n",
              "      <td>98.96</td>\n",
              "      <td>0</td>\n",
              "      <td>29</td>\n",
              "      <td>573.968</td>\n",
              "    </tr>\n",
              "    <tr>\n",
              "      <th>4</th>\n",
              "      <td>2</td>\n",
              "      <td>2016-11</td>\n",
              "      <td>1</td>\n",
              "      <td>22.00</td>\n",
              "      <td>0</td>\n",
              "      <td>29</td>\n",
              "      <td>127.600</td>\n",
              "    </tr>\n",
              "    <tr>\n",
              "      <th>...</th>\n",
              "      <td>...</td>\n",
              "      <td>...</td>\n",
              "      <td>...</td>\n",
              "      <td>...</td>\n",
              "      <td>...</td>\n",
              "      <td>...</td>\n",
              "      <td>...</td>\n",
              "    </tr>\n",
              "    <tr>\n",
              "      <th>3948</th>\n",
              "      <td>1000</td>\n",
              "      <td>2016-07</td>\n",
              "      <td>1</td>\n",
              "      <td>72.23</td>\n",
              "      <td>0</td>\n",
              "      <td>65</td>\n",
              "      <td>938.990</td>\n",
              "    </tr>\n",
              "    <tr>\n",
              "      <th>3949</th>\n",
              "      <td>1000</td>\n",
              "      <td>2017-01</td>\n",
              "      <td>1</td>\n",
              "      <td>24.94</td>\n",
              "      <td>0</td>\n",
              "      <td>65</td>\n",
              "      <td>324.220</td>\n",
              "    </tr>\n",
              "    <tr>\n",
              "      <th>3950</th>\n",
              "      <td>1000</td>\n",
              "      <td>2017-04</td>\n",
              "      <td>1</td>\n",
              "      <td>103.80</td>\n",
              "      <td>0</td>\n",
              "      <td>65</td>\n",
              "      <td>1349.400</td>\n",
              "    </tr>\n",
              "    <tr>\n",
              "      <th>3951</th>\n",
              "      <td>1000</td>\n",
              "      <td>2018-01</td>\n",
              "      <td>1</td>\n",
              "      <td>20.91</td>\n",
              "      <td>0</td>\n",
              "      <td>65</td>\n",
              "      <td>271.830</td>\n",
              "    </tr>\n",
              "    <tr>\n",
              "      <th>3952</th>\n",
              "      <td>1000</td>\n",
              "      <td>2018-08</td>\n",
              "      <td>1</td>\n",
              "      <td>24.46</td>\n",
              "      <td>0</td>\n",
              "      <td>65</td>\n",
              "      <td>317.980</td>\n",
              "    </tr>\n",
              "  </tbody>\n",
              "</table>\n",
              "<p>3953 rows × 7 columns</p>\n",
              "</div>"
            ],
            "text/plain": [
              "      kliendi_id kuu_aasta  sagedus  väärtus  klaster  eluaeg  KEV_kuine\n",
              "0              1   2015-09        1   146.72        1       0      0.000\n",
              "1              2   2015-05        1    86.96        0      29    504.368\n",
              "2              2   2015-10        1    31.52        0      29    182.816\n",
              "3              2   2016-01        1    98.96        0      29    573.968\n",
              "4              2   2016-11        1    22.00        0      29    127.600\n",
              "...          ...       ...      ...      ...      ...     ...        ...\n",
              "3948        1000   2016-07        1    72.23        0      65    938.990\n",
              "3949        1000   2017-01        1    24.94        0      65    324.220\n",
              "3950        1000   2017-04        1   103.80        0      65   1349.400\n",
              "3951        1000   2018-01        1    20.91        0      65    271.830\n",
              "3952        1000   2018-08        1    24.46        0      65    317.980\n",
              "\n",
              "[3953 rows x 7 columns]"
            ]
          },
          "metadata": {}
        }
      ]
    },
    {
      "cell_type": "code",
      "metadata": {
        "id": "0lKZMWn_Wd6E",
        "colab": {
          "base_uri": "https://localhost:8080/",
          "height": 324
        },
        "outputId": "5d2c0d16-4a2b-4396-d501-2dea847d1e9b"
      },
      "source": [
        "#iga klastri iga kuu keskmine\n",
        "KEV_aegrida_segmendi_kaupa = kliendi_KEV_komponendid.groupby(['kuu_aasta', 'klaster']).agg({'KEV_kuine': 'mean'}).unstack()\n",
        "#unstack paneb tagasi ühte tabelisse kokku\n",
        "\n",
        "#anname klastritele nimed\n",
        "KEV_aegrida_segmendi_kaupa.columns = [\"väärtuslikud\",\"madala_väärtusega\", \"potentsiaalsed\"]\n",
        "display(KEV_aegrida_segmendi_kaupa.head())\n",
        "\n",
        "print(KEV_aegrida_segmendi_kaupa.dtypes, \"\\n\")\n"
      ],
      "execution_count": null,
      "outputs": [
        {
          "output_type": "display_data",
          "data": {
            "text/html": [
              "<div>\n",
              "<style scoped>\n",
              "    .dataframe tbody tr th:only-of-type {\n",
              "        vertical-align: middle;\n",
              "    }\n",
              "\n",
              "    .dataframe tbody tr th {\n",
              "        vertical-align: top;\n",
              "    }\n",
              "\n",
              "    .dataframe thead th {\n",
              "        text-align: right;\n",
              "    }\n",
              "</style>\n",
              "<table border=\"1\" class=\"dataframe\">\n",
              "  <thead>\n",
              "    <tr style=\"text-align: right;\">\n",
              "      <th></th>\n",
              "      <th>väärtuslikud</th>\n",
              "      <th>madala_väärtusega</th>\n",
              "      <th>potentsiaalsed</th>\n",
              "    </tr>\n",
              "    <tr>\n",
              "      <th>kuu_aasta</th>\n",
              "      <th></th>\n",
              "      <th></th>\n",
              "      <th></th>\n",
              "    </tr>\n",
              "  </thead>\n",
              "  <tbody>\n",
              "    <tr>\n",
              "      <th>2013-01</th>\n",
              "      <td>734.599091</td>\n",
              "      <td>757.3800</td>\n",
              "      <td>NaN</td>\n",
              "    </tr>\n",
              "    <tr>\n",
              "      <th>2013-02</th>\n",
              "      <td>831.644667</td>\n",
              "      <td>260.7904</td>\n",
              "      <td>729.966800</td>\n",
              "    </tr>\n",
              "    <tr>\n",
              "      <th>2013-03</th>\n",
              "      <td>864.743000</td>\n",
              "      <td>29.4195</td>\n",
              "      <td>464.958333</td>\n",
              "    </tr>\n",
              "    <tr>\n",
              "      <th>2013-04</th>\n",
              "      <td>657.442000</td>\n",
              "      <td>180.1140</td>\n",
              "      <td>632.619000</td>\n",
              "    </tr>\n",
              "    <tr>\n",
              "      <th>2013-05</th>\n",
              "      <td>763.101067</td>\n",
              "      <td>52.0300</td>\n",
              "      <td>536.586250</td>\n",
              "    </tr>\n",
              "  </tbody>\n",
              "</table>\n",
              "</div>"
            ],
            "text/plain": [
              "           väärtuslikud  madala_väärtusega  potentsiaalsed\n",
              "kuu_aasta                                                 \n",
              "2013-01      734.599091           757.3800             NaN\n",
              "2013-02      831.644667           260.7904      729.966800\n",
              "2013-03      864.743000            29.4195      464.958333\n",
              "2013-04      657.442000           180.1140      632.619000\n",
              "2013-05      763.101067            52.0300      536.586250"
            ]
          },
          "metadata": {}
        },
        {
          "output_type": "stream",
          "name": "stdout",
          "text": [
            "väärtuslikud         float64\n",
            "madala_väärtusega    float64\n",
            "potentsiaalsed       float64\n",
            "dtype: object \n",
            "\n"
          ]
        }
      ]
    },
    {
      "cell_type": "markdown",
      "metadata": {
        "id": "ssCGnR3GWiGG"
      },
      "source": [
        "Ja nüüd saame ka iga segmendi klientide keskmise väärtuse muutust visualiseerida:"
      ]
    },
    {
      "cell_type": "code",
      "metadata": {
        "id": "pcGTN_2BWjbw",
        "colab": {
          "base_uri": "https://localhost:8080/",
          "height": 519
        },
        "outputId": "0f7aa2fc-1554-416e-a68f-2394d3fb4020"
      },
      "source": [
        "# kasutame Pandasesse sisse ehitatud joonistamist\n",
        "# dolumentatsioonist: Each Series in a DataFrame can be plotted on a different axis with the subplots keyword\n",
        "axes = KEV_aegrida_segmendi_kaupa.plot(marker='.', alpha=0.5, figsize=(11, 9), subplots=True)\n",
        "for ax in axes:\n",
        "    ax.set_ylabel('Segmendilt arvutatud KEV')\n",
        "    ax.set_ylim(0,1200)\n",
        "\n",
        "\n",
        "# otse matplotlibiga tehes tekib probleem andemetüübiga, sest funktsioon ei tea mida\n",
        "# kuupäevadega x-teljel peale hakata. Samuti tuleb käsitsi defineeriga jooniste arv ja paigutus,\n",
        "# värvid, telgede suurused jne. \n",
        "\n",
        "\n",
        "#f = plt.figure(figsize=(12,10))\n",
        "#ax1 = f.add_subplot(311) #lisa alamjoonis. 311 tähendab, et meil on 3 rida, 1 veergu ja käesoleva onjekti lisame kohale 1\n",
        "#ax2 = f.add_subplot(312) #lisa alamjoonis. 312 tähendab, et meil on 3 rida, 1 veergu ja käesoleva onjekti lisame kohale 2\n",
        "#ax3 = f.add_subplot(313) #lisa alamjoonis. 313 tähendab, et meil on 3 rida, 1 veergu ja käesoleva onjekti lisame kohale 2\n",
        "\n",
        "#print(KEV_aegrida_segmendi_kaupa.keys)\n",
        "#kuud_numbritena = KEV_aegrida_segmendi_kaupa.index.astype(int)\n",
        "#ax1.plot(kuud_numbritena ,KEV_aegrida_segmendi_kaupa[\"väärtuslikud\"])\n",
        "#ax2.plot(kuud_numbritena ,KEV_aegrida_segmendi_kaupa[\"madala_väärtusega\"],color=\"r\")\n",
        "#ax3.plot(kuud_numbritena ,KEV_aegrida_segmendi_kaupa[\"potentsiaalsed\"])\n",
        "\n",
        "#for ax in [ax1,ax2,ax3]:\n",
        "#    ax.set_ylabel('Segmendilt arvutatud KEV')\n",
        "#    ax.set_ylim(0,1200)\n",
        "#    ax.set_xlim(kuud_numbritena.min(),kuud_numbritena.max())\n",
        "#    #oleks vaja x-teljele kuupäevad tagasi panna\"\"\""
      ],
      "execution_count": null,
      "outputs": [
        {
          "output_type": "display_data",
          "data": {
            "image/png": "[encoded data removed]",
            "text/plain": [
              "<Figure size 792x648 with 3 Axes>"
            ]
          },
          "metadata": {
            "needs_background": "light"
          }
        }
      ]
    },
    {
      "cell_type": "markdown",
      "metadata": {
        "id": "epRtQC6mWuoy"
      },
      "source": [
        "Tundub, et on õige aeg selleks, et pakkuda klientidele soodustust. Või hoopis teha üles- või ristmüüki. Igas segmendis on näha negatiivset trendi, kliendid ostavad vähem."
      ]
    },
    {
      "cell_type": "markdown",
      "metadata": {
        "id": "WdpC_KWgXMce"
      },
      "source": [
        "# Regressiooni näide"
      ]
    },
    {
      "cell_type": "markdown",
      "metadata": {
        "id": "mBrqF5WHXRWh"
      },
      "source": [
        "Järgmisena proovime ennustada uute klientide eluaegset väärtust. Oletame, et kogusime ka klientide profiiliinfot nagu elukoht, vanus ja **kodulehel tehtud hiireklõpsude arv**. Loeme ka need andmed sisse:\n"
      ]
    },
    {
      "cell_type": "code",
      "metadata": {
        "id": "SgefNhjtXdHw",
        "colab": {
          "base_uri": "https://localhost:8080/",
          "height": 497
        },
        "outputId": "e04267a5-555e-4deb-e2ef-82c7e31a8949"
      },
      "source": [
        "!wget https://courses.cs.ut.ee/2021/atva_stataine/fall/uploads/Main/kliendid_v2.csv\n",
        "\n",
        "klientide_lisainfo = pd.read_csv(\"kliendid_v2.csv\").set_index(\"kliendi_id\")\n",
        "display(klientide_lisainfo.head())"
      ],
      "execution_count": null,
      "outputs": [
        {
          "output_type": "stream",
          "name": "stdout",
          "text": [
            "--2021-10-21 12:27:42--  https://courses.cs.ut.ee/2021/atva_stataine/fall/uploads/Main/kliendid_v2.csv\n",
            "Resolving courses.cs.ut.ee (courses.cs.ut.ee)... 193.40.36.57, 193.40.36.55\n",
            "Connecting to courses.cs.ut.ee (courses.cs.ut.ee)|193.40.36.57|:443... connected.\n",
            "HTTP request sent, awaiting response... 301 Moved Permanently\n",
            "Location: /LTAT.02.020/2021_fall/uploads/Main/kliendid_v2.csv [following]\n",
            "--2021-10-21 12:27:43--  https://courses.cs.ut.ee/LTAT.02.020/2021_fall/uploads/Main/kliendid_v2.csv\n",
            "Reusing existing connection to courses.cs.ut.ee:443.\n",
            "HTTP request sent, awaiting response... 200 OK\n",
            "Length: 16244 (16K) [text/csv]\n",
            "Saving to: ‘kliendid_v2.csv.1’\n",
            "\n",
            "kliendid_v2.csv.1   100%[===================>]  15.86K  --.-KB/s    in 0s      \n",
            "\n",
            "2021-10-21 12:27:44 (186 MB/s) - ‘kliendid_v2.csv.1’ saved [16244/16244]\n",
            "\n"
          ]
        },
        {
          "output_type": "display_data",
          "data": {
            "text/html": [
              "<div>\n",
              "<style scoped>\n",
              "    .dataframe tbody tr th:only-of-type {\n",
              "        vertical-align: middle;\n",
              "    }\n",
              "\n",
              "    .dataframe tbody tr th {\n",
              "        vertical-align: top;\n",
              "    }\n",
              "\n",
              "    .dataframe thead th {\n",
              "        text-align: right;\n",
              "    }\n",
              "</style>\n",
              "<table border=\"1\" class=\"dataframe\">\n",
              "  <thead>\n",
              "    <tr style=\"text-align: right;\">\n",
              "      <th></th>\n",
              "      <th>kliendi_vanus</th>\n",
              "      <th>kliendi_elukoht</th>\n",
              "      <th>veebi_hiireklikid</th>\n",
              "    </tr>\n",
              "    <tr>\n",
              "      <th>kliendi_id</th>\n",
              "      <th></th>\n",
              "      <th></th>\n",
              "      <th></th>\n",
              "    </tr>\n",
              "  </thead>\n",
              "  <tbody>\n",
              "    <tr>\n",
              "      <th>1</th>\n",
              "      <td>27</td>\n",
              "      <td>Tallinn</td>\n",
              "      <td>1</td>\n",
              "    </tr>\n",
              "    <tr>\n",
              "      <th>2</th>\n",
              "      <td>57</td>\n",
              "      <td>Tartu</td>\n",
              "      <td>8</td>\n",
              "    </tr>\n",
              "    <tr>\n",
              "      <th>3</th>\n",
              "      <td>44</td>\n",
              "      <td>Tallinn</td>\n",
              "      <td>7</td>\n",
              "    </tr>\n",
              "    <tr>\n",
              "      <th>4</th>\n",
              "      <td>79</td>\n",
              "      <td>Tartu</td>\n",
              "      <td>1</td>\n",
              "    </tr>\n",
              "    <tr>\n",
              "      <th>5</th>\n",
              "      <td>45</td>\n",
              "      <td>Tallinn</td>\n",
              "      <td>2</td>\n",
              "    </tr>\n",
              "  </tbody>\n",
              "</table>\n",
              "</div>"
            ],
            "text/plain": [
              "            kliendi_vanus kliendi_elukoht  veebi_hiireklikid\n",
              "kliendi_id                                                  \n",
              "1                      27         Tallinn                  1\n",
              "2                      57           Tartu                  8\n",
              "3                      44         Tallinn                  7\n",
              "4                      79           Tartu                  1\n",
              "5                      45         Tallinn                  2"
            ]
          },
          "metadata": {}
        }
      ]
    },
    {
      "cell_type": "markdown",
      "metadata": {
        "id": "sOR7ZZ22QKBU"
      },
      "source": [
        "Meil on nüüd info klientide kohta. Tahame hakata ennustama iga kliendi KEVi. Tegelesimegi ülal just KEVi arvutamisega, aga tegime seda iga kuu kohta eraldi. Võtame nüüd **KEVide keskmise** üle kuude iga inimese jaoks. "
      ]
    },
    {
      "cell_type": "code",
      "metadata": {
        "id": "ASFmitrj7LJl",
        "colab": {
          "base_uri": "https://localhost:8080/",
          "height": 455
        },
        "outputId": "085a96ca-5bf7-46c2-e00a-0a4f1eaebe6e"
      },
      "source": [
        "#grupeerime nii et iga kliendi kohta on tabel, seejärel võtame keskmise vastavast veerust\n",
        "keskmine_KEV = kliendi_KEV_komponendid.groupby('kliendi_id').agg({'KEV_kuine': 'mean'})\n",
        "display(keskmine_KEV)"
      ],
      "execution_count": null,
      "outputs": [
        {
          "output_type": "display_data",
          "data": {
            "text/html": [
              "<div>\n",
              "<style scoped>\n",
              "    .dataframe tbody tr th:only-of-type {\n",
              "        vertical-align: middle;\n",
              "    }\n",
              "\n",
              "    .dataframe tbody tr th {\n",
              "        vertical-align: top;\n",
              "    }\n",
              "\n",
              "    .dataframe thead th {\n",
              "        text-align: right;\n",
              "    }\n",
              "</style>\n",
              "<table border=\"1\" class=\"dataframe\">\n",
              "  <thead>\n",
              "    <tr style=\"text-align: right;\">\n",
              "      <th></th>\n",
              "      <th>KEV_kuine</th>\n",
              "    </tr>\n",
              "    <tr>\n",
              "      <th>kliendi_id</th>\n",
              "      <th></th>\n",
              "    </tr>\n",
              "  </thead>\n",
              "  <tbody>\n",
              "    <tr>\n",
              "      <th>1</th>\n",
              "      <td>0.000000</td>\n",
              "    </tr>\n",
              "    <tr>\n",
              "      <th>2</th>\n",
              "      <td>316.315429</td>\n",
              "    </tr>\n",
              "    <tr>\n",
              "      <th>3</th>\n",
              "      <td>675.389000</td>\n",
              "    </tr>\n",
              "    <tr>\n",
              "      <th>4</th>\n",
              "      <td>0.000000</td>\n",
              "    </tr>\n",
              "    <tr>\n",
              "      <th>5</th>\n",
              "      <td>64.320000</td>\n",
              "    </tr>\n",
              "    <tr>\n",
              "      <th>...</th>\n",
              "      <td>...</td>\n",
              "    </tr>\n",
              "    <tr>\n",
              "      <th>996</th>\n",
              "      <td>32.736000</td>\n",
              "    </tr>\n",
              "    <tr>\n",
              "      <th>997</th>\n",
              "      <td>168.390000</td>\n",
              "    </tr>\n",
              "    <tr>\n",
              "      <th>998</th>\n",
              "      <td>646.524000</td>\n",
              "    </tr>\n",
              "    <tr>\n",
              "      <th>999</th>\n",
              "      <td>253.518000</td>\n",
              "    </tr>\n",
              "    <tr>\n",
              "      <th>1000</th>\n",
              "      <td>825.597500</td>\n",
              "    </tr>\n",
              "  </tbody>\n",
              "</table>\n",
              "<p>1000 rows × 1 columns</p>\n",
              "</div>"
            ],
            "text/plain": [
              "             KEV_kuine\n",
              "kliendi_id            \n",
              "1             0.000000\n",
              "2           316.315429\n",
              "3           675.389000\n",
              "4             0.000000\n",
              "5            64.320000\n",
              "...                ...\n",
              "996          32.736000\n",
              "997         168.390000\n",
              "998         646.524000\n",
              "999         253.518000\n",
              "1000        825.597500\n",
              "\n",
              "[1000 rows x 1 columns]"
            ]
          },
          "metadata": {}
        }
      ]
    },
    {
      "cell_type": "markdown",
      "metadata": {
        "id": "fnOBmguaRMP4"
      },
      "source": [
        "Lisame selle veeru klientide kohta teada olevate andmete tabelisse."
      ]
    },
    {
      "cell_type": "code",
      "metadata": {
        "id": "t5kAExtB5eqp",
        "colab": {
          "base_uri": "https://localhost:8080/",
          "height": 237
        },
        "outputId": "7930675a-194b-4665-c35e-ea22aa6d4d88"
      },
      "source": [
        "klientide_lisainfo[\"KEV\"] = keskmine_KEV[\"KEV_kuine\"] #seda saaks ka merge funktsiooniga\n",
        "klientide_lisainfo.head()"
      ],
      "execution_count": null,
      "outputs": [
        {
          "output_type": "execute_result",
          "data": {
            "text/html": [
              "<div>\n",
              "<style scoped>\n",
              "    .dataframe tbody tr th:only-of-type {\n",
              "        vertical-align: middle;\n",
              "    }\n",
              "\n",
              "    .dataframe tbody tr th {\n",
              "        vertical-align: top;\n",
              "    }\n",
              "\n",
              "    .dataframe thead th {\n",
              "        text-align: right;\n",
              "    }\n",
              "</style>\n",
              "<table border=\"1\" class=\"dataframe\">\n",
              "  <thead>\n",
              "    <tr style=\"text-align: right;\">\n",
              "      <th></th>\n",
              "      <th>kliendi_vanus</th>\n",
              "      <th>kliendi_elukoht</th>\n",
              "      <th>veebi_hiireklikid</th>\n",
              "      <th>KEV</th>\n",
              "    </tr>\n",
              "    <tr>\n",
              "      <th>kliendi_id</th>\n",
              "      <th></th>\n",
              "      <th></th>\n",
              "      <th></th>\n",
              "      <th></th>\n",
              "    </tr>\n",
              "  </thead>\n",
              "  <tbody>\n",
              "    <tr>\n",
              "      <th>1</th>\n",
              "      <td>27</td>\n",
              "      <td>Tallinn</td>\n",
              "      <td>1</td>\n",
              "      <td>0.000000</td>\n",
              "    </tr>\n",
              "    <tr>\n",
              "      <th>2</th>\n",
              "      <td>57</td>\n",
              "      <td>Tartu</td>\n",
              "      <td>8</td>\n",
              "      <td>316.315429</td>\n",
              "    </tr>\n",
              "    <tr>\n",
              "      <th>3</th>\n",
              "      <td>44</td>\n",
              "      <td>Tallinn</td>\n",
              "      <td>7</td>\n",
              "      <td>675.389000</td>\n",
              "    </tr>\n",
              "    <tr>\n",
              "      <th>4</th>\n",
              "      <td>79</td>\n",
              "      <td>Tartu</td>\n",
              "      <td>1</td>\n",
              "      <td>0.000000</td>\n",
              "    </tr>\n",
              "    <tr>\n",
              "      <th>5</th>\n",
              "      <td>45</td>\n",
              "      <td>Tallinn</td>\n",
              "      <td>2</td>\n",
              "      <td>64.320000</td>\n",
              "    </tr>\n",
              "  </tbody>\n",
              "</table>\n",
              "</div>"
            ],
            "text/plain": [
              "            kliendi_vanus kliendi_elukoht  veebi_hiireklikid         KEV\n",
              "kliendi_id                                                              \n",
              "1                      27         Tallinn                  1    0.000000\n",
              "2                      57           Tartu                  8  316.315429\n",
              "3                      44         Tallinn                  7  675.389000\n",
              "4                      79           Tartu                  1    0.000000\n",
              "5                      45         Tallinn                  2   64.320000"
            ]
          },
          "metadata": {},
          "execution_count": 95
        }
      ]
    },
    {
      "cell_type": "markdown",
      "metadata": {
        "id": "Cn_8ba6UjzHi"
      },
      "source": [
        "Kasutame **paarisdiagrammi**, et kiiresti hinnata andmete kvaliteeti ja potentsiaali ning leida andmetega seotud võimalikke probleeme. \n",
        "\n",
        "Kuna muidu peaksime tegema for-tsükliga päris pika koodijupi, siis võtame siin kasutusele veel ühe teegi.\n",
        "\n",
        "**Vaatame ainult joonist, te ei pea seda koodi mõistma**"
      ]
    },
    {
      "cell_type": "code",
      "metadata": {
        "id": "ruRVOXRtj1AS",
        "colab": {
          "base_uri": "https://localhost:8080/",
          "height": 548
        },
        "outputId": "852fbe2b-66fa-4ac8-d87f-e739046006a1"
      },
      "source": [
        "import seaborn as sns\n",
        "\n",
        "# paarisdiagramm\n",
        "sns.set(style=\"ticks\")\n",
        "g = sns.pairplot(klientide_lisainfo)\n",
        "\n",
        "#ülemine osa on kordus, pole vaja visualiseerida\n",
        "for i, j in zip(*np.triu_indices_from(g.axes, 1)):\n",
        "    g.axes[i, j].set_visible(False)"
      ],
      "execution_count": null,
      "outputs": [
        {
          "output_type": "display_data",
          "data": {
            "image/png": "[encoded data removed]",
            "text/plain": [
              "<Figure size 540x540 with 12 Axes>"
            ]
          },
          "metadata": {}
        }
      ]
    },
    {
      "cell_type": "markdown",
      "metadata": {
        "id": "79gCRHRSj4nx"
      },
      "source": [
        "Diagonaalil on näidatud histogrammid (vastavate tunnuste väärtuste jaotused), diagonaalist allpool on tunnustevahelised hajuvusdiagrammid.\n",
        "\n",
        "Näiteks, viimane veerg näitab  \n",
        "\n",
        "1. Vasakul: KEVi ja kliendi vanuse tunduvad üksteisest sõltuvat, aga mitte tugevalt ja mitte lineaarselt. Pigem on näha, et keskealised kulutavad rohkem.\n",
        "2. Keskel: veebi hiireklõpsude ja KEVi vahel võib aimata lineaarset seost, kuna punktide pilv on pigem diagonaali ümber;\n",
        "3. Paremal: KEVide histogram. Näeme et magala keskmise kuise KEV väätusega inimesi on palju, kasumlikke kliente on vähem."
      ]
    },
    {
      "cell_type": "markdown",
      "metadata": {
        "id": "U8T_jhQKj7XV"
      },
      "source": [
        "Kategoorilisi muutujaid paarisdiagramm ei kuva. Klientide elukoha järgi jaotuse hindamiseks saame arvutada kui palju on meie andmestikus tartlasi ja tallinnlasi ning arvutada keskmised linna kaupa."
      ]
    },
    {
      "cell_type": "code",
      "metadata": {
        "id": "yb0APrztj8tB",
        "colab": {
          "base_uri": "https://localhost:8080/"
        },
        "outputId": "f76a05aa-c166-41c6-de12-5fbf89cead75"
      },
      "source": [
        "print(klientide_lisainfo.kliendi_elukoht.value_counts())\n",
        "print(\"\\n Tartu: \\n\",klientide_lisainfo[klientide_lisainfo[\"kliendi_elukoht\"]==\"Tartu\"][\"KEV\"].describe())\n",
        "\n",
        "print(\"\\n Tallinn: \\n\", klientide_lisainfo[klientide_lisainfo[\"kliendi_elukoht\"]==\"Tallinn\"][\"KEV\"].describe())"
      ],
      "execution_count": null,
      "outputs": [
        {
          "output_type": "stream",
          "name": "stdout",
          "text": [
            "Tallinn    600\n",
            "Tartu      400\n",
            "Name: kliendi_elukoht, dtype: int64\n",
            "\n",
            " Tartu: \n",
            " count     400.000000\n",
            "mean      278.873339\n",
            "std       303.059605\n",
            "min         0.000000\n",
            "25%        17.740500\n",
            "50%       187.513667\n",
            "75%       428.240000\n",
            "max      1759.057143\n",
            "Name: KEV, dtype: float64\n",
            "\n",
            " Tallinn: \n",
            " count     600.000000\n",
            "mean      264.783233\n",
            "std       300.744189\n",
            "min         0.000000\n",
            "25%         0.000000\n",
            "50%       168.355000\n",
            "75%       432.686369\n",
            "max      1512.604800\n",
            "Name: KEV, dtype: float64\n"
          ]
        }
      ]
    },
    {
      "cell_type": "markdown",
      "metadata": {
        "id": "JlitlLmBFhbC"
      },
      "source": [
        "Erilisi erinevusi linnade vahel on meie andmestikus raske näha.\n",
        "\n",
        "\n",
        "Andmete ettevalmistamiseks arvutuslike mudaite jaoks on vaja kategoorilised muutujat viia üks-mitmest kujule. Hetkel on meil linna variante ainult 2, saame lihtsalt panna Tartule vastama 0 ja Tallinnale 1."
      ]
    },
    {
      "cell_type": "code",
      "metadata": {
        "id": "lDymKSM9-Oc7",
        "colab": {
          "base_uri": "https://localhost:8080/",
          "height": 237
        },
        "outputId": "fa1d018a-3470-455f-c061-a353432122df"
      },
      "source": [
        "klientide_lisainfo = klientide_lisainfo.replace({\"Tartu\": 0, \"Tallinn\": 1})\n",
        "klientide_lisainfo.head()"
      ],
      "execution_count": null,
      "outputs": [
        {
          "output_type": "execute_result",
          "data": {
            "text/html": [
              "<div>\n",
              "<style scoped>\n",
              "    .dataframe tbody tr th:only-of-type {\n",
              "        vertical-align: middle;\n",
              "    }\n",
              "\n",
              "    .dataframe tbody tr th {\n",
              "        vertical-align: top;\n",
              "    }\n",
              "\n",
              "    .dataframe thead th {\n",
              "        text-align: right;\n",
              "    }\n",
              "</style>\n",
              "<table border=\"1\" class=\"dataframe\">\n",
              "  <thead>\n",
              "    <tr style=\"text-align: right;\">\n",
              "      <th></th>\n",
              "      <th>kliendi_vanus</th>\n",
              "      <th>kliendi_elukoht</th>\n",
              "      <th>veebi_hiireklikid</th>\n",
              "      <th>KEV</th>\n",
              "    </tr>\n",
              "    <tr>\n",
              "      <th>kliendi_id</th>\n",
              "      <th></th>\n",
              "      <th></th>\n",
              "      <th></th>\n",
              "      <th></th>\n",
              "    </tr>\n",
              "  </thead>\n",
              "  <tbody>\n",
              "    <tr>\n",
              "      <th>1</th>\n",
              "      <td>27</td>\n",
              "      <td>1</td>\n",
              "      <td>1</td>\n",
              "      <td>0.000000</td>\n",
              "    </tr>\n",
              "    <tr>\n",
              "      <th>2</th>\n",
              "      <td>57</td>\n",
              "      <td>0</td>\n",
              "      <td>8</td>\n",
              "      <td>316.315429</td>\n",
              "    </tr>\n",
              "    <tr>\n",
              "      <th>3</th>\n",
              "      <td>44</td>\n",
              "      <td>1</td>\n",
              "      <td>7</td>\n",
              "      <td>675.389000</td>\n",
              "    </tr>\n",
              "    <tr>\n",
              "      <th>4</th>\n",
              "      <td>79</td>\n",
              "      <td>0</td>\n",
              "      <td>1</td>\n",
              "      <td>0.000000</td>\n",
              "    </tr>\n",
              "    <tr>\n",
              "      <th>5</th>\n",
              "      <td>45</td>\n",
              "      <td>1</td>\n",
              "      <td>2</td>\n",
              "      <td>64.320000</td>\n",
              "    </tr>\n",
              "  </tbody>\n",
              "</table>\n",
              "</div>"
            ],
            "text/plain": [
              "            kliendi_vanus  kliendi_elukoht  veebi_hiireklikid         KEV\n",
              "kliendi_id                                                               \n",
              "1                      27                1                  1    0.000000\n",
              "2                      57                0                  8  316.315429\n",
              "3                      44                1                  7  675.389000\n",
              "4                      79                0                  1    0.000000\n",
              "5                      45                1                  2   64.320000"
            ]
          },
          "metadata": {},
          "execution_count": 98
        }
      ]
    },
    {
      "cell_type": "markdown",
      "metadata": {
        "id": "NmdvO5o0gx4U"
      },
      "source": [
        "\n",
        "Nüüd on kõik andmed arvulisel kujul ja valmis õppimisalgoritmi sisse panekuks.\n",
        "\n",
        "Laadime nüüd vajalikud teegid, et saaksime **regressioonimudelit** treenida, et ennustada uute klientide KEVi:"
      ]
    },
    {
      "cell_type": "code",
      "metadata": {
        "id": "VC1PhMC5g0Wj"
      },
      "source": [
        "from sklearn import linear_model\n",
        "from sklearn.metrics import mean_squared_error, r2_score\n",
        "from sklearn.model_selection import train_test_split"
      ],
      "execution_count": null,
      "outputs": []
    },
    {
      "cell_type": "markdown",
      "metadata": {
        "id": "NNYdCGayg3da"
      },
      "source": [
        "Järgmisena, eraldame klientide tunnused (X) ja huvialuse sõltumatu tunnuse (märgendi), ehk KEV (y). \n",
        "\n",
        "`test_size` parameeter näitab, kui suure osa andmestikust me eraldame testandmestikuks. Antud juhul 20% andmeridadest paneme kõrvale ja treenime mudeli kasutades ülejäänud 80% andmetest. Eraldi andmestiku kasutamine mudeli täpsuse hindamisel on oluline, sellest saab lähemalt lugeda siit: https://courses.cs.ut.ee/2020/Tehisintellekti_algkursus/spring/Main/PARTIIOverfitting."
      ]
    },
    {
      "cell_type": "code",
      "metadata": {
        "id": "WeK2QD7lg8SU"
      },
      "source": [
        "X = klientide_lisainfo.drop('KEV', axis=1)\n",
        "y = klientide_lisainfo['KEV']\n",
        "\n",
        "X_train, X_test, y_train, y_test = train_test_split(X, y, test_size=0.2, random_state=42)"
      ],
      "execution_count": null,
      "outputs": []
    },
    {
      "cell_type": "markdown",
      "metadata": {
        "id": "m5yGMi20hEs3"
      },
      "source": [
        "Selleks, et veenduda, et see funktsioon käitus ootusepäraselt, prindime andmestiku kuju välja:"
      ]
    },
    {
      "cell_type": "code",
      "metadata": {
        "id": "4_sO_k3KhHci",
        "colab": {
          "base_uri": "https://localhost:8080/"
        },
        "outputId": "1dcb604d-4219-4f95-b3fe-874739d135bc"
      },
      "source": [
        "print(X_train.shape)\n",
        "print(X_test.shape)"
      ],
      "execution_count": null,
      "outputs": [
        {
          "output_type": "stream",
          "name": "stdout",
          "text": [
            "(800, 3)\n",
            "(200, 3)\n"
          ]
        }
      ]
    },
    {
      "cell_type": "markdown",
      "metadata": {
        "id": "qgCgbPcihKIs"
      },
      "source": [
        "Nüüd on kõik valmis, et treenida regressioonimudel. Selleks tekitame LinearRegression tüüpi objekti, mis tähendab lineaarset mudelit. \n",
        "\n",
        "Kasutame parameetreid nagu `fit_intercept = True` ja `normalize = True`, ehk tahame, et nihe oleks mudelis esindatud, ning enne mudeli jooksmist on vaja andmeid normaliseerida. Parameetrite kohta saab lähemalt lugeda siit: https://scikit-learn.org/stable/modules/generated/sklearn.linear_model.LinearRegression.html"
      ]
    },
    {
      "cell_type": "markdown",
      "metadata": {
        "id": "5rMCrC2_hRhl"
      },
      "source": [
        "Seejärel, sobitame mudeli kasutades tekitatud objekti `mudel` juurde kuuluvat `fit` funktsiooni, mille sisendiks on treeningandmestik. Viimase sammuna kasutame treenitud mudelit testandmestiku peal ennustamiseks (funktsioon `predict`)"
      ]
    },
    {
      "cell_type": "code",
      "metadata": {
        "id": "EXYvusWXhUXY"
      },
      "source": [
        "mudel = linear_model.LinearRegression(fit_intercept=True, normalize=True)\n",
        "mudel.fit(X_train, y_train)#selle rea käivitamise järel on meil mudel!!!\n",
        "y_pred = mudel.predict(X_test)\n",
        "\n",
        "#võid vaadate ennustusi individuaalselt\n",
        "#print(np.round(y_test[:10].values,3))\n",
        "#print(np.round(y_pred[:10],3)) # ennustused kümnele esimesele kliendile testandmestikust"
      ],
      "execution_count": null,
      "outputs": []
    },
    {
      "cell_type": "markdown",
      "metadata": {
        "id": "GHpgyyoQhi1O"
      },
      "source": [
        "Meil on nüüd mudel, mis ennustab klientide tunnuste põhjal nende KEVi. Nende ennustatud väärtuste põhjal, kui me neid piisavalt usaldame, saab teha ärilisi otsuseid. \n",
        "\n",
        "Kas kulutada sama palju ressurrsi kliendile, kelle väärtuseks hindab mudel 102eurot kui sellele, kelle omaks 0.088? Isegi kui me seda mudelit täielikult ei usalda, on see vahe nii suur, et selle põhjal mingit klientide filtreerimist teostada.\n",
        "\n",
        "Et aga otsustada, kas me mudelit ülde usaldada saame vaatame milline ta matemaatliselt välja näeb ja arvutame ka tema täpsuse kohta mõned mõõdikud.\n",
        "\n"
      ]
    },
    {
      "cell_type": "markdown",
      "metadata": {
        "id": "FYV_gGXshfSE"
      },
      "source": [
        "\n",
        "Arvestades meie sisendeid on mudeli üldine kuju selline: $$\\hat{\\text{KEV}} \\sim w_0 + w_1 \\times \\text{vanus} + w_2 \\times \\text{elukoht} + w_3 \\times \\text{veebi hiireklõpsud}$$"
      ]
    },
    {
      "cell_type": "markdown",
      "metadata": {
        "id": "MSdxYe9dhjX6"
      },
      "source": [
        "Alguses vaatame, millises järjekorras on mudelisse sisestatud tunnused:"
      ]
    },
    {
      "cell_type": "code",
      "metadata": {
        "id": "-nSXaXpFhoef",
        "colab": {
          "base_uri": "https://localhost:8080/"
        },
        "outputId": "90a2ed1a-65c5-48e1-b9eb-fae2a4fe218c"
      },
      "source": [
        "X_train.columns"
      ],
      "execution_count": null,
      "outputs": [
        {
          "output_type": "execute_result",
          "data": {
            "text/plain": [
              "Index(['kliendi_vanus', 'kliendi_elukoht', 'veebi_hiireklikid'], dtype='object')"
            ]
          },
          "metadata": {},
          "execution_count": 103
        }
      ]
    },
    {
      "cell_type": "markdown",
      "metadata": {
        "id": "veuPXNR8hral"
      },
      "source": [
        "Mudeli kordajaid $w_i$ saame teada kasutades objekti nime ja `coef_` funktsiooni:"
      ]
    },
    {
      "cell_type": "code",
      "metadata": {
        "id": "xYzzbNOOht9k",
        "colab": {
          "base_uri": "https://localhost:8080/"
        },
        "outputId": "ac864d43-88d6-4176-b4b9-fe11eedf361c"
      },
      "source": [
        "mudel.coef_"
      ],
      "execution_count": null,
      "outputs": [
        {
          "output_type": "execute_result",
          "data": {
            "text/plain": [
              "array([-1.34468647,  2.38100548, 57.71644387])"
            ]
          },
          "metadata": {},
          "execution_count": 104
        }
      ]
    },
    {
      "cell_type": "markdown",
      "metadata": {
        "id": "hkt6rtaehuqo"
      },
      "source": [
        "Nihke ehk $w_0$ saame teada kasutades funktsiooni `intercept_`:"
      ]
    },
    {
      "cell_type": "code",
      "metadata": {
        "id": "5BV0k__6hyA5",
        "colab": {
          "base_uri": "https://localhost:8080/"
        },
        "outputId": "cca769be-12d9-43a7-d9bd-4550822a88c7"
      },
      "source": [
        "mudel.intercept_"
      ],
      "execution_count": null,
      "outputs": [
        {
          "output_type": "execute_result",
          "data": {
            "text/plain": [
              "92.53326152239663"
            ]
          },
          "metadata": {},
          "execution_count": 105
        }
      ]
    },
    {
      "cell_type": "markdown",
      "metadata": {
        "id": "Mwe6_vdTh0eL"
      },
      "source": [
        "Vormistame nüüd tulemused ilusamaks väljundiks.\n",
        "\n",
        "$$\\hat{\\text{KEV}} = 92.53 + 2.38 \\times \\text{linn}  -1.34 \\times \\text{vanus} + 57.7 \\times \\text{klikid}$$\n",
        "<br>\n",
        "<br>\n",
        "Kasutame kahte täpsuse mõõdikut: keskmine **ruutviga ja determinatsioonikordaja.** \n",
        "\n",
        "Mõlemad on jällegi kättesaadaval `sklearn` paketist ja nõuavad sisendiks **testandmestiku** märgendeid ja mudeli poolt tehtud ennustusi. Ennustusi ja õigeid vastuseid võrdlemegi omavahel, et hinnata, kui täpselt loodud mudel uute andmete peal ennustab."
      ]
    },
    {
      "cell_type": "code",
      "metadata": {
        "id": "fhcuB3ogh5Xk",
        "colab": {
          "base_uri": "https://localhost:8080/"
        },
        "outputId": "986c1ee5-1c5c-4f39-927c-9c71ba1bc02d"
      },
      "source": [
        "print('Kordajad: \\n {}'.format(np.round(mudel.coef_, 2))) \n",
        "print('Keskmine ruutviga: {}'.format(mean_squared_error(y_test, y_pred)))\n",
        "print('Determinatsioonikordaja r2: {}'.format(r2_score(y_test, y_pred)))"
      ],
      "execution_count": null,
      "outputs": [
        {
          "output_type": "stream",
          "name": "stdout",
          "text": [
            "Kordajad: \n",
            " [-1.34  2.38 57.72]\n",
            "Keskmine ruutviga: 47202.662159443644\n",
            "Determinatsioonikordaja r2: 0.4480658908723695\n"
          ]
        }
      ]
    },
    {
      "cell_type": "markdown",
      "metadata": {
        "id": "bu2UF7sBjejz"
      },
      "source": [
        "Saame mudelit hinnata ka tulemusi visualiseerides kasutades selleks hajuvusdiagrammi, kus x-teljel on testandmestiku tegelik KEV ja y-teljel on mudeli ennustatud KEV. Kui mudeli ennustused oleks ideaalselt täpsed, asuks kõik punktid diagnoaalin (märgitud punase joonega)"
      ]
    },
    {
      "cell_type": "code",
      "metadata": {
        "id": "aZvXbWzWjnST"
      },
      "source": [
        "np.set_printoptions(suppress=True) # et ei kuvaks numbreid kujul 1.4e+10\n",
        "\n",
        "results = \"Mudeli kordajad: \\n \"+str(np.round(mudel.coef_, 2))+\"\\n Vabaliige: \"+ str(np.round(mudel.intercept_, 2))+\"\\n Keskmine ruutviga: \"+str(np.round(mean_squared_error(y_test, y_pred),2))+\" \\n Determinatsioonikordaja\" +str(np.round(r2_score(y_test, y_pred),3))"
      ],
      "execution_count": null,
      "outputs": []
    },
    {
      "cell_type": "code",
      "metadata": {
        "id": "yWBCXSJdjoFy",
        "colab": {
          "base_uri": "https://localhost:8080/",
          "height": 523
        },
        "outputId": "d3ad534f-a890-4200-84b9-f6aab1960398"
      },
      "source": [
        "\n",
        "fig= plt.figure(figsize=[8,8])\n",
        "plt.scatter(y_test,y_pred,s=20,c=\"green\",alpha=0.5)\n",
        "plt.xlim([0,1800])\n",
        "plt.ylim([0,1800])\n",
        "plt.plot([0,1000],[0,1000])\n",
        "plt.text(900, 1100, results, horizontalalignment='left', size='medium', color='grey')\n",
        "plt.xlabel(\"Tegelik KEV\")\n",
        "plt.ylabel(\"Ennustatud KEV\") "
      ],
      "execution_count": null,
      "outputs": [
        {
          "output_type": "execute_result",
          "data": {
            "text/plain": [
              "Text(0, 0.5, 'Ennustatud KEV')"
            ]
          },
          "metadata": {},
          "execution_count": 108
        },
        {
          "output_type": "display_data",
          "data": {
            "image/png": "[encoded data removed]",
            "text/plain": [
              "<Figure size 576x576 with 1 Axes>"
            ]
          },
          "metadata": {}
        }
      ]
    },
    {
      "cell_type": "markdown",
      "metadata": {
        "id": "b2ZsGdDxjrx1"
      },
      "source": [
        "Joonisel on näha et mudel ennustab suhteliselt hästi väikeste KEV väärtuste puhul, kuid alahindab KEVi kõrgemaid väärtusi (vt. punktid paremal servas).\n",
        "\n",
        "Selle analüüsi eesmärk oli ennustada klientide tulevast või oodatavat KEVi. Näiteks, uute klientide puhul saame nende tunnuste põhjal ennustada neilt teenitavat potentsiaalset kasumit ja pakkuda soodustusi juba varakult.  "
      ]
    },
    {
      "cell_type": "markdown",
      "metadata": {
        "id": "Nrez7M5MEXEV"
      },
      "source": [
        "## KODUS PUSIMISEKS\n",
        "\n",
        "Kuna me teame, kuidas me oma andmed tegelikult tekitasime, siis teame, et ostusumma sõltus vanusest nii, et keskmiselt suurimad summad olid vanusel 45. Mida kaugelam vanus 45-st on, seda väiksemad on keskmised summad. Võime luua muutuja, mis mõõdab vanuse erinevust 45st ning proovida treenida lineaarse mudeli, mis vanuse asemel seda teadmist arvesse võtab."
      ]
    },
    {
      "cell_type": "code",
      "metadata": {
        "id": "wfrhBxkiCA5V",
        "colab": {
          "base_uri": "https://localhost:8080/",
          "height": 237
        },
        "outputId": "19312743-70b4-4633-89a3-df60618edcbe"
      },
      "source": [
        "klientide_lisainfo.head()\n",
        "klientide_lisainfo[\"vanuse_erinevus\"] = np.abs(klientide_lisainfo[\"kliendi_vanus\"]-45)\n",
        "klientide_lisainfo_muudetud = klientide_lisainfo.drop(\"kliendi_vanus\",axis=1)\n",
        "klientide_lisainfo_muudetud.head()"
      ],
      "execution_count": null,
      "outputs": [
        {
          "output_type": "execute_result",
          "data": {
            "text/html": [
              "<div>\n",
              "<style scoped>\n",
              "    .dataframe tbody tr th:only-of-type {\n",
              "        vertical-align: middle;\n",
              "    }\n",
              "\n",
              "    .dataframe tbody tr th {\n",
              "        vertical-align: top;\n",
              "    }\n",
              "\n",
              "    .dataframe thead th {\n",
              "        text-align: right;\n",
              "    }\n",
              "</style>\n",
              "<table border=\"1\" class=\"dataframe\">\n",
              "  <thead>\n",
              "    <tr style=\"text-align: right;\">\n",
              "      <th></th>\n",
              "      <th>kliendi_elukoht</th>\n",
              "      <th>veebi_hiireklikid</th>\n",
              "      <th>KEV</th>\n",
              "      <th>vanuse_erinevus</th>\n",
              "    </tr>\n",
              "    <tr>\n",
              "      <th>kliendi_id</th>\n",
              "      <th></th>\n",
              "      <th></th>\n",
              "      <th></th>\n",
              "      <th></th>\n",
              "    </tr>\n",
              "  </thead>\n",
              "  <tbody>\n",
              "    <tr>\n",
              "      <th>1</th>\n",
              "      <td>1</td>\n",
              "      <td>1</td>\n",
              "      <td>0.000000</td>\n",
              "      <td>18</td>\n",
              "    </tr>\n",
              "    <tr>\n",
              "      <th>2</th>\n",
              "      <td>0</td>\n",
              "      <td>8</td>\n",
              "      <td>316.315429</td>\n",
              "      <td>12</td>\n",
              "    </tr>\n",
              "    <tr>\n",
              "      <th>3</th>\n",
              "      <td>1</td>\n",
              "      <td>7</td>\n",
              "      <td>675.389000</td>\n",
              "      <td>1</td>\n",
              "    </tr>\n",
              "    <tr>\n",
              "      <th>4</th>\n",
              "      <td>0</td>\n",
              "      <td>1</td>\n",
              "      <td>0.000000</td>\n",
              "      <td>34</td>\n",
              "    </tr>\n",
              "    <tr>\n",
              "      <th>5</th>\n",
              "      <td>1</td>\n",
              "      <td>2</td>\n",
              "      <td>64.320000</td>\n",
              "      <td>0</td>\n",
              "    </tr>\n",
              "  </tbody>\n",
              "</table>\n",
              "</div>"
            ],
            "text/plain": [
              "            kliendi_elukoht  veebi_hiireklikid         KEV  vanuse_erinevus\n",
              "kliendi_id                                                                 \n",
              "1                         1                  1    0.000000               18\n",
              "2                         0                  8  316.315429               12\n",
              "3                         1                  7  675.389000                1\n",
              "4                         0                  1    0.000000               34\n",
              "5                         1                  2   64.320000                0"
            ]
          },
          "metadata": {},
          "execution_count": 109
        }
      ]
    },
    {
      "cell_type": "markdown",
      "metadata": {
        "id": "5I3CxQfFE4hQ"
      },
      "source": [
        "Võite järgida kõiki eelmisi samme:\n",
        "- andmet ejagamine treening ja test andmestikuks\n",
        "- mudeli loomine\n",
        "- optimeerimine\n",
        "- ennustuste arvutamine\n",
        "- täpsuse mõõtmine ja visualiseerimine"
      ]
    },
    {
      "cell_type": "code",
      "metadata": {
        "id": "DAlZ5IODwS81"
      },
      "source": [
        "#Kirjuta siia kood, mis teeks läb need sammud\n",
        "#Peaksid saama sarnase joonise nagu see siin. Lahendus on antud allpool."
      ],
      "execution_count": null,
      "outputs": []
    },
    {
      "cell_type": "markdown",
      "metadata": {
        "id": "UxsmFT0hwswF"
      },
      "source": [
        "## Kodus pusimise lahendus"
      ]
    },
    {
      "cell_type": "code",
      "metadata": {
        "id": "BCxmYE3swuRZ",
        "colab": {
          "base_uri": "https://localhost:8080/",
          "height": 591
        },
        "outputId": "8532b470-1a89-4330-bc86-b1997399f36d"
      },
      "source": [
        "X = klientide_lisainfo_muudetud.drop('KEV', axis=1)\n",
        "y = klientide_lisainfo_muudetud['KEV']\n",
        "\n",
        "X_train, X_test, y_train, y_test = train_test_split(X, y, test_size=0.2, random_state=42)\n",
        "\n",
        "mudel = linear_model.LinearRegression(fit_intercept=True, normalize=True)\n",
        "mudel.fit(X_train, y_train)\n",
        "y_pred = mudel.predict(X_test)\n",
        "\n",
        "\n",
        "print('Kordajad: \\n {}'.format(np.round(mudel.coef_, 2))) \n",
        "print('Keskmine ruutviga: {}'.format(mean_squared_error(y_test, y_pred)))\n",
        "print('Determinatsioonikordaja r2: {}'.format(r2_score(y_test, y_pred)))\n",
        "\n",
        "np.set_printoptions(suppress=True)\n",
        "results = \"Mudeli kordajad: \\n \"+str(np.round(mudel.coef_, 2))+\"\\n Vabaliige: \"+ str(np.round(mudel.intercept_, 2))+\"\\n Keskmine ruutviga: \"+str(np.round(mean_squared_error(y_test, y_pred),2))+\" \\n Determinatsioonikordaja\" +str(np.round(r2_score(y_test, y_pred),3)) \n",
        "\n",
        "\n",
        "fig= plt.figure(figsize=[8,8])\n",
        "plt.scatter(y_test,y_pred,s=20,c=\"green\",alpha=0.5)\n",
        "plt.xlim([0,1800])\n",
        "plt.ylim([0,1800])\n",
        "plt.plot([0,1000],[0,1000])\n",
        "plt.text(900, 1100, results, horizontalalignment='left', size='medium', color='grey')\n",
        "plt.xlabel(\"Tegelik KEV\")\n",
        "plt.ylabel(\"Ennustatud KEV\") "
      ],
      "execution_count": null,
      "outputs": [
        {
          "output_type": "stream",
          "name": "stdout",
          "text": [
            "Kordajad: \n",
            " [ 9.21 57.61 -6.82]\n",
            "Keskmine ruutviga: 41862.66709868481\n",
            "Determinatsioonikordaja r2: 0.5105057042593824\n"
          ]
        },
        {
          "output_type": "execute_result",
          "data": {
            "text/plain": [
              "Text(0, 0.5, 'Ennustatud KEV')"
            ]
          },
          "metadata": {},
          "execution_count": 215
        },
        {
          "output_type": "display_data",
          "data": {
            "image/png": "[encoded data removed]",
            "text/plain": [
              "<Figure size 576x576 with 1 Axes>"
            ]
          },
          "metadata": {}
        }
      ]
    }
  ]
}