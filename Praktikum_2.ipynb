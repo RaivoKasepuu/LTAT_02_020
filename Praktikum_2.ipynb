{
  "nbformat": 4,
  "nbformat_minor": 0,
  "metadata": {
    "colab": {
      "name": "praktikum_2.ipynb",
      "provenance": [],
      "collapsed_sections": [
        "flKuoO0_mf6F",
        "UVtLGMmBCpsY",
        "liuBHK96-oLG",
        "-NgZlCT8NaS0",
        "iPISxyRsVgIT"
      ],
      "include_colab_link": true
    },
    "kernelspec": {
      "name": "python3",
      "display_name": "Python 3"
    },
    "language_info": {
      "name": "python"
    }
  },
  "cells": [
    {
      "cell_type": "markdown",
      "metadata": {
        "id": "view-in-github",
        "colab_type": "text"
      },
      "source": [
        "<a href=\"https://colab.research.google.com/github/RaivoKasepuu/LTAT_02_020/blob/main/Praktikum_2.ipynb\" target=\"_parent\"><img src=\"https://colab.research.google.com/assets/colab-badge.svg\" alt=\"Open In Colab\"/></a>"
      ]
    },
    {
      "cell_type": "markdown",
      "metadata": {
        "id": "flKuoO0_mf6F"
      },
      "source": [
        "# **Praktikum 2**"
      ]
    },
    {
      "cell_type": "markdown",
      "metadata": {
        "id": "Pu5B8laJprbM"
      },
      "source": [
        "#1. Pandas teek"
      ]
    },
    {
      "cell_type": "markdown",
      "metadata": {
        "id": "nzFrnKMvp_4s"
      },
      "source": [
        "Pythoni **teegid** on nagu koodiraamatukogud. Need sisaldavad kasulikke tööriistu, näiteks funktsioone, mis joonistavad ekraanile graafikuid, arvutavad statistilisi erinevusi või lihtsalt loevad tekstifailidest andmeid sisse. Et mõnda teeki kasutada, tuleb sellele oma koodis viidata, kasutades märksõna **import**. Seejärel muutuvad kõik selles teegis olevad tööriistad (nt funktsioonid) meie koodis kasutatavaks. \n",
        "\n",
        "Võrdleme teeke näiteks tavaliste tööriistakohvritega. Kui meil on vaja mingi seadeldise küljest mutreid lahti keerata, siis võtame kapist kohvri, kus on sees mutrivõtmed ja kullinokad. Kui aga tahame hoopis laua üle värvida, siis võtame välja karbi värvide ja pintslitega. Nii on ka Pythonis erinevate ülesannete jaoks võimalik kasutada erinevaid teeke.\n",
        "\n",
        "Üks tuntumaid ja mugavamaid andmetega töötamiseks vajalikke vahendeid sisaldav teek on **Pandas**. Pandase teek võimaldab andmeid failidest sisse lugeda ja erinevates formaatides hoiustada ning seondub mugavalt teiste kasulike teekidega nagu Numpy (arvutuslik Python).\n",
        "\n",
        "Vaatame nüüd kuidas Pandases sidalduvad kasulikud funktsioonid ja andmetüübid meie Colabi vihikus kättesaadavaks teha. Selleks kasutame import käsku. Märksõna as lubab teegile anda \"hüüdnime\", mille abil teegis sisalduvaid tööriistu lühema nimega välja kutsuda - vähem trükkimist."
      ]
    },
    {
      "cell_type": "code",
      "metadata": {
        "id": "v-oXM9Z5mBx0"
      },
      "source": [
        "import pandas as pd"
      ],
      "execution_count": null,
      "outputs": []
    },
    {
      "cell_type": "markdown",
      "metadata": {
        "id": "9-wCagT3qWxO"
      },
      "source": [
        "*Rohkem* infot selle teegi kohta saame näha *help()* funktsiooni abil."
      ]
    },
    {
      "cell_type": "code",
      "metadata": {
        "id": "4ArnD7MKqRjO"
      },
      "source": [
        "help(pd) "
      ],
      "execution_count": null,
      "outputs": []
    },
    {
      "cell_type": "markdown",
      "metadata": {
        "id": "eV-lY--2qpGk"
      },
      "source": [
        "Kõik teegis saadaolevad funktsioonid loetletakse üles *dir()* funktsiooni jooksutamisel."
      ]
    },
    {
      "cell_type": "code",
      "metadata": {
        "id": "QW4sLb4TqcHw"
      },
      "source": [
        "dir(pd)"
      ],
      "execution_count": null,
      "outputs": []
    },
    {
      "cell_type": "markdown",
      "metadata": {
        "id": "mOOYFQXerKiR"
      },
      "source": [
        "##1.1 Andmete sisselugemine"
      ]
    },
    {
      "cell_type": "markdown",
      "metadata": {
        "id": "iICdRxzqrSTQ"
      },
      "source": [
        "Kasutame näitena andmetabelit, kuhu on kogutud info erinevate tehingute ja neid sooritanud klientide kohta. Näeme andmetes järgmisi andmeid:\n",
        "- tehingu ID,\n",
        "- tehingu kuupäev, \n",
        "- kliendi ID,\n",
        "- tehingule kulutatud summa,\n",
        "- maksevahend.\n",
        "\n",
        "Andmetabel on salvestatud CSV ehk *comma separated value* faili. Selle esimesed read näevad välja sellised: \n",
        "\n",
        "![picture](https://courses.cs.ut.ee/2021/atva_stataine/fall/uploads/Main/tabeli_kuju.png)\n",
        "\n",
        "Tihti avatakse csv failid automaatselt mõne tabeltöötlusprogrammi abil (nt Excel) ja sellisel ebamugaval kujul me andmeid tihti ei vaata. Hea on seda formaati siiski ära tunda.\n",
        "\n",
        "Selleks et andmeid sisse lugeda ja Pandas teegi abil vaatlema ja töötlema hakata, peame andmefaili esmalt Colabi virtuaalkeskkonda importima. </br>\n",
        "Teeme seda *!wget* käsu abil. *NB! Hüüumärgiga algavad käsklused ei ole Pythoni kood!* </br>\n",
        "Seejärel loeme keskkonda imporditud faili Pandas teegi abil sisse, kasutades funktsiooni **pd.read_csv()**.\n",
        "\n"
      ]
    },
    {
      "cell_type": "markdown",
      "metadata": {
        "id": "J2-N_SiBNoCT"
      },
      "source": [
        "**NB!** Kas oled märganud, et oleme siiani kohanud kahel erineval kujul esinevaid funktsioone? Võrdle näiteks järgmiseid funktsioone ja püüa aru saada, mis nende kasutamises erinevat on:\n",
        "\n",
        "```\n",
        "#ühte tüüpi funktsioonid\n",
        "print(\"tere\")\n",
        "type(True)\n",
        "minu_funktsioon(argument_1, argument_2)\n",
        "\n",
        "#teist tüüpi funktsioonid\n",
        "jarjend.append(3)\n",
        "pd.read_csv(\"failinimi.csv\")\n",
        "sonastik.pop(\"võti\")\n",
        "```\n",
        "\n",
        "Näeme, et teises funktsioonide grupis olevaid funktsioone rakendame punkti abil alati mingile kindlale objektile. Seda seetõttu, et need funktsioonid on defineeritud üksnes konkreetse andmetüübi jaoks või konkreetse teegi piires. Funktsiooniga *.append()* saab elemente lisada üksnes järjenditesse, *read_csv()* omab tähendust üksnes Pandas'e teegis ja nii edasi. Selliseid funktsioone nimetatakse täpsemalt **meetoditeks**, mis rakenduvad ainult teatud andmetüübile.\n"
      ]
    },
    {
      "cell_type": "code",
      "metadata": {
        "id": "gDbJxsW5vHvc"
      },
      "source": [
        "#see pole Pythoni kood, see käsk laeb Colabi virtuaalkeskkonda meile vajaliku faili, \n",
        "#mille nimeks on \"klientide_tehingud.csv\"\n",
        "!wget https://courses.cs.ut.ee/2021/atva_stataine/fall/uploads/Main/tehingud.csv\n",
        "\n",
        "#järgnev rida loeb sisse meie CSV formaadis faili, kasutades veergude eristamiseks \n",
        "#sisse-ehitatud vaikeväärtust (koma)\n",
        "andmed_df = pd.read_csv(\"tehingud.csv\")"
      ],
      "execution_count": null,
      "outputs": []
    },
    {
      "cell_type": "markdown",
      "metadata": {
        "id": "LFkf7QNnvrEB"
      },
      "source": [
        "Vaatame järele, millist andmetüüpi on äsjaloodud muutuja *andmed_df*."
      ]
    },
    {
      "cell_type": "code",
      "metadata": {
        "id": "whAf2SXEv0BD"
      },
      "source": [
        "print(type(andmed_df))"
      ],
      "execution_count": null,
      "outputs": []
    },
    {
      "cell_type": "markdown",
      "metadata": {
        "id": "PK5Nv1lHwCsw"
      },
      "source": [
        "Näeme, et tegemist on Pandas'e teegile omase **DataFrame** andmetüübiga (siit ka meie muutujanime lõpp _df). Eesti keeles nimetatakse seda andmetüüpi andmefreimiks. See kujutab endast kahemõõtmelist tabelit, mille tulpades võib hoiustada erinevat tüüpi andmeid. Meie näites kujutab iga rida ühte tehingut ja iga tulp ühte selle tehingu omadust (ostusumma, tehingu ID jne). Andmefreimist andmete kätte saamiseks ja nende töötlemiseks on mitu erinevat varianti, millega tutvume tänase praktikumi jooksul."
      ]
    },
    {
      "cell_type": "markdown",
      "metadata": {
        "id": "jkkGS7se5jP9"
      },
      "source": [
        "##1.2 Andmetega tutvumine"
      ]
    },
    {
      "cell_type": "markdown",
      "metadata": {
        "id": "Qxm5LxQx5pLR"
      },
      "source": [
        "Soovi korral saame andmefreime ekraanile kuvada juba tuttava *print()* \n",
        "funktsiooni abil.\n",
        "\n"
      ]
    },
    {
      "cell_type": "code",
      "metadata": {
        "id": "4KvB_x2qwhlB"
      },
      "source": [
        "print(andmed_df) #näeme ebavajalikku veergu"
      ],
      "execution_count": null,
      "outputs": []
    },
    {
      "cell_type": "markdown",
      "metadata": {
        "id": "Aj49zBar3LhJ"
      },
      "source": [
        "Näeme, et meie fail sisaldab esimese tulbana lihtsalt ridu loendavaid numbreid, mis ei ole väga kasulikud andmed analüüsi jaoks, aga aitasid võibolla andmete sisestajal järge pidada. Meie andmefreimis on see tulp aga üleliigne, kuna Pandas lisab sisseloetud andmetele indeksite tulba nii kui nii automaatselt. Näeme, et antud juhul ongi meil lihtsalt kaks identset tulpa, mis lihtsalt loendavad ridu. Saame oma andmefailist antud veeru sisse lugedes arvestamata jätta (või hiljem eemaldada). \n",
        "\n",
        "Vaatame kahte võimalust meile ebavajaliku tulba andmefreimist väljajätmiseks. Esimene variant on öelda Pythonile, milliseid tulpasid me csv failist sisse lugeda tahame. Saame seda väljendada *read_csv()* argumendi **usecols** abil. Võime argumendile väärtuseks anda mingi vahemiku:\n",
        "\n",
        "```\n",
        "andmed_df = pd.read_csv(\"tehingud.csv\", usecols=range(1,6))\n",
        "```\n",
        "või loetleda ükshaaval üles kõik tulbad, mida failist oma andmefreimi lisada tahame:\n",
        "\n",
        "```\n",
        "andmed_df = pd.read_csv(\"tehingud.csv\", usecols=[1,2,3,4,5])\n",
        "```\n",
        "Tasub tähele panna, et vahemiku puhul on alumine piir kaasa arvatud ja ülemine piir välja arvatud. Seega annavad mõlemad näiteks toodud käsud sama väljundi, kuna loevad sisse tulbad 1, 2, 3, 4 ja 5. Lisaks tuleks meeles pidada, et Pythonis algavad järjekorranumbrid nullist ehk siis tulp, mida me oma andmefreimi ei taha, on järjekorranumbriga 0.\n"
      ]
    },
    {
      "cell_type": "code",
      "metadata": {
        "id": "DY2ucVie3eLb"
      },
      "source": [
        "#loeme failist sisse tulbad 1-5 \n",
        "#tuleta meelde, et Pythonis algab loendamine nullist!\n",
        "andmed_df = pd.read_csv(\"tehingud.csv\", usecols=range(1,6))\n",
        "print(andmed_df)\n",
        "#Ülesanne: milliste tulpadega andmefreimi annaks meile järgmine käsk?\n",
        "#andmed_df = pd.read_csv(\"tehingud.csv\", usecols=[0,2,4])"
      ],
      "execution_count": null,
      "outputs": []
    },
    {
      "cell_type": "markdown",
      "metadata": {
        "id": "qUV6HsSI5W79"
      },
      "source": [
        "Teine variant on märgata, et meie andmete esimene üleliigne tulp sobib ideaalselt indeksiks. Indeksiks sobib tulp, kus pole korduvaid väärtusi, ehk mis võimaldab igale reale unikaalse tunnusega viidata. Kuna see antud juhul kehtib, siis võime lihtsalt lasta Pythonil see tulp indeksiks määrata. Sellisel juhul ei hakka Python lisaks enam uut indeksit genereerima. Saame seda teha *read_csv()* funktsiooni argumendi **index_col** abil.\n",
        "\n",
        "```\n",
        "andmed_df = pd.read_csv(\"tehingud.csv\", index_col=[0])\n",
        "```\n",
        "Kuna see annab sama väljundi, mis ülaltoodud *usecols=range(1,6)*, siis pole mõtet seda koodirida eraldi jooksutada. \n",
        "\n"
      ]
    },
    {
      "cell_type": "markdown",
      "metadata": {
        "id": "8w2gJzgZwkpq"
      },
      "source": [
        "Veidi ilusamal kujul saame andmefreimi kuvada aga hoopis *display()* käsu abil."
      ]
    },
    {
      "cell_type": "code",
      "metadata": {
        "id": "oM-jUGPVwsRp"
      },
      "source": [
        "display(andmed_df)"
      ],
      "execution_count": null,
      "outputs": []
    },
    {
      "cell_type": "markdown",
      "metadata": {
        "id": "XmPAbIQnyNJB"
      },
      "source": [
        "Pane tähele, et *pd.read_csv()* on üsna nutikas - faili esimene rida (tehingu ID, kliendi ID jne)loetakse automaatselt sisse kui andmeveergude pealkirjad. \n",
        "\n",
        "Lisaks saame tabeli all olevatest mõõtmetest teada ka seda, et tabelis on 4181 rida, millest igaüks koosneb viiest tulbast. Pane tähele, et automaatselt lisatud indeksite veergu nende tulpade hulka ei loeta, kuna see ei ole sisuliselt andmetabeli osa vaid üknes abivahend infole viitamiseks.\n",
        "\n",
        "Kui soovime kuvada üksnes andmefreimi esimese ridu, saame seda teha funktsiooni **.head()** abil. Sarnaselt võime kuvada hoopis andmefreimi viimased read. Seda siis funktsiooni **.tail()** abil."
      ]
    },
    {
      "cell_type": "code",
      "metadata": {
        "id": "bNfSFzRS1VMM"
      },
      "source": [
        "display(andmed_df.head(2)) #kuvab vaikimisi 5 esimest rida"
      ],
      "execution_count": null,
      "outputs": []
    },
    {
      "cell_type": "code",
      "metadata": {
        "id": "dmGqV4ZE1eE-"
      },
      "source": [
        "display(andmed_df.tail(3)) #sulgudes saame ise täpsustada, mitut rida kuvada tahame"
      ],
      "execution_count": null,
      "outputs": []
    },
    {
      "cell_type": "markdown",
      "metadata": {
        "id": "Yy5IAbpr1rNG"
      },
      "source": [
        "Veel üks hea samm, mis andmetega tutvumise juurde kuuluda võiks, on veergude andmetüüpidega tutvumine. Seda infot hoitakse andmefreimi **atribuudis** nimega **dtypes**. Oluline on meeles pidada, et andmefreimi eri tulbad võivad olla erinevat tüüpi, kuid ühes tulbas on elemendid alati ühte ja sama tüüpi. Näiteks täisarvulised väärtused tehingu id tulbas või ujukomaarvulised väärtused ostusummade tulbas."
      ]
    },
    {
      "cell_type": "code",
      "metadata": {
        "id": "lv7DZWvW1049"
      },
      "source": [
        "print(andmed_df.dtypes)"
      ],
      "execution_count": null,
      "outputs": []
    },
    {
      "cell_type": "markdown",
      "metadata": {
        "id": "eywRnph5N9OR"
      },
      "source": [
        "**NB! Mis on atribuut?** *dtypes* on meie andmefreimi **atribuut**. Atribuut on mõne muutuja mingi teatud  omadus, mis muutujat luues väärtustati (tihti meile teadmata, vaikimisi Pythoni poolt). Atribuut on ise ka muutuja, omab andmetüüpi jne. \n",
        "\n",
        "Antud juhul jättis Pandas juba andmefreimi *andmed_df* luues meelde, mis tüüpi on tabelis olevad andmed. See info salvestatigi meie andmefreimi atribuuti *dtypes*. Kui loeme sisse mingi teise tabeli *teised_andmed_df*, siis selle andmefreimi vastab atribuut võib olla erineva väärtusega.\n",
        "\n",
        "Kas paned tähele, milline on erinevus **atribuudi** ja **meetodi** poole pöördumisel? Võrdle järgnevaid:\n",
        "\n",
        "```\n",
        "# meetodid:\n",
        "pd.read_csv(\"failinimi.csv\")\n",
        "jarjend.append(3)\n",
        "\n",
        "#atribuudid:\n",
        "andmed_df.dtypes\n",
        "andmed_df.columns\n",
        "```\n",
        "\n",
        "Näeme, et atribuutide järele sulge ei kirjutata. Funktsioon ja meetod on miski, mille peame välja kutsuma, et ta tuleks ja midagi teeks - anname sellest märku sulgudega. Atribuut on lihtsalt andmefreimi või muu andmetüübi **omadus**. Atribuudid väärtustatakse uut muutujat (nt andmefreimi) luues automaatselt. Seega me lihtsalt pöördume juba olemasoleva muutuja atribuudi poole ja küsime selle väärtust näha.\n",
        "\n",
        "Kuna erinevaid termineid on päris hulganisti läbi käinud, siis peatume hetkeks ja vaatame nad üle:\n",
        "\n",
        "- **muutuja** - meie poolt loodud muutuja (*nt andmed_df*)\n",
        "- **atribuut** - meie poolt loodud muutuja omadus, tihti loodud vaikimisi (*nt andmed_df.dtypes)\n",
        "- **funktsioon** - meie poolt loodud funktsioon (*nt eelmises praksis loodud keskmise arvutamise funktsioon*)\n",
        "- **meetod** - mingi teatud muutujatüübi jaoks olemasolev funktsioon (*nt järjendite muutujatüübi jaoks olemasolev .append()*)\n",
        "\n",
        "\n",
        "\n"
      ]
    },
    {
      "cell_type": "markdown",
      "metadata": {
        "id": "0cDa-dxC4NfN"
      },
      "source": [
        "Kõikide tulpade pealkirjad saame kätte atribuudist **columns**."
      ]
    },
    {
      "cell_type": "code",
      "metadata": {
        "id": "RHZtjDsN4V3F"
      },
      "source": [
        "print(andmed_df.columns)"
      ],
      "execution_count": null,
      "outputs": []
    },
    {
      "cell_type": "markdown",
      "metadata": {
        "id": "2W65379t-cuL"
      },
      "source": [
        "Ühe konkreetse tulba saame andmefreimist kätte vana hea tuttava **indekseerimise** abil.\n",
        "\n",
        "Tuletame eelmisest nädalast meelde, et näiteks järjendist saime huvipakkuva elemendi kätte järjekorranumbriga: jarjend[1], sõnastikust aga võtme abil: sonastik[\"minu_võti\"]). Ka andmefreimi puhul paneme freimi nime järele nukrsulgudesse huvipakkuva tulba nime. Kui soovime korraga välja võtta mitut tulpa, siis anname sellest märku kahekordsete kandiliste sulgudega. Vastasel juhul ei saa Python aru, et anname ette soovitud tulpade järjendi ja käsitleb mitut tulbanime ühe nimena."
      ]
    },
    {
      "cell_type": "code",
      "metadata": {
        "id": "gsEC24wvPCMA"
      },
      "source": [
        "#ühe tulba võtmine\n",
        "print(type(andmed_df[\"maksevahend\"]))"
      ],
      "execution_count": null,
      "outputs": []
    },
    {
      "cell_type": "code",
      "metadata": {
        "id": "O4MGIhMmcn4I"
      },
      "source": [
        ""
      ],
      "execution_count": null,
      "outputs": []
    },
    {
      "cell_type": "code",
      "metadata": {
        "id": "2ON_dA3b-tA_"
      },
      "source": [
        "#mitme tulba võtmine\n",
        "print(type(andmed_df[[\"maksevahend\", \"ostusumma\"]]))"
      ],
      "execution_count": null,
      "outputs": []
    },
    {
      "cell_type": "code",
      "metadata": {
        "id": "oSeWmSfIPN3q"
      },
      "source": [
        "#mis juhtub kui kirjutada ühekordsed kandilised sulud?\n",
        "#Python ei otsi eraldi tulpasid \"maksevahend\" ja \"ostusumma\" vaid hoopis \"\"maksevahend\", \"ostusumma\"\"\"\n",
        "print(andmed_df[\"maksevahend\", \"ostusumma\"])"
      ],
      "execution_count": null,
      "outputs": []
    },
    {
      "cell_type": "markdown",
      "metadata": {
        "id": "7tytXIOhPh9A"
      },
      "source": [
        "**NB!** Tegelikult saab ka andmefreimi tulpasid vaadata kui andmefreimi atribuute. Seega kui kohtate kuskil süntaksit  \n",
        "```\n",
        "andmefreimi_nimi.tulbanimi\n",
        "```\n",
        "siis ei tasu segadusse sattuda. See on lihtsalt tulba poole pöördumine ja annab sama väljundi mis meile juba tuttav indekseerimine. Seega maksevahendite tulba saamiseks on kaks varianti:\n",
        "\n",
        "```\n",
        "#indekseerimise abil:\n",
        "andmed_df[\"maksevahend\"]\n",
        "\n",
        "#pöördudes tulba kui tabeli atribuudi ehk omaduse poole:\n",
        "andmed_df.maksevahend\n",
        "```\n",
        "\n",
        "Võid seda allolevas koodikastikeses ise järele proovida.\n",
        "\n"
      ]
    },
    {
      "cell_type": "code",
      "metadata": {
        "id": "IQIShJHAP_pb"
      },
      "source": [
        ""
      ],
      "execution_count": null,
      "outputs": []
    },
    {
      "cell_type": "markdown",
      "metadata": {
        "id": "nYNeyTKgANs6"
      },
      "source": [
        "Oletame, et tahame teada saada, milliseid erinevaid väärtusi antud tulbas üldse esineb. Kogu tulba ekraanile kuvamine ja läbi vaatamine oleks üsna tülikas. Appi tuleb Pandase funktsioon **.unique()**, mille abil saame kuvada tulba unikaalsed väärtused. Vaatame, milliseid maksevahendeid kliendid ostude eest tasumiseks kasutasid. "
      ]
    },
    {
      "cell_type": "code",
      "metadata": {
        "id": "LA7mh5dFA37M"
      },
      "source": [
        "#kutsume välja Pandas teegile omase unique() meetodi\n",
        "#ja anname sellele argumendiks andmed_df andmefreimi tulba \"maksevahend\"\n",
        "print(pd.unique(andmed_df[\"maksevahend\"]))"
      ],
      "execution_count": null,
      "outputs": []
    },
    {
      "cell_type": "markdown",
      "metadata": {
        "id": "KyxYqeItA9wn"
      },
      "source": [
        "Saime teada, et maksevahendina kasutati arvet, kaarti ja sularaha. Meid võib ka huvitada, mitu korda iga maksevahendit kasutati. Siinkohal tõttab appi funktsioon **.value_counts()**, mis loeb kokku iga unikaalse väärtuse esinemiste arvu."
      ]
    },
    {
      "cell_type": "code",
      "metadata": {
        "id": "5nTLD5qqBr8N"
      },
      "source": [
        "#kutsume andmefreimi tulbal välja meetodi value_counts()\n",
        "print(andmed_df[\"maksevahend\"].value_counts())"
      ],
      "execution_count": null,
      "outputs": []
    },
    {
      "cell_type": "markdown",
      "metadata": {
        "id": "UVtLGMmBCpsY"
      },
      "source": [
        "##1.3 Kirjeldava statistika esimene samm - statistikute arvutamine andmetel"
      ]
    },
    {
      "cell_type": "markdown",
      "metadata": {
        "id": "WdckF1lKCtIZ"
      },
      "source": [
        "Pandas teegi abil saab hõlpsasti arvutada ka andmestikku kirjeldavaid statistilisi näitajaid. Palume endale kirjeldada näiteks ostusumma tulpa. Saame seda teha funktsiooni **.describe()** abil."
      ]
    },
    {
      "cell_type": "code",
      "metadata": {
        "id": "aNDU8myFDSFg"
      },
      "source": [
        "print(andmed_df[\"ostusumma\"].describe())"
      ],
      "execution_count": null,
      "outputs": []
    },
    {
      "cell_type": "markdown",
      "metadata": {
        "id": "D12xB2TjDZqI"
      },
      "source": [
        "Siit näeme näiteks, et keskmine ostusumma oli 80.7 eurot, väikseim ostusumma oli 10 senti ja suurim ostusumma oli 383 eurot ja 50 senti. Lisaks näeme ka standardhälvet ja kvartiile. Kui soovime ainult ühte konkreetset neist väärtustest, saame seda teha vastava funktsiooni abil. Näiteks keskmise väärtuse arvutamiseks **.mean()**, miinimumi jaoks **.min()** jne."
      ]
    },
    {
      "cell_type": "code",
      "metadata": {
        "id": "iGoaX5AxEHTn"
      },
      "source": [
        "print(\"Keskmine ostusumma: \" +  str(andmed_df[\"ostusumma\"].mean()))\n",
        "print(\"Suurim ostusumma: \" +  str(andmed_df[\"ostusumma\"].max()))\n",
        "#proovi ka:\n",
        "#andmed_df[\"ostusumma\"].median()\n",
        "#andmed_df[\"ostusumma\"].min()\n",
        "#andmed_df[\"ostusumma\"].max()\n",
        "#andmed_df[\"ostusumma\"].mean()\n",
        "#andmed_df[\"ostusumma\"].std()\n",
        "#andmed_df[\"ostusumma\"].count()"
      ],
      "execution_count": null,
      "outputs": []
    },
    {
      "cell_type": "markdown",
      "metadata": {
        "id": "KTEYsyW9EfPb"
      },
      "source": [
        "Andmeid saame analüüsida ka gruppide kaupa. Jagame näiteks tehingud eri gruppidesse selle alusel, millist maksemeetodit kasutati, ning analüüsime ostusummasid igas grupis eraldi.\n",
        "\n",
        "Selle jaoks on väga oluline **groupby()** funktsioon!"
      ]
    },
    {
      "cell_type": "code",
      "metadata": {
        "id": "Er4S6TlkEqq-"
      },
      "source": [
        "#grupeerime andmetabeli maksevahendi alusel\n",
        "#selleks kutsume andmefreimi peal välja meetodi groupby, \n",
        "#millele anname argumendiks tulba, mille väärtuste järgi gruppe tahame\n",
        "\n",
        "andmed_df_grouped = andmed_df.groupby(\"maksevahend\") #tegu on nüüd erilist tüüpi muutujaga, mitte enam andmefreimiga\n",
        "\n",
        "\n",
        "#kuvame igas grupis min, max ostusumma jne\n",
        "print(andmed_df_grouped[\"ostusumma\"].describe())\n"
      ],
      "execution_count": null,
      "outputs": []
    },
    {
      "cell_type": "markdown",
      "metadata": {
        "id": "JpWtWZQRGI6r"
      },
      "source": [
        "**Väike ülesanne:** Kuva iga maksevahendi grupi kohta üksnes suurim ostusumma."
      ]
    },
    {
      "cell_type": "code",
      "metadata": {
        "id": "Mu2R9Il7GQg7"
      },
      "source": [
        "#kuvame ainult igast grupist ainult suurima ostusumma, kasutades max() funktsiooni\n",
        "print(andmed_df_grouped[\"ostusumma\"].max())"
      ],
      "execution_count": null,
      "outputs": []
    },
    {
      "cell_type": "markdown",
      "metadata": {
        "id": "9i5KIsQjGhLP"
      },
      "source": [
        "Võib-olla huvitab meid, mitu tehingut iga klient sooritas? Uurime välja! "
      ]
    },
    {
      "cell_type": "code",
      "metadata": {
        "id": "c8KmnOO9GpWC"
      },
      "source": [
        "# 1)kutsume andmefreimil välja groupby() meetodi ja anname sellele argumendiks \n",
        "# kliendi ID -> 2) tehingud grupeeritakse klientide kaupa ->\n",
        "# 3) seejärel võtame grupeeritud andmetest tehingu ID tulba\n",
        "#ja 4) loeme seal esinevad väärtused iga grupi jaoks kokku count() meetodi abil\n",
        "tehingute_count = andmed_df.groupby(\"kliendi_id\")[\"tehingu_id\"].count()\n",
        "print(tehingute_count)"
      ],
      "execution_count": null,
      "outputs": []
    },
    {
      "cell_type": "markdown",
      "metadata": {
        "id": "fdKjsdWmG2ZV"
      },
      "source": [
        "Näeme, et meil on andmestikus 1000 erinevat klienti, kes on sooritanud eri arvu tehinguid. Näiteks klient, keda tähistab ID 1000 on sooritanud lausa 19 tehingut.\n",
        "\n",
        "Sarnaselt saame leida ka sooritatud tehingute arvu ühe konkreetse kliendi jaoks."
      ]
    },
    {
      "cell_type": "code",
      "metadata": {
        "id": "LIGuWVZ8Hax6"
      },
      "source": [
        "#eelmises kastis grupeerisime andmed kliendi id alusel\n",
        "#võtame grupeeritud andmetest tehingu id tulba ja loeme selle väärtused igas grupis kokku\n",
        "#lõpuks võtame indekseerimise abil välja tulemuse kliendi kohta, kelle id on 30\n",
        "#OLULINE! Siin toimub indekseerimine kui võtme järgi otsimine, mitte teatud positsioonil oleva elemendi pärimine\n",
        "\n",
        "kliendi_30_tehingud = tehingute_count[1000]\n",
        "print(kliendi_30_tehingud)"
      ],
      "execution_count": null,
      "outputs": []
    },
    {
      "cell_type": "markdown",
      "metadata": {
        "id": "I_2xLQ6PH5mY"
      },
      "source": [
        "Klient, kelle id süsteemis on 30, on sooritanud 5 tehingut."
      ]
    },
    {
      "cell_type": "markdown",
      "metadata": {
        "id": "IQtPWSqnLxd_"
      },
      "source": [
        "##1.4 Andefreimist alamhulkade loomine"
      ]
    },
    {
      "cell_type": "markdown",
      "metadata": {
        "id": "FEVTqisnL75k"
      },
      "source": [
        "Eelnevates näidetes oleme juba näinud, et ühe tulba saame andmefreimist kätte võtmega indekseerimise abil. Näiteks maksevahendite tulbale pääsesime ligi nii:\n",
        "\n",
        "```\n",
        "andmed_df[\"maksevahend\"]\n",
        "```\n",
        "Vaatame nüüd, mis tüüpi muutuja me sellisel viisil saame.\n"
      ]
    },
    {
      "cell_type": "code",
      "metadata": {
        "id": "rUqyNfCgH1ha"
      },
      "source": [
        "yks_tulp = andmed_df[\"maksevahend\"]\n",
        "print(type(yks_tulp))"
      ],
      "execution_count": null,
      "outputs": []
    },
    {
      "cell_type": "markdown",
      "metadata": {
        "id": "ROnSqXNHvIT_"
      },
      "source": [
        "Näeme, et tegemist on Pandas teegile omase muutujatüübiga **Series** ehk eesti keeles **seeria**. Pandas teegi jaoks ei ole välja kujunenud selget eestikeelset terminoloogiat, seetõttu on paljud mõisted lihtsalt otsetõlked inglise keelest. Ega andmefreim just ka eesti keelele kõige omasem sõna ei ole. \n",
        "\n",
        "Kui meil on olukord, kus tahamegi andmefreimist lihtsalt ühte tulpa kätte saada ja sellega edasi toimetada, siis võime seeria teisendada tavaliseks järjendiks.\n",
        "\n"
      ]
    },
    {
      "cell_type": "code",
      "metadata": {
        "id": "UrH-9zS27L2I"
      },
      "source": [
        "tulp_jarjendina = list(yks_tulp)\n",
        "print(type(tulp_jarjendina))"
      ],
      "execution_count": null,
      "outputs": []
    },
    {
      "cell_type": "markdown",
      "metadata": {
        "id": "ykoaGUXZw6jb"
      },
      "source": [
        "Indekseerimise abil võime andmefreimist valida ka mitu tulpa korraga. Sellisel \n",
        "juhul on tulemuseks väiksem andmefreim."
      ]
    },
    {
      "cell_type": "code",
      "metadata": {
        "id": "89ZEbrim7ZJv"
      },
      "source": [
        "#tähelepanu, topelt kandilised sulud! mitme veeru indekseeimisel tuleb need sisendiks anda järjendina\n",
        "mitu_tulpa = andmed_df[[\"tehingu_kuupäev\", \"ostusumma\", \"maksevahend\"]] \n",
        "print(\"Muutuja mitu_tulpa on tüüpi:\", type(mitu_tulpa))\n",
        "\n",
        "#kuvame saadud andmefreimi ekraanile (saab kasutada ka print() käsku)\n",
        "display(mitu_tulpa)"
      ],
      "execution_count": null,
      "outputs": []
    },
    {
      "cell_type": "markdown",
      "metadata": {
        "id": "b47byuH08DAS"
      },
      "source": [
        "**Väike ülesanne:** Selliselt andmefreimist alamhulka valides saame ise valida, mis järjekorras tulbad väikses andmefreimis kuvatakse. Praegu kuvasime andmed kujul kuupäev, summa, maksevahend. Kirjuta alumisse koodikastikesse kood, mis koostaks andmefreimi, kus tulpadeks on tehingu id, maksevahend ja ostusumma (just sellises järjekorras). Kuva loodud andmefreim ekraanile."
      ]
    },
    {
      "cell_type": "code",
      "metadata": {
        "id": "qw2ZW31w80OW"
      },
      "source": [
        "#tehingu id, maksevahend, ostusumma"
      ],
      "execution_count": null,
      "outputs": []
    },
    {
      "cell_type": "markdown",
      "metadata": {
        "id": "R5cTf0AA8C66"
      },
      "source": [
        "Mis juhtub, kui püüame kogemata võtta andmefreimist sellist tulpa, mida seal ei ole? Vaatame."
      ]
    },
    {
      "cell_type": "code",
      "metadata": {
        "id": "R9KX8MjP766V"
      },
      "source": [
        "print(andmed_df[\"poe_nimi\"])"
      ],
      "execution_count": null,
      "outputs": []
    },
    {
      "cell_type": "markdown",
      "metadata": {
        "id": "X_3b2pfs9N96"
      },
      "source": [
        "Näeme veateadet **KeyError**: 'poe_nimi (NB! Pythoni veateateid tasub alati hakata lugema kõige lõpust, kuna üldjuhul on seal viga kõige selgemini välja toodud. Kui sellest infost ei piisa, siis saab eelnevast tekstist detaile otsida.) Kui andmefreimidega töötades näeme KeyError nimelist veateadet, siis tasub üle kontrollida, kas kasutame õiget tulbanime või oleme äkki hoopis trükivea teinud."
      ]
    },
    {
      "cell_type": "markdown",
      "metadata": {
        "id": "liuBHK96-oLG"
      },
      "source": [
        "###1.4.1 Indekseerimine .loc[] omaduse abil ridade ja veergude kaupa? "
      ]
    },
    {
      "cell_type": "markdown",
      "metadata": {
        "id": "3QmJHEYW-q2_"
      },
      "source": [
        "Pea meeles, et meie andmefreimis tähistab iga rida ühte tehingut ja igas tulbas on mingi seda tehingut kirjeldav omadus (ostusumma, kuupäev jne).\n",
        "\n",
        "Siiani oleme vaadanud, kuidas võtta andmefreimist välja üksikuid tulpasid. Näiteks vaatasime iga tehingu kohta selle kuupäeva, ostusummat ja maksevahendit. \n",
        "\n",
        "Teine võimalus andmefreimist alamhulkade võtmiseks on ridade kaupa. Sellisel juhul saame kätte info ainult meile huvipakkuvate tehingute kohta. Tihtipeale soovime andmefreimist kätte saada neid ridu, mis vastavad mingitele tingimustele. Näiteks tahame leida kõiki tehinguid, mille sooritajaks on klient, kelle id on 30 või soovime näha kõiki tehinguid, mis sooritati ühel kindlal kuupäeval. \n",
        "\n",
        "Siinkohal tuleb meile appi andmefreimi omadus **.loc[]**, millega saab andmefreimist välja võtta ridu ja veerge, kasutades **nende nimesid**. Veergude nimed on meil failist loetud muutujanimed. Ridade nimed on indeksid ehk numbrid alates nullist, mis andmefreimi loodes automaatselt lisati. Tegelikult saab andmeridade indeksid ka ise määrata, näiteks kasutada indeksina tehingu id-d (kasutades index_col=2 faili sisse lugedes). \n",
        "\n",
        "Omadust .loc[]saab kasutada mitmel erineval moel. \n",
        "\n",
        "Esiteks saame .loc[] abil andmetest välja võtta ridu nende indeksi alusel."
      ]
    },
    {
      "cell_type": "code",
      "metadata": {
        "id": "Us5MZM3b9L5M"
      },
      "source": [
        "#meeldetuletus, milline meie andmestik välja näeb\n",
        "display(andmed_df.head(3))\n",
        "\n",
        "#üks rida indeksi alusel\n",
        "#saame tulemuseks seeria\n",
        "yks_rida = andmed_df.loc[2]\n",
        "print(yks_rida)"
      ],
      "execution_count": null,
      "outputs": []
    },
    {
      "cell_type": "code",
      "metadata": {
        "id": "EONM_ZHqFdKR"
      },
      "source": [
        "#mitu rida indeksi alusel\n",
        "#saame tulemuseks andmefreimi\n",
        "#NB! pööra tähelepanu topelt kandilistele sulgudele!\n",
        "mitu_rida = andmed_df.loc[[2, 5, 9]]\n",
        "display(mitu_rida)"
      ],
      "execution_count": null,
      "outputs": []
    },
    {
      "cell_type": "markdown",
      "metadata": {
        "id": "PLIji0aSGktd"
      },
      "source": [
        "Saame valitud rea puhul täpsustada ka seda, milliseid tulpasid tahame."
      ]
    },
    {
      "cell_type": "code",
      "metadata": {
        "id": "34JLF1QIGsEx"
      },
      "source": [
        "#element enne koma tähistab rida ja element peale koma tähistab veergu\n",
        "display(andmed_df.head(10))\n",
        "\n",
        "rida_ja_tulp = andmed_df.loc[4, \"tehingu_kuupäev\"]\n",
        "print(rida_ja_tulp)"
      ],
      "execution_count": null,
      "outputs": []
    },
    {
      "cell_type": "markdown",
      "metadata": {
        "id": "SPdcy6E_FzQD"
      },
      "source": [
        "Saame valida ka mitu rida ja mitu tulpa. Näiteks indeksitele 2 ja 9 vastavad tehingu id ja maksevahendi."
      ]
    },
    {
      "cell_type": "code",
      "metadata": {
        "id": "mDSHc9p2GLmg"
      },
      "source": [
        "# [viited ridadele], [viited tulpadele]\n",
        "read_ja_tulbad = andmed_df.loc[[2, 8], [\"tehingu_id\", \"maksevahend\"]]\n",
        "display(read_ja_tulbad)"
      ],
      "execution_count": null,
      "outputs": []
    },
    {
      "cell_type": "markdown",
      "metadata": {
        "id": "PdP2b0e2UCcl"
      },
      "source": [
        "Nagu näidetest näha, kehtib alati loogika, et esmaslt pöördutakse .loc[] kaudu ridade ja seejärel veergude poole. Kui soovime ühte rida, on süntaks selline\n",
        "\n",
        "\n",
        "```\n",
        "andmed_df.loc[rea_indeks]\n",
        "```\n",
        "\n",
        "Kui soovime mitut rida, siis kirjutame rea indeksite loetelu veel eraldi kandiliste sulgude sisse. Sellega anname Pythonile mõista, et mõlemad (kõik) märksõnad viitavad ridadele.\n",
        "\n",
        "```\n",
        "andmed_df.loc[[rea_indeks_1, rea_indeks_2]]\n",
        "```\n",
        "Kui aga soovime kätte saada ühte rida ja ühte konkreetset veergu, on süntaks selline:\n",
        "\n",
        "```\n",
        "andmed_df.loc[rea_indeks, veeru_nimi]\n",
        "```\n",
        "Kuna siin ei ole kahekordseid kandilisi sulge, tõlgendab Python koma kui midagi mis eraldab ridu ja veerge. Kui tahame kätte saada mitut rida ja mitut veergu, siis peame nii ridade kui veergude nimed panema eraldi kandilistesse sulgudesse:\n",
        "\n",
        "```\n",
        "andmed_df.loc[[rida_1, rida_2], [veerg_1, veerg_2]]\n",
        "```\n",
        "Python näeb, et on kaks erinevat loetelu: esimene neist käib ridade ja teine veergude kohta.\n",
        "\n",
        "\n",
        "\n",
        "\n",
        "\n",
        "\n"
      ]
    },
    {
      "cell_type": "markdown",
      "metadata": {
        "id": "-NgZlCT8NaS0"
      },
      "source": [
        "### Mingile ingimusele vastavate andmete valimine\n",
        "Tihti tuleb kasuks ka see, et .loc[] võimaldab välja võttu ridu, mille mingi veeru väärtused **vastavad mõnele konkreetsele tingimusele**. Näiteks tahame leida kõik tehingud, mille ostusumma on suurem kui 200 eurot või kõik tehingud, mis sooritati kindlal kuupäeval. Siinkohal tulevad mängu tingimuslaused, mida nägime põgusalt **tõeväärtuste** andmetüübiga tutvudes."
      ]
    },
    {
      "cell_type": "code",
      "metadata": {
        "id": "fXL2cAksNvru"
      },
      "source": [
        "#otsime loc abil ridu, kus tulba \"ostusumma\" väärtus on suurem kui 200\n",
        "suured_tehingud = andmed_df.loc[andmed_df[\"ostusumma\"] > 200]\n",
        "display(suured_tehingud)"
      ],
      "execution_count": null,
      "outputs": []
    },
    {
      "cell_type": "markdown",
      "metadata": {
        "id": "qLy623_ERuFb"
      },
      "source": [
        "Siinkohal toimub üks veidi **eriline indekseerimine - tõeväärtuste alusel.**\n",
        "\n",
        "Võtame ülemise käsu osadeks lahti: esmalt me võrdleme ostusummasid 200-ga, mis tagastab meile Pandase seeria, mis sisaldab tõeväärtusi (boolean). Selles seerias on iga rea kohta üks **tõe**väärtus - kas sellel real oli tingimus täidetud (True või False).\n",
        "\n",
        "Seejärel võtab *indekseerimine* freimist välja read, millele vastab tõeväärtuste seerias \"True\"."
      ]
    },
    {
      "cell_type": "code",
      "metadata": {
        "id": "FIXDOuRERWm-"
      },
      "source": [
        "tõeväärtused = andmed_df[\"ostusumma\"] > 200\n",
        "print(tõeväärtused)\n",
        "print(type(tõeväärtused))\n",
        "\n",
        "suured_tehingud = andmed_df.loc[tõeväärtused]\n",
        "#suured_tehingud = andmed_df[tõeväärtused]\n",
        "\n",
        "display(suured_tehingud)"
      ],
      "execution_count": null,
      "outputs": []
    },
    {
      "cell_type": "markdown",
      "metadata": {
        "id": "sl0CpoeZyAGB"
      },
      "source": [
        "Reegel: kui paneme indekseerimise nurksulgude vahele tõeväärtuste seeria, siis tagastab indekseerimine need elemendid, millele tõeväärtuste järjendis vastas True. Tõeväärtuste järjendi pikkus peab olema sama kui indekseeritava objekti suurus vastavas dimensioonis."
      ]
    },
    {
      "cell_type": "code",
      "metadata": {
        "id": "gV62LbDEzWp4"
      },
      "source": [
        "#Tõeväärtustega saaksime ka indekseerida veerge - mõnede muude andmete puhul oleks\n",
        "# see kasulik näiteks puuduvaid andmeid sisaldavate veergude eemaldamiseks:\n",
        "# 1) tuvastame veerud milles on vead ja paneme neile vastama False 2)indekseerime\n",
        "suured_tehingud = andmed_df.loc[tõeväärtused,[False, False, False, True, True]]\n",
        "display(suured_tehingud)"
      ],
      "execution_count": null,
      "outputs": []
    },
    {
      "cell_type": "markdown",
      "metadata": {
        "id": "x-dKRZbQZYN_"
      },
      "source": [
        "###Kuidas seada ostingule  mitu kriteeriumit?\n",
        "Otsingukriteeriumeid võime seada ka mitu. Siin tulevad mängu loogilised avaldised **ja** (ingl k. *and*) ja **või** (ingl k. *or*). \n",
        "\n",
        "Nägime eelmises praktikumis tingimuslauseid näiteks,\n",
        "```\n",
        "vanus > 18\n",
        "vanus == 20\n",
        "```\n",
        "Mitut tingumust saame kombineerida märksõnade **and** ja **or** abil:\n",
        "\n",
        "```\n",
        "vanus >18 and vanus < 30\n",
        "```\n",
        "tagastab väärtuse \"True\" vaid juhul, kui muutuja \"vanus\" on vahemikus 19-29.\n",
        "Algoritmiliselt toimib asi nii, et Python esmat väärtustab individuaalsete võrdluste väärtused ning siis lihtsalt kombineerib, näiteks\n",
        "\n",
        "```\n",
        "False and True\n",
        "False or True\n",
        "```\n",
        "\n",
        "\n",
        "\n",
        "Väärtustame vanuse mingile väärtusele ja proovime:\n",
        "```\n",
        "vanus = 18\n",
        "print(vanus > 18 and vanus > 3)\n",
        "print(vanus > 18 or vanus > 3)\n",
        "```\n",
        "\n",
        "Mis sa arvad, mis tõeväärtuse kumbki neist tagastab? Miks? Proovime\n",
        "\n"
      ]
    },
    {
      "cell_type": "code",
      "metadata": {
        "id": "QjMgJLICZXl1"
      },
      "source": [
        "vanus = 18\n",
        "print(vanus > 18 and vanus < 25 )\n",
        "print(vanus > 68 or vanus > 15)\n"
      ],
      "execution_count": null,
      "outputs": []
    },
    {
      "cell_type": "markdown",
      "metadata": {
        "id": "XEr-nWxjbGka"
      },
      "source": [
        "Näeme, et esimene lause on väär, teine aga tõene. Miks? Sellepärast, et loogiline operaator **and** nõuab, et tõesed oleks mõlemad lausepooled ehk talle eelnev **ja** talle järgnev. 18 < 25 on küll tõene, aga 18 > 18 mitte, seega kogu lause tervikuna on väär.\n",
        "\n",
        "**Or** operaatorile aga piisab, kui tõene on üks **või** teine lausepool. Seega kuna 18 > 15 on tõene, siis on ka kogu lause tõene.\n",
        "\n",
        "**Kui meil on tegu aga mitte üksikute tõeväärtuste kombineerimisega \"ja/või\" abil, vaid meil on tegu järjendite/seeriatega, mis sisaldavad tõeväärtusi, siis satub Python hätta. Mida võiks teha järgnev rida?**\n",
        "```\n",
        "[True, False] and [True, True]\n",
        "```"
      ]
    },
    {
      "cell_type": "code",
      "metadata": {
        "id": "28PrJFtdPtjp"
      },
      "source": [
        "[True, False] and [True, True]"
      ],
      "execution_count": null,
      "outputs": []
    },
    {
      "cell_type": "markdown",
      "metadata": {
        "id": "Shvvw8KAP9Xe"
      },
      "source": [
        "Kui te eeldasite, et järjendeid \"and\" operaatoriga kombineerides võetakse element elemendi haaval mõlemast järjendist väärtusi ja kombineeritakse need **and** operaatori abi, siis te kahjuks eksisite. \n",
        "\n",
        "Selline kahe tõeväärtuste järjendi või seeria kombineerimie oleks aga just see, mida meil on vaja, et mitme tingimuse järgi andmeridu valida. Me saame lihtsasti iga tingimuse jaoks tõeväärtuse iga rea kohta (seeria kujul), nagu ülal. Seejärel tahaksime rea kaupa tingimusi kombineerida **and/or** abil vastavalt vajadusele."
      ]
    },
    {
      "cell_type": "markdown",
      "metadata": {
        "id": "G6onJFrgP6AW"
      },
      "source": [
        "Et Pythonis vaikimisi pole element-haaval tõeväärtuste kombineerimine defineeritud, on Pandase seeriate jaoks loodud operaatorid **&** (and) ja **|** (or).\n",
        "\n",
        "Need võtavad kaks sama pikka seeriat ning kombineerivad ükshaaval paarikaupa seerias sisalduvad tõeväärtused."
      ]
    },
    {
      "cell_type": "code",
      "metadata": {
        "id": "vMWKa1-HTr14"
      },
      "source": [
        "esimene_tingumus=pd.Series([True, False, False])\n",
        "teine_tingumus=pd.Series([True, True, False])\n",
        "\n",
        "display(esimene_tingumus & teine_tingumus)\n",
        "display(esimene_tingumus | teine_tingumus)"
      ],
      "execution_count": null,
      "outputs": []
    },
    {
      "cell_type": "markdown",
      "metadata": {
        "id": "L2XzOV6rUOY-"
      },
      "source": [
        "Kui soovime näiteks andmetest välja võtta read, kus kliendi id on 1000 ja ostusumma on suurem kui 100, siis:\n",
        "1. loome võrdluse abil tõeväärtuste seeria, kus elemendi väärtus on True kui kliendi_id võrdub 1000\n",
        "2. loome seeria, kus elemendi väärtus on True kui summa on suurem kui 100\n",
        "3. kombineerime need **&** operaatori abil\n",
        "4. pärime andmefreimist read, kus mõlemad ringimused on tõesed (ehk kombineeritud seerias on vastaval kohal True)"
      ]
    },
    {
      "cell_type": "code",
      "metadata": {
        "id": "Y_BD4dDwbvwH"
      },
      "source": [
        "kas_klient1000 = andmed_df[\"kliendi_id\"] == 1000\n",
        "kas_summa_suur = andmed_df[\"ostusumma\"] > 100\n",
        "kombineeritud = kas_klient1000 & kas_summa_suur\n",
        "\n",
        "display(andmed_df.loc[kombineeritud])\n",
        "\n",
        "#Saab ka kõik need asjad ühel real kirjutada:\n",
        "#display(andmed_df.loc[kas_klient1000 & kas_summa_suur])\n",
        "display(andmed_df.loc[(andmed_df[\"kliendi_id\"] == 1000) & (andmed_df[\"ostusumma\"] > 100)]) #NB sulud!"
      ],
      "execution_count": null,
      "outputs": []
    },
    {
      "cell_type": "markdown",
      "metadata": {
        "id": "5i1i_jIwPLhn"
      },
      "source": [
        "Ülesanne: kuvage kõik andmeread, kus ostusumma on väiksem kui 100 eurot **või** suurem kui 200 eurot. Selle jaoks on vaja kasutada | operaatorit."
      ]
    },
    {
      "cell_type": "code",
      "metadata": {
        "id": "SNXEEX1lPjNP"
      },
      "source": [
        "kas_väiksem_kui_100 = andmed_df[\"ostusumma\"] < 100 #siia defineerige esimene tõeväärtuste seera\n",
        "kas_suurem_kui_200 = andmed_df[\"ostusumma\"] > 200 #siia defineerige teine tõeväärtuste seera\n",
        "kombinn = kas_väiksem_kui_100 | kas_suurem_kui_200 #kombineerige need \"või\" abil\n",
        "\n",
        "display(andmed_df.loc[kombinn])\n",
        "\n",
        "muutuja = andmed_df.loc[kombinn]"
      ],
      "execution_count": null,
      "outputs": []
    },
    {
      "cell_type": "markdown",
      "metadata": {
        "id": "iPISxyRsVgIT"
      },
      "source": [
        "###1.4.2 Tulba ja veeru järjekorranumbri järgi indekseerimine .iloc[] omaduse abil?"
      ]
    },
    {
      "cell_type": "markdown",
      "metadata": {
        "id": "hQwessC3WJ0x"
      },
      "source": [
        "Kui eelnevaga .loc[] toimimise põhimõte selgeks sai, siis ei ole **.iloc** mõistmisega ka mingeid probleeme, kuna see on väga sarnane. Erinevus seisneb selles, et kui .loc[] otsis infot siltide/nimede järgi (andsime ette rea indeksi ja tulba nime), siis .iloc[] teeb sama täisarvuliste järjekorranumbrite abil. Ehk et peame ette andma, mitmendat rida ja mitmendat tulpa saada tahame. Vaatame kohe näiteid.\n",
        "\n",
        "Võtame rea järjekorranumbriga 1 (ehk teise tehingu, kuna järjekorranumbrid algavad nulist)."
      ]
    },
    {
      "cell_type": "code",
      "metadata": {
        "id": "ZdCsLDO5Wmbg"
      },
      "source": [
        "display(muutuja)\n",
        "print(muutuja.iloc[2])\n",
        "\n",
        "# täpselt sama tulemus nagu enne, sest meie indeksid vastasid järjekorranumbritele\n",
        "print(muutuja.loc[2])"
      ],
      "execution_count": null,
      "outputs": []
    },
    {
      "cell_type": "markdown",
      "metadata": {
        "id": "_VXx3paaXEGn"
      },
      "source": [
        "Võtame teise rea teise tulba väärtuse ehk teise tehingu id."
      ]
    },
    {
      "cell_type": "code",
      "metadata": {
        "id": "mHW3lkd4XIER"
      },
      "source": [
        "print(andmed_df.iloc[1, 1])\n",
        "#Ennist tegime:\n",
        "#print(andmed_df.loc[1, \"tehingu_id\"])"
      ],
      "execution_count": null,
      "outputs": []
    },
    {
      "cell_type": "markdown",
      "metadata": {
        "id": "e8vrO1NWXTxQ"
      },
      "source": [
        "Võtame read 3 ja 5 ning tulbad 2 ja 5 (kuupäev ja maksevahend)."
      ]
    },
    {
      "cell_type": "code",
      "metadata": {
        "id": "C5L40qq4XcNS"
      },
      "source": [
        "#kasutan display käsku, kuna tulemus on mitmemõõtmeline (andmefreim) \n",
        "#ja display kuvab selle lihtsalt ilusamalt kui print()\n",
        "display(andmed_df.iloc[[2, 4], [1, 4]])"
      ],
      "execution_count": null,
      "outputs": []
    },
    {
      "cell_type": "markdown",
      "metadata": {
        "id": "aqVJkIFXX9HY"
      },
      "source": [
        "Kui tahame võtta mitut järjestikkust rida või tulpa, siis ei pea me kõiki järjekorranumbreid ükshaaval välja kirjutama (nt 1, 2, 3, 4), vaid anname ette soovitud vahemiku kujul **algus:lõpp**. Näiteks 1:4. \n",
        "\n",
        "**NB!** Vahemiku ümber teisi kandilisi sulge ei panda. Pane ka tähele, et etteantud vahemikust on alguse number kaasa arvatud kuid lõppu tähistav number mitte. Seega kui tahame saada kätte ridu indeksitega 0, 1, 2, 3, 4 siis peame vahemikuks andma 0:5. Proovime."
      ]
    },
    {
      "cell_type": "code",
      "metadata": {
        "id": "ldikzb0eYPYa"
      },
      "source": [
        "#esimese 5 rea teine ja viies tulp\n",
        "display(andmed_df.iloc[0:5, [1, 4]])"
      ],
      "execution_count": null,
      "outputs": []
    },
    {
      "cell_type": "code",
      "metadata": {
        "id": "J57Ba6bYYmVF"
      },
      "source": [
        "#esimese 5 rea esimesed 3 tulpa\n",
        "display(andmed_df.iloc[0:5, 0:4])"
      ],
      "execution_count": null,
      "outputs": []
    },
    {
      "cell_type": "markdown",
      "metadata": {
        "id": "IlzfhFqFdF48"
      },
      "source": [
        "##1.5 Puuduvad andmed"
      ]
    },
    {
      "cell_type": "markdown",
      "metadata": {
        "id": "8iN5eN4sdoZR"
      },
      "source": [
        "Väga tihti peame töötama andmetega, kus on midagi puudu."
      ]
    },
    {
      "cell_type": "code",
      "metadata": {
        "id": "SKx2OOMvRUjR"
      },
      "source": [
        "#kui mõned ostusummad oleksid sisseloetavas failis puudu olnud, siis:\n",
        "!wget https://courses.cs.ut.ee/2021/atva_stataine/fall/uploads/Main/tehingud_puuduvatega.csv\n",
        "\n",
        "vigane_andmefreim = pd.read_csv(\"tehingud_puuduvatega.csv\", index_col=[0])\n",
        "display(vigane_andmefreim.head(6))"
      ],
      "execution_count": null,
      "outputs": []
    },
    {
      "cell_type": "code",
      "metadata": {
        "id": "dMpJkBPCUnA1"
      },
      "source": [
        "#isnull tagastab need, mis on puudu, notnull need mis pole\n",
        "\n",
        "puudu = pd.isnull(vigane_andmefreim[\"ostusumma\"])\n",
        "olemas = pd.notnull(vigane_andmefreim[\"ostusumma\"])\n",
        "\n",
        "\n",
        "puhas_freim = vigane_andmefreim.loc[olemas]\n",
        "\n",
        "print(display(puhas_freim))"
      ],
      "execution_count": null,
      "outputs": []
    },
    {
      "cell_type": "markdown",
      "metadata": {
        "id": "56bzbSC_wcWr"
      },
      "source": [
        "Näeme, et esimesed read on nüüd kadunud ja meil on alles ainult korrektsed andmepunktid.\n",
        "Mõned Pandasesse sisse ehitatud funktsioonid oskavad puuduvate väärtuste asendamist ise automaatselt teha, aga ei tasu riskida, et jätame need sisse ja hiljem unustame ning kasutame tööriistu, mis nendega hakkama ei saa."
      ]
    },
    {
      "cell_type": "code",
      "metadata": {
        "id": "zfjl3dkFwc_J"
      },
      "source": [
        "print(vigane_andmefreim[\"ostusumma\"].describe())\n",
        "print(puhas_freim[\"ostusumma\"].describe())"
      ],
      "execution_count": null,
      "outputs": []
    },
    {
      "cell_type": "markdown",
      "metadata": {
        "id": "5QjJAQKg6V2t"
      },
      "source": [
        "Kui puuduvaid andmeid on palju ja meil ei jääks ridu eemaldades palju \"puhtaid\" ridu alles, siis tuleb mõelda puuduvate väärtuste tagantjärelel täitmisele, ehk asendamisele."
      ]
    },
    {
      "cell_type": "code",
      "metadata": {
        "id": "wpRuUeY9YiNW"
      },
      "source": [
        "#andmete asendamine\n",
        "keskmine = vigane_andmefreim[\"ostusumma\"].mean() #jätab NaN arvestamata, väga tubli\n",
        "\n",
        "#asendamine fillna() funktsiooni abil\n",
        "\n",
        "# loome koopia oma andmetest\n",
        "#parandatud_andmefreim = andmed_df\n",
        "parandatud_andmefreim = vigane_andmefreim.copy() # lihtsalt võrdusmärk viitaks, copy loob uue muutuja\n",
        "\n",
        "parandatud_andmefreim[\"ostusumma\"] = vigane_andmefreim[\"ostusumma\"].fillna(keskmine)\n",
        "#parandatud_andmefreim[\"ostusumma\"] = vigane_andmefreim[\"ostusumma\"].fillna(0.0)\n",
        "\n",
        "print(display(parandatud_andmefreim))\n"
      ],
      "execution_count": null,
      "outputs": []
    },
    {
      "cell_type": "markdown",
      "metadata": {
        "id": "mI4kpMTUxn35"
      },
      "source": [
        "Väärtusi asendades tuleb mõelda, kuidas see mõjutab analüüsitulemusi. Null pole alati parim väärtus, mida kasutada."
      ]
    },
    {
      "cell_type": "code",
      "metadata": {
        "id": "4HLv0-4-xoR7"
      },
      "source": [
        "print(vigane_andmefreim[\"ostusumma\"].mean())\n",
        "print(puhas_freim[\"ostusumma\"].mean())"
      ],
      "execution_count": null,
      "outputs": []
    },
    {
      "cell_type": "markdown",
      "metadata": {
        "id": "5m3DIsW8eNA7"
      },
      "source": [
        "##1.6 Andmefreimi eksportimine csv faili"
      ]
    },
    {
      "cell_type": "markdown",
      "metadata": {
        "id": "gOTqE_PVeVn_"
      },
      "source": [
        "Kui oleme oma andmete kallal töö lõpetanud või loonud uusi olulisi andmetabeleid, võime tahta neid eraldi failides säilitada. Selleks ekspordime andmed andmefreimist csv faili, mille saab hiljem vajadusel uuesti sisse lugeda (nagu praktikumi alguses oma andmed failist sisse lugesime). Faili salvestamine käib käsu **.to_csv** abil, mis võtab argumendiks loodava faili nime. Kui me ei taha, et faili kirjutataks sisse indeks, mille Python automaatselt andmefreimile lõi, siis tuleb juurde lisada ka märkus **index=False**.\n"
      ]
    },
    {
      "cell_type": "code",
      "metadata": {
        "id": "JlDOCgncfLL7"
      },
      "source": [
        "parandatud_andmefreim.to_csv(\"puhastatud_tehingud.csv\", index=False)"
      ],
      "execution_count": null,
      "outputs": []
    },
    {
      "cell_type": "markdown",
      "metadata": {
        "id": "zvseZ3m8fgb6"
      },
      "source": [
        "Kuna töötame Colabis, siis salvestub fail virtuaalsesse töökeskkonda ja oma arvutisse peate selle eraldi alla laadima. Lehekülje vasakust servast võtame lahti kõige alumise nupu, milleks on *files*. Seal kajastuvad kõik töökeskkonnas olevad failid. Kui äsjaloodud faili sealt ei leia, tuleb failide nimekirja ilmselt värskendada:\n",
        "\n",
        "\n",
        "Soovitud faili nimel saab teha paremkliki (või vajutada kolmele punktile nime järel) ning avanevast menüüst valida *download* või *laadi alla*."
      ]
    }
  ]
}